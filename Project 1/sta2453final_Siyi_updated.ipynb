{
  "nbformat": 4,
  "nbformat_minor": 0,
  "metadata": {
    "anaconda-cloud": {},
    "kernelspec": {
      "display_name": "Python 3",
      "language": "python",
      "name": "python3"
    },
    "language_info": {
      "codemirror_mode": {
        "name": "ipython",
        "version": 3
      },
      "file_extension": ".py",
      "mimetype": "text/x-python",
      "name": "python",
      "nbconvert_exporter": "python",
      "pygments_lexer": "ipython3",
      "version": "3.7.4"
    },
    "latex_envs": {
      "LaTeX_envs_menu_present": true,
      "autoclose": false,
      "autocomplete": true,
      "bibliofile": "biblio.bib",
      "cite_by": "apalike",
      "current_citInitial": 1,
      "eqLabelWithNumbers": true,
      "eqNumInitial": 1,
      "hotkeys": {
        "equation": "Ctrl-E",
        "itemize": "Ctrl-I"
      },
      "labels_anchors": false,
      "latex_user_defs": false,
      "report_style_numbering": false,
      "user_envs_cfg": false
    },
    "toc": {
      "base_numbering": 1,
      "nav_menu": {},
      "number_sections": true,
      "sideBar": true,
      "skip_h1_title": false,
      "title_cell": "Table of Contents",
      "title_sidebar": "Contents",
      "toc_cell": false,
      "toc_position": {},
      "toc_section_display": true,
      "toc_window_display": false
    },
    "varInspector": {
      "cols": {
        "lenName": 16,
        "lenType": 16,
        "lenVar": 40
      },
      "kernels_config": {
        "python": {
          "delete_cmd_postfix": "",
          "delete_cmd_prefix": "del ",
          "library": "var_list.py",
          "varRefreshCmd": "print(var_dic_list())"
        },
        "r": {
          "delete_cmd_postfix": ") ",
          "delete_cmd_prefix": "rm(",
          "library": "var_list.r",
          "varRefreshCmd": "cat(var_dic_list()) "
        }
      },
      "types_to_exclude": [
        "module",
        "function",
        "builtin_function_or_method",
        "instance",
        "_Feature"
      ],
      "window_display": false
    },
    "colab": {
      "name": "sta2453final_Siyi.ipynb",
      "provenance": [],
      "collapsed_sections": []
    }
  },
  "cells": [
    {
      "cell_type": "code",
      "metadata": {
        "colab": {
          "base_uri": "https://localhost:8080/"
        },
        "id": "nrUmkXP3-YIM",
        "outputId": "52fef61e-2fb1-465f-8d44-02ee122b4f80"
      },
      "source": [
        "import nltk\n",
        "nltk.download('stopwords')"
      ],
      "execution_count": 8,
      "outputs": [
        {
          "output_type": "stream",
          "text": [
            "[nltk_data] Downloading package stopwords to /root/nltk_data...\n",
            "[nltk_data]   Package stopwords is already up-to-date!\n"
          ],
          "name": "stdout"
        },
        {
          "output_type": "execute_result",
          "data": {
            "text/plain": [
              "True"
            ]
          },
          "metadata": {
            "tags": []
          },
          "execution_count": 8
        }
      ]
    },
    {
      "cell_type": "code",
      "metadata": {
        "ExecuteTime": {
          "end_time": "2020-12-06T06:02:45.549704Z",
          "start_time": "2020-12-06T06:02:45.542311Z"
        },
        "id": "qD6LxOLF-YIN"
      },
      "source": [
        "import pandas as pd\n",
        "import numpy as np\n",
        "from wordcloud import WordCloud, STOPWORDS, ImageColorGenerator\n",
        "from nltk.corpus import stopwords\n",
        "stop_common=set(stopwords.words('english'))\n",
        "import matplotlib.pyplot as plt\n",
        "import requests\n",
        "import random \n",
        "from collections import OrderedDict\n",
        "import bs4\n",
        "from bs4 import BeautifulSoup\n",
        "import re\n",
        "from tqdm import tqdm\n",
        "from tqdm import tqdm_notebook\n",
        "import time\n",
        "from time import sleep\n",
        "from sklearn.model_selection import cross_val_score, StratifiedKFold, train_test_split\n",
        "from sklearn.tree import DecisionTreeClassifier\n",
        "from sklearn.ensemble import RandomForestClassifier, ExtraTreesClassifier, BaggingClassifier, AdaBoostClassifier, GradientBoostingClassifier\n",
        "from sklearn.metrics import accuracy_score\n",
        "from sklearn.feature_extraction.text import CountVectorizer, HashingVectorizer, TfidfVectorizer"
      ],
      "execution_count": 17,
      "outputs": []
    },
    {
      "cell_type": "code",
      "metadata": {
        "ExecuteTime": {
          "end_time": "2020-12-06T06:20:57.799030Z",
          "start_time": "2020-12-06T06:20:57.794644Z"
        },
        "colab": {
          "base_uri": "https://localhost:8080/"
        },
        "id": "XVIKNvUA-YIN",
        "outputId": "bd396ea8-fce9-4508-a187-c12dba310256"
      },
      "source": [
        "cities = ['Toronto%2C+ON', 'Waterloo%2C+ON', 'Montreal%2C+QC', 'Vancouver%2C+BC', 'Calgary%2C+AB', 'Ottawa%2C+ON', 'Québec+City%2C+QC', 'Brampton%2C+ON', 'Halifax%2C+NS', 'Hamilton%2C+ON', 'Surrey%2C+BC', 'Victoria%2C+BC', 'Kitchener%2C+ON', 'Winnipeg%2C+MB', 'Edmonton%2C+AB']\n",
        "len(cities)"
      ],
      "execution_count": 18,
      "outputs": [
        {
          "output_type": "execute_result",
          "data": {
            "text/plain": [
              "15"
            ]
          },
          "metadata": {
            "tags": []
          },
          "execution_count": 18
        }
      ]
    },
    {
      "cell_type": "code",
      "metadata": {
        "id": "H2woGhzPR3fm"
      },
      "source": [
        "headers_list = [{'Connection': 'keep-alive', 'Upgrade-Insecure-Requests': '1', 'User-Agent': 'Mozilla/5.0 (Windows NT 10.0; Win64; x64) AppleWebKit/537.36 (KHTML, like Gecko) Chrome/83.0.4103.97 Safari/537.36', 'Accept': 'text/html,application/xhtml+xml,application/xml;q=0.9,image/webp,image/apng,*/*;q=0.8,application/signed-exchange;v=b3;q=0.9', 'Sec-Fetch-Site': 'same-origin', 'Sec-Fetch-Mode': 'navigate', 'Sec-Fetch-User': '?1', 'Sec-Fetch-Dest': 'document', 'Referer': 'https://www.google.com/', 'Accept-Encoding': 'gzip, deflate, br', 'Accept-Language': 'en-US,en;q=0.9'}\n",
        "#IGNORE THIS BS\n",
        "    #        {\n",
        "    #     \"User-Agent\": \"Mozilla/5.0 (Macintosh; Intel Mac OS X 10.15; rv:77.0) Gecko/20100101 Firefox/77.0\",\n",
        "    #     \"Accept\": \"text/html,application/xhtml+xml,application/xml;q=0.9,image/webp,*/*;q=0.8\",\n",
        "    #     \"Accept-Language\": \"en-US,en;q=0.5\",\n",
        "    #     \"Referer\": \"https://www.google.com/\",\n",
        "    #     \"DNT\": \"1\",\n",
        "    #     \"Connection\": \"keep-alive\",\n",
        "    #     \"Upgrade-Insecure-Requests\": \"1\"\n",
        "    #       },\n",
        "    # # Firefox 77 Windows\n",
        "    # {\n",
        "    #     \"User-Agent\": \"Mozilla/5.0 (Windows NT 10.0; Win64; x64; rv:77.0) Gecko/20100101 Firefox/77.0\",\n",
        "    #     \"Accept\": \"text/html,application/xhtml+xml,application/xml;q=0.9,image/webp,*/*;q=0.8\",\n",
        "    #     \"Accept-Language\": \"en-US,en;q=0.5\",\n",
        "    #     \"Accept-Encoding\": \"gzip, deflate, br\",\n",
        "    #     \"Referer\": \"https://www.google.com/\",\n",
        "    #     \"DNT\": \"1\",\n",
        "    #     \"Connection\": \"keep-alive\",\n",
        "    #     \"Upgrade-Insecure-Requests\": \"1\"\n",
        "    # },\n",
        "    # # Chrome 83 Mac\n",
        "    # {\n",
        "    #     \"Connection\": \"keep-alive\",\n",
        "    #     \"DNT\": \"1\",\n",
        "    #     \"Upgrade-Insecure-Requests\": \"1\",\n",
        "    #     \"User-Agent\": \"Mozilla/5.0 (Macintosh; Intel Mac OS X 10_15_5) AppleWebKit/537.36 (KHTML, like Gecko) Chrome/83.0.4103.97 Safari/537.36\",\n",
        "    #     \"Accept\": \"text/html,application/xhtml+xml,application/xml;q=0.9,image/webp,image/apng,*/*;q=0.8,application/signed-exchange;v=b3;q=0.9\",\n",
        "    #     \"Sec-Fetch-Site\": \"none\",\n",
        "    #     \"Sec-Fetch-Mode\": \"navigate\",\n",
        "    #     \"Sec-Fetch-Dest\": \"document\",\n",
        "    #     \"Referer\": \"https://www.google.com/\",\n",
        "    #     \"Accept-Encoding\": \"gzip, deflate, br\",\n",
        "    #     \"Accept-Language\": \"en-GB,en-US;q=0.9,en;q=0.8\"\n",
        "    # },\n",
        "    # # Chrome 83 Windows \n",
        "    # {\n",
        "    #     \"Connection\": \"keep-alive\",\n",
        "    #     \"Upgrade-Insecure-Requests\": \"1\",\n",
        "    #     \"User-Agent\": \"Mozilla/5.0 (Windows NT 10.0; Win64; x64) AppleWebKit/537.36 (KHTML, like Gecko) Chrome/83.0.4103.97 Safari/537.36\",\n",
        "    #     \"Accept\": \"text/html,application/xhtml+xml,application/xml;q=0.9,image/webp,image/apng,*/*;q=0.8,application/signed-exchange;v=b3;q=0.9\",\n",
        "    #     \"Sec-Fetch-Site\": \"same-origin\",\n",
        "    #     \"Sec-Fetch-Mode\": \"navigate\",\n",
        "    #     \"Sec-Fetch-User\": \"?1\",\n",
        "    #     \"Sec-Fetch-Dest\": \"document\",\n",
        "    #     \"Referer\": \"https://www.google.com/\",\n",
        "    #     \"Accept-Encoding\": \"gzip, deflate, br\",\n",
        "    #     \"Accept-Language\": \"en-US,en;q=0.9\"\n",
        "    # }\n",
        "]\n"
      ],
      "execution_count": 28,
      "outputs": []
    },
    {
      "cell_type": "code",
      "metadata": {
        "id": "IuS2XXDLSqZJ"
      },
      "source": [
        "ordered_headers_list = []\n",
        "for headers in headers_list:\n",
        "    h = OrderedDict()\n",
        "    for header,value in headers.items():\n",
        "        h[header]=value\n",
        "    ordered_headers_list.append(h)"
      ],
      "execution_count": 29,
      "outputs": []
    },
    {
      "cell_type": "code",
      "metadata": {
        "ExecuteTime": {
          "end_time": "2020-12-06T06:24:21.048513Z",
          "start_time": "2020-12-06T06:21:02.667767Z"
        },
        "id": "7uhhXUh7-YIN"
      },
      "source": [
        "max_results_per_city = 1000\n",
        "# header = {\"user-agent\": \"Mozilla/5.0 (Windows NT 10.0; Win64; x64) AppleWebKit/537.36 (KHTML, like Gecko) Chrome/87.0.4280.67 Safari/537.36 Edg/87.0.664.55\" ,'referer':'https://www.google.com/'}\n",
        "proxies = {\"http\": \"http://10.10.1.10:3128\",\n",
        "           \"https\": \"http://10.10.1.10:1080\"}\n",
        "results = []\n",
        "for i in tqdm(range(len(cities))):\n",
        "    header = random.choice(headers_list)\n",
        "    r = requests.Session()\n",
        "    r.headers = headers\n",
        "    for start in range(0, max_results_per_city, 100):\n",
        "        sleep(2)\n",
        "        print(header)\n",
        "        url = \"https://ca.indeed.com/jobs?as_and=software+developer&as_phr=&as_any=&as_not=&as_ttl=&as_cmp=&jt=all&st=&salary=&radius=25&l=\"+cities[i]+\"&fromage=any&limit=100&start=\"+str(start)+\"&sort=&psf=advsrch\"\n",
        "        \n",
        "        \n",
        "        html = r.get(url, headers=header)\n",
        "        soup = BeautifulSoup(html.content, 'html.parser')\n",
        "        if(len(soup.find_all('script', {'src':'https://www.google.com/recaptcha/api.js'}))==1):\n",
        "            print('Captcha error(', cities[i],'): Retry in some time or use proxy.')\n",
        "            break\n",
        "        for row in soup.find_all('div', {'class':'jobsearch-SerpJobCard unifiedRow row result'}):\n",
        "            results.append(row)\n"
      ],
      "execution_count": null,
      "outputs": []
    },
    {
      "cell_type": "code",
      "metadata": {
        "ExecuteTime": {
          "end_time": "2020-12-06T06:25:11.390063Z",
          "start_time": "2020-12-06T06:25:11.387293Z"
        },
        "id": "tkDDUOKK-YIN"
      },
      "source": [
        "results_backup = results"
      ],
      "execution_count": 34,
      "outputs": []
    },
    {
      "cell_type": "code",
      "metadata": {
        "ExecuteTime": {
          "end_time": "2020-12-06T06:25:19.138275Z",
          "start_time": "2020-12-06T06:25:19.123574Z"
        },
        "id": "1d3_KIlV-YIN"
      },
      "source": [
        "sde_jobs = pd.DataFrame(columns=['location', 'title', 'company', 'salary', 'summary'])"
      ],
      "execution_count": 46,
      "outputs": []
    },
    {
      "cell_type": "code",
      "metadata": {
        "ExecuteTime": {
          "end_time": "2020-12-06T06:25:26.668931Z",
          "start_time": "2020-12-06T06:25:26.640203Z"
        },
        "id": "zN-b1EzT-YIN"
      },
      "source": [
        "def get_loc(row):\n",
        "    try:\n",
        "        return row.find('span', {'class':'location'}).text\n",
        "    except: return 'NA'\n",
        "\n",
        "\n",
        "def get_comp(row):\n",
        "    try:\n",
        "        return row.find('span', {'class':'company'}).text.replace('\\n','')\n",
        "    except: return 'NA'\n",
        "    \n",
        "def get_job(row):\n",
        "    try:\n",
        "        return row.find('a', {'data-tn-element':'jobTitle'}).text.replace('\\n','')\n",
        "    except: return 'NA'\n",
        "    \n",
        "        \n",
        "def get_sal(row):\n",
        "    try:\n",
        "        return row.find('span', {'class':'salaryText'}).text.replace('\\n','')\n",
        "    except: return 'NA'\n",
        "    \n",
        "    \n",
        "def get_desc(row):\n",
        "    try:\n",
        "        return row.find('div', {'class':'summary'}).text.replace('\\n','')\n",
        "    except: return 'NA'\n"
      ],
      "execution_count": 47,
      "outputs": []
    },
    {
      "cell_type": "code",
      "metadata": {
        "ExecuteTime": {
          "end_time": "2020-12-06T06:25:41.446891Z",
          "start_time": "2020-12-06T06:25:34.187244Z"
        },
        "id": "NRO3c0Yr-YIN"
      },
      "source": [
        "for result in results:\n",
        "    location = get_loc(result)\n",
        "    title = get_job(result)\n",
        "    company = get_comp(result)\n",
        "    salary = get_sal(result)\n",
        "    desc = get_desc(result)\n",
        "    sde_jobs.loc[len(sde_jobs)] = [location, title, company, salary, desc]"
      ],
      "execution_count": 52,
      "outputs": []
    },
    {
      "cell_type": "code",
      "metadata": {
        "ExecuteTime": {
          "end_time": "2020-12-06T06:25:48.814741Z",
          "start_time": "2020-12-06T06:25:48.795557Z"
        },
        "scrolled": false,
        "id": "4Q2djlYd-YIN",
        "colab": {
          "base_uri": "https://localhost:8080/",
          "height": 204
        },
        "outputId": "f8eb0ec1-b7f9-4735-a479-1a6ad42b5796"
      },
      "source": [
        "sde_jobs.head(5)"
      ],
      "execution_count": 53,
      "outputs": [
        {
          "output_type": "execute_result",
          "data": {
            "text/html": [
              "<div>\n",
              "<style scoped>\n",
              "    .dataframe tbody tr th:only-of-type {\n",
              "        vertical-align: middle;\n",
              "    }\n",
              "\n",
              "    .dataframe tbody tr th {\n",
              "        vertical-align: top;\n",
              "    }\n",
              "\n",
              "    .dataframe thead th {\n",
              "        text-align: right;\n",
              "    }\n",
              "</style>\n",
              "<table border=\"1\" class=\"dataframe\">\n",
              "  <thead>\n",
              "    <tr style=\"text-align: right;\">\n",
              "      <th></th>\n",
              "      <th>location</th>\n",
              "      <th>title</th>\n",
              "      <th>company</th>\n",
              "      <th>salary</th>\n",
              "      <th>summary</th>\n",
              "    </tr>\n",
              "  </thead>\n",
              "  <tbody>\n",
              "    <tr>\n",
              "      <th>3820</th>\n",
              "      <td>NA</td>\n",
              "      <td>Senior .Net Developer – Dynamics CRM 2016 - 29...</td>\n",
              "      <td>Procom</td>\n",
              "      <td>NA</td>\n",
              "      <td>NA</td>\n",
              "    </tr>\n",
              "    <tr>\n",
              "      <th>1</th>\n",
              "      <td>NA</td>\n",
              "      <td>Full Stack Java, C#, Objective-C/Swift Softwar...</td>\n",
              "      <td>YuJa - Powering Enterprise Video Everywhere</td>\n",
              "      <td>$65,000 - $125,000 a year</td>\n",
              "      <td>You can recognize software problems and develo...</td>\n",
              "    </tr>\n",
              "    <tr>\n",
              "      <th>2</th>\n",
              "      <td>NA</td>\n",
              "      <td>Software Developer full stack</td>\n",
              "      <td>RIFO Realty Group Inc</td>\n",
              "      <td>$65,000 - $85,000 a year</td>\n",
              "      <td>5+ years software development (Web) experience...</td>\n",
              "    </tr>\n",
              "    <tr>\n",
              "      <th>3</th>\n",
              "      <td>NA</td>\n",
              "      <td>Software Developer, Java (Platform/Banking Teams)</td>\n",
              "      <td>GeeksForLess Canada Inc.</td>\n",
              "      <td>$130,000 - $140,000 a year</td>\n",
              "      <td>A decent understanding of modern cloud infra/d...</td>\n",
              "    </tr>\n",
              "    <tr>\n",
              "      <th>4</th>\n",
              "      <td>NA</td>\n",
              "      <td>Database Programmer</td>\n",
              "      <td>B3 Systems</td>\n",
              "      <td>$50,000 - $80,000 a year</td>\n",
              "      <td>Appropriate experience in a software engineeri...</td>\n",
              "    </tr>\n",
              "  </tbody>\n",
              "</table>\n",
              "</div>"
            ],
            "text/plain": [
              "     location  ...                                            summary\n",
              "3820       NA  ...                                                 NA\n",
              "1          NA  ...  You can recognize software problems and develo...\n",
              "2          NA  ...  5+ years software development (Web) experience...\n",
              "3          NA  ...  A decent understanding of modern cloud infra/d...\n",
              "4          NA  ...  Appropriate experience in a software engineeri...\n",
              "\n",
              "[5 rows x 5 columns]"
            ]
          },
          "metadata": {
            "tags": []
          },
          "execution_count": 53
        }
      ]
    },
    {
      "cell_type": "code",
      "metadata": {
        "ExecuteTime": {
          "end_time": "2020-12-06T06:25:56.232383Z",
          "start_time": "2020-12-06T06:25:56.228304Z"
        },
        "id": "9vg1lrkA-YIN",
        "colab": {
          "base_uri": "https://localhost:8080/"
        },
        "outputId": "c4637d01-38c8-4eb1-e383-941524d9384e"
      },
      "source": [
        "sde_jobs.shape"
      ],
      "execution_count": 54,
      "outputs": [
        {
          "output_type": "execute_result",
          "data": {
            "text/plain": [
              "(3820, 5)"
            ]
          },
          "metadata": {
            "tags": []
          },
          "execution_count": 54
        }
      ]
    },
    {
      "cell_type": "code",
      "metadata": {
        "ExecuteTime": {
          "end_time": "2020-12-06T06:26:03.429531Z",
          "start_time": "2020-12-06T06:26:03.411703Z"
        },
        "id": "zPemDd3l-YIN"
      },
      "source": [
        "sde_jobs = sde_jobs.drop_duplicates()"
      ],
      "execution_count": 55,
      "outputs": []
    },
    {
      "cell_type": "code",
      "metadata": {
        "ExecuteTime": {
          "end_time": "2020-12-06T06:26:10.635690Z",
          "start_time": "2020-12-06T06:26:10.630302Z"
        },
        "id": "TBmW15ts-YIN",
        "colab": {
          "base_uri": "https://localhost:8080/"
        },
        "outputId": "b6585add-89df-4230-e2e9-cc2d5a0ed103"
      },
      "source": [
        "sde_jobs.shape"
      ],
      "execution_count": 56,
      "outputs": [
        {
          "output_type": "execute_result",
          "data": {
            "text/plain": [
              "(2553, 5)"
            ]
          },
          "metadata": {
            "tags": []
          },
          "execution_count": 56
        }
      ]
    },
    {
      "cell_type": "code",
      "metadata": {
        "ExecuteTime": {
          "end_time": "2020-12-06T06:26:18.002815Z",
          "start_time": "2020-12-06T06:26:17.975783Z"
        },
        "id": "tZqaehz3-YIN"
      },
      "source": [
        "sde_jobs.to_csv('sde_scraped_results.csv', index=False, encoding='utf-8')"
      ],
      "execution_count": 57,
      "outputs": []
    },
    {
      "cell_type": "code",
      "metadata": {
        "ExecuteTime": {
          "end_time": "2020-12-06T06:26:25.220109Z",
          "start_time": "2020-12-06T06:26:25.203254Z"
        },
        "id": "cTjGIu_C-YIN"
      },
      "source": [
        "sde_scrapped_data = pd.read_csv('sde_scraped_results.csv')"
      ],
      "execution_count": 58,
      "outputs": []
    },
    {
      "cell_type": "code",
      "metadata": {
        "ExecuteTime": {
          "end_time": "2020-12-06T06:26:32.360779Z",
          "start_time": "2020-12-06T06:26:32.354195Z"
        },
        "id": "1EJfIx3v-YIN"
      },
      "source": [
        "sde_salaries = sde_scrapped_data[sde_scrapped_data.salary.notnull()]"
      ],
      "execution_count": 59,
      "outputs": []
    },
    {
      "cell_type": "code",
      "metadata": {
        "ExecuteTime": {
          "end_time": "2020-12-06T06:26:39.549987Z",
          "start_time": "2020-12-06T06:26:39.542198Z"
        },
        "id": "bEC5RbbF-YIN",
        "colab": {
          "base_uri": "https://localhost:8080/"
        },
        "outputId": "0a5dba04-ea30-4c57-9cd1-c21a43dc18c1"
      },
      "source": [
        "sde_salaries.shape"
      ],
      "execution_count": 60,
      "outputs": [
        {
          "output_type": "execute_result",
          "data": {
            "text/plain": [
              "(378, 5)"
            ]
          },
          "metadata": {
            "tags": []
          },
          "execution_count": 60
        }
      ]
    },
    {
      "cell_type": "code",
      "metadata": {
        "ExecuteTime": {
          "end_time": "2020-12-06T06:26:46.901309Z",
          "start_time": "2020-12-06T06:26:46.881253Z"
        },
        "id": "LYpI184N-YIN",
        "colab": {
          "base_uri": "https://localhost:8080/",
          "height": 419
        },
        "outputId": "f56091dc-0455-432d-9007-ba38dee16310"
      },
      "source": [
        "sde_salaries"
      ],
      "execution_count": 61,
      "outputs": [
        {
          "output_type": "execute_result",
          "data": {
            "text/html": [
              "<div>\n",
              "<style scoped>\n",
              "    .dataframe tbody tr th:only-of-type {\n",
              "        vertical-align: middle;\n",
              "    }\n",
              "\n",
              "    .dataframe tbody tr th {\n",
              "        vertical-align: top;\n",
              "    }\n",
              "\n",
              "    .dataframe thead th {\n",
              "        text-align: right;\n",
              "    }\n",
              "</style>\n",
              "<table border=\"1\" class=\"dataframe\">\n",
              "  <thead>\n",
              "    <tr style=\"text-align: right;\">\n",
              "      <th></th>\n",
              "      <th>location</th>\n",
              "      <th>title</th>\n",
              "      <th>company</th>\n",
              "      <th>salary</th>\n",
              "      <th>summary</th>\n",
              "    </tr>\n",
              "  </thead>\n",
              "  <tbody>\n",
              "    <tr>\n",
              "      <th>1</th>\n",
              "      <td>NaN</td>\n",
              "      <td>Full Stack Java, C#, Objective-C/Swift Softwar...</td>\n",
              "      <td>YuJa - Powering Enterprise Video Everywhere</td>\n",
              "      <td>$65,000 - $125,000 a year</td>\n",
              "      <td>You can recognize software problems and develo...</td>\n",
              "    </tr>\n",
              "    <tr>\n",
              "      <th>2</th>\n",
              "      <td>NaN</td>\n",
              "      <td>Software Developer full stack</td>\n",
              "      <td>RIFO Realty Group Inc</td>\n",
              "      <td>$65,000 - $85,000 a year</td>\n",
              "      <td>5+ years software development (Web) experience...</td>\n",
              "    </tr>\n",
              "    <tr>\n",
              "      <th>3</th>\n",
              "      <td>NaN</td>\n",
              "      <td>Software Developer, Java (Platform/Banking Teams)</td>\n",
              "      <td>GeeksForLess Canada Inc.</td>\n",
              "      <td>$130,000 - $140,000 a year</td>\n",
              "      <td>A decent understanding of modern cloud infra/d...</td>\n",
              "    </tr>\n",
              "    <tr>\n",
              "      <th>4</th>\n",
              "      <td>NaN</td>\n",
              "      <td>Database Programmer</td>\n",
              "      <td>B3 Systems</td>\n",
              "      <td>$50,000 - $80,000 a year</td>\n",
              "      <td>Appropriate experience in a software engineeri...</td>\n",
              "    </tr>\n",
              "    <tr>\n",
              "      <th>5</th>\n",
              "      <td>NaN</td>\n",
              "      <td>Software Developer</td>\n",
              "      <td>Concentra Bank</td>\n",
              "      <td>$57,756 - $136,321 a year</td>\n",
              "      <td>This position also ensures that appropriate do...</td>\n",
              "    </tr>\n",
              "    <tr>\n",
              "      <th>...</th>\n",
              "      <td>...</td>\n",
              "      <td>...</td>\n",
              "      <td>...</td>\n",
              "      <td>...</td>\n",
              "      <td>...</td>\n",
              "    </tr>\n",
              "    <tr>\n",
              "      <th>2453</th>\n",
              "      <td>Mississauga Valley, ON</td>\n",
              "      <td>.NET developer and Azure cloud specialist</td>\n",
              "      <td>Hansamed Ltd.</td>\n",
              "      <td>$70,000 - $85,000 a year</td>\n",
              "      <td>Develop, modify and integrate software using ....</td>\n",
              "    </tr>\n",
              "    <tr>\n",
              "      <th>2457</th>\n",
              "      <td>Brampton, ON</td>\n",
              "      <td>computer programmer</td>\n",
              "      <td>Technocrat Consultants Inc.</td>\n",
              "      <td>$38.20 - $40.20 an hour</td>\n",
              "      <td>Research and evaluate a variety of software pr...</td>\n",
              "    </tr>\n",
              "    <tr>\n",
              "      <th>2470</th>\n",
              "      <td>Mississauga, ON</td>\n",
              "      <td>PC (personal computer) application developer</td>\n",
              "      <td>Sialka Cloud Solutions</td>\n",
              "      <td>$38.50 an hour</td>\n",
              "      <td>Bachelor's degree 7 months to less than 1 year...</td>\n",
              "    </tr>\n",
              "    <tr>\n",
              "      <th>2496</th>\n",
              "      <td>Mississauga, ON</td>\n",
              "      <td>cloud architect — information technology (IT)</td>\n",
              "      <td>Saibber Canada Inc.</td>\n",
              "      <td>$55 - $60 an hour</td>\n",
              "      <td>College, CEGEP or other non-university certifi...</td>\n",
              "    </tr>\n",
              "    <tr>\n",
              "      <th>2529</th>\n",
              "      <td>NaN</td>\n",
              "      <td>Java Full Stack Developer (Angular)</td>\n",
              "      <td>DISYS</td>\n",
              "      <td>$80 - $85 an hour</td>\n",
              "      <td>Job Purpose*: Java Developer with 7+ years’ ex...</td>\n",
              "    </tr>\n",
              "  </tbody>\n",
              "</table>\n",
              "<p>378 rows × 5 columns</p>\n",
              "</div>"
            ],
            "text/plain": [
              "                    location  ...                                            summary\n",
              "1                        NaN  ...  You can recognize software problems and develo...\n",
              "2                        NaN  ...  5+ years software development (Web) experience...\n",
              "3                        NaN  ...  A decent understanding of modern cloud infra/d...\n",
              "4                        NaN  ...  Appropriate experience in a software engineeri...\n",
              "5                        NaN  ...  This position also ensures that appropriate do...\n",
              "...                      ...  ...                                                ...\n",
              "2453  Mississauga Valley, ON  ...  Develop, modify and integrate software using ....\n",
              "2457            Brampton, ON  ...  Research and evaluate a variety of software pr...\n",
              "2470         Mississauga, ON  ...  Bachelor's degree 7 months to less than 1 year...\n",
              "2496         Mississauga, ON  ...  College, CEGEP or other non-university certifi...\n",
              "2529                     NaN  ...  Job Purpose*: Java Developer with 7+ years’ ex...\n",
              "\n",
              "[378 rows x 5 columns]"
            ]
          },
          "metadata": {
            "tags": []
          },
          "execution_count": 61
        }
      ]
    },
    {
      "cell_type": "code",
      "metadata": {
        "ExecuteTime": {
          "end_time": "2020-12-06T06:27:02.208710Z",
          "start_time": "2020-12-06T06:27:02.205262Z"
        },
        "id": "N4pJskfY-YIO"
      },
      "source": [
        "sde_salaries = sde_salaries[sde_salaries.location != 'Münchberg']"
      ],
      "execution_count": 62,
      "outputs": []
    },
    {
      "cell_type": "code",
      "metadata": {
        "ExecuteTime": {
          "end_time": "2020-12-06T06:27:09.912060Z",
          "start_time": "2020-12-06T06:27:09.887144Z"
        },
        "id": "ZDdgT8UE-YIO"
      },
      "source": [
        "def clean_salary(df):\n",
        "    preprocess_salary = []\n",
        "\n",
        "    for i in df.salary:        \n",
        "        if 'an hour' in i:\n",
        "            i = i.replace('an hour', '').replace('$', '').replace('from', '').replace('From','')\n",
        "            a = i.split('-')\n",
        "            if(len(a) == 2):\n",
        "                a = [float(x.strip().replace(',','')) for x in a]\n",
        "                preprocess_salary.append(np.mean([float(b) for b in a])*8*300)\n",
        "            else:\n",
        "                a[0] = a[0].strip().replace(',','')\n",
        "                preprocess_salary.append(float(a[0])*8*300)\n",
        "                \n",
        "        elif 'a week' in i:\n",
        "            i = i.replace('a week', '').replace('$', '').replace('from', '').replace('From','')\n",
        "            a = i.split('-')\n",
        "            if(len(a) == 2):\n",
        "                a = [float(x.strip().replace(',','')) for x in a]\n",
        "                preprocess_salary.append(np.mean([float(b) for b in a])*52)\n",
        "            else:\n",
        "                a[0] = a[0].strip().replace(',','')\n",
        "                preprocess_salary.append(float(a[0])*52)\n",
        "        \n",
        "        elif 'a month' in i:\n",
        "            i = i.replace('a month', '').replace('$', '').replace('from', '').replace('From','')\n",
        "            a = i.split('-')\n",
        "            if(len(a) == 2):\n",
        "                a = [float(x.strip().replace(',','')) for x in a]\n",
        "                preprocess_salary.append(np.mean([float(b) for b in a])*12)\n",
        "            else:\n",
        "                a = [float(x.strip().replace(',','')) for x in a]\n",
        "                preprocess_salary.append(float(a[0])*12)\n",
        "        elif 'a year' in i:\n",
        "            i = i.replace('a year', '').replace('$', '').replace('from', '').replace('From','')\n",
        "            a = i.split('-')\n",
        "            if len(a) == 2:\n",
        "                a = [float(x.strip().replace(',','')) for x in a]\n",
        "                preprocess_salary.append(np.mean([float(b) for b in a]))\n",
        "            else:\n",
        "                a[0] = a[0].strip().replace(',','')\n",
        "                preprocess_salary.append(float(a[0]))\n",
        "    return preprocess_salary"
      ],
      "execution_count": 67,
      "outputs": []
    },
    {
      "cell_type": "code",
      "metadata": {
        "id": "7Q6wbrVofovX"
      },
      "source": [
        "sde_cleaned_salary = clean_salary(sde_salaries)"
      ],
      "execution_count": 68,
      "outputs": []
    },
    {
      "cell_type": "code",
      "metadata": {
        "ExecuteTime": {
          "end_time": "2020-12-06T06:27:17.520682Z",
          "start_time": "2020-12-06T06:27:17.515754Z"
        },
        "id": "SHBTm3da-YIO"
      },
      "source": [
        "for i in sde_salaries.salary:\n",
        "    if len(i.split('-')) != 1 and len(i.split('-')) != 2:\n",
        "        print(i)"
      ],
      "execution_count": 73,
      "outputs": []
    },
    {
      "cell_type": "code",
      "metadata": {
        "ExecuteTime": {
          "end_time": "2020-12-06T06:27:25.093363Z",
          "start_time": "2020-12-06T06:27:25.086615Z"
        },
        "id": "1BXrI-Ix-YIO",
        "colab": {
          "base_uri": "https://localhost:8080/"
        },
        "outputId": "f54ae37c-d213-45c3-871a-40ac3208e19e"
      },
      "source": [
        "len(sde_cleaned_salary)"
      ],
      "execution_count": 74,
      "outputs": [
        {
          "output_type": "execute_result",
          "data": {
            "text/plain": [
              "378"
            ]
          },
          "metadata": {
            "tags": []
          },
          "execution_count": 74
        }
      ]
    },
    {
      "cell_type": "code",
      "metadata": {
        "ExecuteTime": {
          "end_time": "2020-12-06T06:27:32.820044Z",
          "start_time": "2020-12-06T06:27:32.815079Z"
        },
        "id": "RkZxv5l--YIO"
      },
      "source": [
        "sde_salaries.salary = sde_cleaned_salary"
      ],
      "execution_count": 76,
      "outputs": []
    },
    {
      "cell_type": "code",
      "metadata": {
        "ExecuteTime": {
          "end_time": "2020-12-06T06:27:40.022797Z",
          "start_time": "2020-12-06T06:27:40.017481Z"
        },
        "id": "MGR3wEZs-YIO",
        "colab": {
          "base_uri": "https://localhost:8080/"
        },
        "outputId": "e1c5d7e3-b558-4073-aae5-e7140f4f745d"
      },
      "source": [
        "sde_salaries.shape"
      ],
      "execution_count": 77,
      "outputs": [
        {
          "output_type": "execute_result",
          "data": {
            "text/plain": [
              "(378, 5)"
            ]
          },
          "metadata": {
            "tags": []
          },
          "execution_count": 77
        }
      ]
    },
    {
      "cell_type": "code",
      "metadata": {
        "ExecuteTime": {
          "end_time": "2020-12-06T06:27:48.132504Z",
          "start_time": "2020-12-06T06:27:48.115733Z"
        },
        "id": "IPHPgNWw-YIO",
        "colab": {
          "base_uri": "https://localhost:8080/"
        },
        "outputId": "d4a50bb0-7e3a-43c0-ece2-caefe97d6b53"
      },
      "source": [
        "sde_salaries.duplicated().sum()"
      ],
      "execution_count": 78,
      "outputs": [
        {
          "output_type": "execute_result",
          "data": {
            "text/plain": [
              "0"
            ]
          },
          "metadata": {
            "tags": []
          },
          "execution_count": 78
        }
      ]
    },
    {
      "cell_type": "code",
      "metadata": {
        "ExecuteTime": {
          "end_time": "2020-12-06T06:27:55.615135Z",
          "start_time": "2020-12-06T06:27:55.609473Z"
        },
        "id": "_mfVY93F-YIO"
      },
      "source": [
        "sde_preprocessed_data = sde_salaries[sde_salaries['location'].notna()]"
      ],
      "execution_count": 79,
      "outputs": []
    },
    {
      "cell_type": "code",
      "metadata": {
        "ExecuteTime": {
          "end_time": "2020-12-06T06:28:02.800342Z",
          "start_time": "2020-12-06T06:28:02.784358Z"
        },
        "focus": false,
        "id": "783fd153-28ac-47ab-bfca-27e7c1de95b4"
      },
      "source": [
        "sde_preprocessed_data.to_csv('sde_final_data.csv', index=False, encoding='utf-8')"
      ],
      "execution_count": 80,
      "outputs": []
    },
    {
      "cell_type": "code",
      "metadata": {
        "ExecuteTime": {
          "end_time": "2020-12-06T06:28:09.993601Z",
          "start_time": "2020-12-06T06:28:09.973261Z"
        },
        "focus": false,
        "id": "588f9845-6143-4bcc-bfd1-85d45b79303d"
      },
      "source": [
        "sde_salaries = pd.read_csv('sde_final_data.csv')"
      ],
      "execution_count": 81,
      "outputs": []
    },
    {
      "cell_type": "code",
      "metadata": {
        "ExecuteTime": {
          "end_time": "2020-12-06T06:28:17.122325Z",
          "start_time": "2020-12-06T06:28:17.105397Z"
        },
        "id": "z-aGuk7I-YIO",
        "colab": {
          "base_uri": "https://localhost:8080/",
          "height": 204
        },
        "outputId": "7da8d0fd-2305-494d-e228-aa3a3dc8754d"
      },
      "source": [
        "sde_salaries.head()"
      ],
      "execution_count": 82,
      "outputs": [
        {
          "output_type": "execute_result",
          "data": {
            "text/html": [
              "<div>\n",
              "<style scoped>\n",
              "    .dataframe tbody tr th:only-of-type {\n",
              "        vertical-align: middle;\n",
              "    }\n",
              "\n",
              "    .dataframe tbody tr th {\n",
              "        vertical-align: top;\n",
              "    }\n",
              "\n",
              "    .dataframe thead th {\n",
              "        text-align: right;\n",
              "    }\n",
              "</style>\n",
              "<table border=\"1\" class=\"dataframe\">\n",
              "  <thead>\n",
              "    <tr style=\"text-align: right;\">\n",
              "      <th></th>\n",
              "      <th>location</th>\n",
              "      <th>title</th>\n",
              "      <th>company</th>\n",
              "      <th>salary</th>\n",
              "      <th>summary</th>\n",
              "    </tr>\n",
              "  </thead>\n",
              "  <tbody>\n",
              "    <tr>\n",
              "      <th>0</th>\n",
              "      <td>Toronto, ON</td>\n",
              "      <td>C# Developer</td>\n",
              "      <td>Brands.Buzz</td>\n",
              "      <td>65000.0</td>\n",
              "      <td>As a C# Developer, you will have a strong unde...</td>\n",
              "    </tr>\n",
              "    <tr>\n",
              "      <th>1</th>\n",
              "      <td>Toronto, ON</td>\n",
              "      <td>Web Developer</td>\n",
              "      <td>Rose Rocket</td>\n",
              "      <td>80760.0</td>\n",
              "      <td>Develop Website architecture and determine har...</td>\n",
              "    </tr>\n",
              "    <tr>\n",
              "      <th>2</th>\n",
              "      <td>North York, ON</td>\n",
              "      <td>software developer</td>\n",
              "      <td>Isheva inc</td>\n",
              "      <td>91680.0</td>\n",
              "      <td>Research and evaluate a variety of software pr...</td>\n",
              "    </tr>\n",
              "    <tr>\n",
              "      <th>3</th>\n",
              "      <td>Toronto, ON</td>\n",
              "      <td>Web Designer/Developer</td>\n",
              "      <td>Ontario Learning Development Foundation</td>\n",
              "      <td>34200.0</td>\n",
              "      <td>The Web Developer will be responsible for the ...</td>\n",
              "    </tr>\n",
              "    <tr>\n",
              "      <th>4</th>\n",
              "      <td>Toronto, ON</td>\n",
              "      <td>Programmer, Front End Full Stack Developer</td>\n",
              "      <td>Curamoir Inc</td>\n",
              "      <td>42000.0</td>\n",
              "      <td>Material UI as a basis to style responsive exi...</td>\n",
              "    </tr>\n",
              "  </tbody>\n",
              "</table>\n",
              "</div>"
            ],
            "text/plain": [
              "         location  ...                                            summary\n",
              "0     Toronto, ON  ...  As a C# Developer, you will have a strong unde...\n",
              "1     Toronto, ON  ...  Develop Website architecture and determine har...\n",
              "2  North York, ON  ...  Research and evaluate a variety of software pr...\n",
              "3     Toronto, ON  ...  The Web Developer will be responsible for the ...\n",
              "4     Toronto, ON  ...  Material UI as a basis to style responsive exi...\n",
              "\n",
              "[5 rows x 5 columns]"
            ]
          },
          "metadata": {
            "tags": []
          },
          "execution_count": 82
        }
      ]
    },
    {
      "cell_type": "code",
      "metadata": {
        "ExecuteTime": {
          "end_time": "2020-12-06T06:28:24.213207Z",
          "start_time": "2020-12-06T06:28:24.197922Z"
        },
        "focus": false,
        "id": "c20d2498-151c-44c3-a453-3a333c79a0ac",
        "colab": {
          "base_uri": "https://localhost:8080/"
        },
        "outputId": "37d6a458-8305-4e4f-c7c8-99f9325a5bdb"
      },
      "source": [
        "sde_median_salary = np.median(sde_salaries.salary)\n",
        "sde_median_salary"
      ],
      "execution_count": 83,
      "outputs": [
        {
          "output_type": "execute_result",
          "data": {
            "text/plain": [
              "84000.0"
            ]
          },
          "metadata": {
            "tags": []
          },
          "execution_count": 83
        }
      ]
    },
    {
      "cell_type": "code",
      "metadata": {
        "ExecuteTime": {
          "end_time": "2020-12-06T06:28:31.301955Z",
          "start_time": "2020-12-06T06:28:31.296998Z"
        },
        "id": "wctJuMrZ-YIO"
      },
      "source": [
        "sde_salaries['high_salary'] = [1 if i > sde_median_salary else 0 for i in sde_salaries.salary]"
      ],
      "execution_count": 84,
      "outputs": []
    },
    {
      "cell_type": "code",
      "metadata": {
        "ExecuteTime": {
          "end_time": "2020-12-06T06:33:33.833054Z",
          "start_time": "2020-12-06T06:33:33.825615Z"
        },
        "id": "lG07rJf8-YIO",
        "colab": {
          "base_uri": "https://localhost:8080/"
        },
        "outputId": "f51dd070-b26f-4f32-8862-48ad948f76fe"
      },
      "source": [
        "sde_salaries.head()\n",
        "print(len(sde_salaries))\n",
        "\n",
        "def clean_data(data, stop_common):\n",
        "    stop_common = set.union(stop_common, {'will', 'na', 'tools', 'software','full time',\n",
        "                                          'skills','using', 'system', 'year', 'building', 'new',\n",
        "                                         \"build\", \"years\", \"scientist\", \"developer\", \"developers\",\n",
        "                                         \"work\", \"knowledge\", \"full\", \"time\", \"provide\", \"looking\",\n",
        "                                         \"role\", \"development\", \"engineer\", \"engineering\", \"including\",\n",
        "                                         \"engineers\", \"working\"})\n",
        "    data = data.lower() #transfer to lower case\n",
        "    data = data.replace(\"'s\", \"\") #remove 's\n",
        "    data = re.sub(r'[^\\w]', ' ', data) #remove all symbol\n",
        "    data = filter(lambda w: not w in stop_common,data.split(\" \"))#split the sentence and remove the stop words\n",
        "    data = list(filter((\"\").__ne__, data)) #remove blank element\n",
        "    \n",
        "    return data"
      ],
      "execution_count": 85,
      "outputs": [
        {
          "output_type": "stream",
          "text": [
            "288\n"
          ],
          "name": "stdout"
        }
      ]
    },
    {
      "cell_type": "code",
      "metadata": {
        "ExecuteTime": {
          "end_time": "2020-12-06T06:33:55.356788Z",
          "start_time": "2020-12-06T06:33:54.793080Z"
        },
        "id": "SctC7iBe-YIO",
        "colab": {
          "base_uri": "https://localhost:8080/",
          "height": 215
        },
        "outputId": "f71d020c-657f-445f-d965-3b301b88671c"
      },
      "source": [
        "result = []\n",
        "for i in range(sde_jobs.shape[0]):\n",
        "    result+=clean_data(sde_jobs.iloc[i][\"summary\"], stop_common)\n",
        "wordcloud = WordCloud(max_font_size=50, max_words=50, background_color=\"white\").generate(\",\".join(result))\n",
        "wordcloud.to_file(\"./Software_Developer.png\")\n",
        "plt.imshow(wordcloud, interpolation='bilinear')\n",
        "plt.axis(\"off\")"
      ],
      "execution_count": 86,
      "outputs": [
        {
          "output_type": "execute_result",
          "data": {
            "text/plain": [
              "(-0.5, 399.5, 199.5, -0.5)"
            ]
          },
          "metadata": {
            "tags": []
          },
          "execution_count": 86
        },
        {
          "output_type": "display_data",
          "data": {
            "image/png": "[encoded data removed]",
            "text/plain": [
              "<Figure size 432x288 with 1 Axes>"
            ]
          },
          "metadata": {
            "tags": [],
            "needs_background": "light"
          }
        }
      ]
    },
    {
      "cell_type": "markdown",
      "metadata": {
        "id": "a9l9WgDn-YIO"
      },
      "source": [
        "#### Only Location"
      ]
    },
    {
      "cell_type": "code",
      "metadata": {
        "ExecuteTime": {
          "end_time": "2020-12-06T05:42:07.833319Z",
          "start_time": "2020-12-06T05:42:07.827210Z"
        },
        "id": "-9fxCSNA-YIO",
        "colab": {
          "base_uri": "https://localhost:8080/"
        },
        "outputId": "aceae14c-17a9-451f-edab-53011a6ba0ea"
      },
      "source": [
        "sde_salaries.location.value_counts()"
      ],
      "execution_count": 87,
      "outputs": [
        {
          "output_type": "execute_result",
          "data": {
            "text/plain": [
              "Toronto, ON                 92\n",
              "Vancouver, BC               41\n",
              "Montréal, QC                25\n",
              "Calgary, AB                 23\n",
              "Mississauga, ON             18\n",
              "Ottawa, ON                  16\n",
              "Burnaby, BC                  7\n",
              "North York, ON               7\n",
              "Markham, ON                  6\n",
              "Brampton, ON                 5\n",
              "Surrey, BC                   4\n",
              "Waterloo, ON                 4\n",
              "Greater Toronto Area, ON     4\n",
              "Gatineau, QC                 3\n",
              "Scarborough, ON              3\n",
              "Quebec City, QC              3\n",
              "Kitchener-Waterloo, ON       2\n",
              "Richmond Hill, ON            2\n",
              "Guelph, ON                   2\n",
              "Kitchener, ON                2\n",
              "Woodbridge, ON               2\n",
              "Montréal-Est, QC             2\n",
              "Saint-Hubert, QC             2\n",
              "Delta, BC                    2\n",
              "Saint-Laurent, QC            1\n",
              "Etobicoke, ON                1\n",
              "Richmond, BC                 1\n",
              "Vaughan, ON                  1\n",
              "Concord, ON                  1\n",
              "North Vancouver, BC          1\n",
              "West Vancouver, BC           1\n",
              "Brossard, QC                 1\n",
              "Caledon, ON                  1\n",
              "Thornhill, ON                1\n",
              "Mississauga Valley, ON       1\n",
              "Name: location, dtype: int64"
            ]
          },
          "metadata": {
            "tags": []
          },
          "execution_count": 87
        }
      ]
    },
    {
      "cell_type": "code",
      "metadata": {
        "ExecuteTime": {
          "end_time": "2020-12-06T05:42:12.879999Z",
          "start_time": "2020-12-06T05:42:12.874317Z"
        },
        "id": "v_1_MIRv-YIO"
      },
      "source": [
        "cities = []\n",
        "states = []\n",
        "\n",
        "for loc in sde_salaries.location:\n",
        "    items = loc.split(',')\n",
        "    cities.append(items[0])\n",
        "    states.append(items[1])\n"
      ],
      "execution_count": 88,
      "outputs": []
    },
    {
      "cell_type": "code",
      "metadata": {
        "ExecuteTime": {
          "end_time": "2020-12-06T05:42:17.770231Z",
          "start_time": "2020-12-06T05:42:17.766192Z"
        },
        "scrolled": true,
        "id": "MJyPuImc-YIO",
        "colab": {
          "base_uri": "https://localhost:8080/"
        },
        "outputId": "c147afb8-da17-4829-95fb-4151b7901cfb"
      },
      "source": [
        "only_states = []\n",
        "for state in states:\n",
        "    only_states.append(re.search(r'\\w+', state).group(0))\n",
        "print(len(only_states))"
      ],
      "execution_count": 89,
      "outputs": [
        {
          "output_type": "stream",
          "text": [
            "288\n"
          ],
          "name": "stdout"
        }
      ]
    },
    {
      "cell_type": "code",
      "metadata": {
        "ExecuteTime": {
          "end_time": "2020-12-06T05:42:22.587805Z",
          "start_time": "2020-12-06T05:42:22.582991Z"
        },
        "id": "uESrhcpU-YIO"
      },
      "source": [
        "sde_salaries['city'] = cities\n",
        "sde_salaries['state'] = only_states"
      ],
      "execution_count": 90,
      "outputs": []
    },
    {
      "cell_type": "code",
      "metadata": {
        "ExecuteTime": {
          "end_time": "2020-12-06T05:42:27.542198Z",
          "start_time": "2020-12-06T05:42:27.513306Z"
        },
        "id": "DjdSKqFo-YIO"
      },
      "source": [
        "sde_salaries.city = sde_salaries.city + \", \" + sde_salaries.state"
      ],
      "execution_count": 91,
      "outputs": []
    },
    {
      "cell_type": "code",
      "metadata": {
        "ExecuteTime": {
          "end_time": "2020-12-06T05:42:33.188168Z",
          "start_time": "2020-12-06T05:42:33.181939Z"
        },
        "id": "K5dofIZ6-YIO"
      },
      "source": [
        "for i in sde_salaries.state:\n",
        "    if len(i) > 2:\n",
        "        print(i)"
      ],
      "execution_count": 92,
      "outputs": []
    },
    {
      "cell_type": "code",
      "metadata": {
        "ExecuteTime": {
          "end_time": "2020-12-06T05:42:37.909266Z",
          "start_time": "2020-12-06T05:42:37.888544Z"
        },
        "id": "eMS-QWkD-YIO",
        "colab": {
          "base_uri": "https://localhost:8080/",
          "height": 204
        },
        "outputId": "7f2c2d1a-c4e4-4636-fccb-8ff20cbf707c"
      },
      "source": [
        "sde_salaries.head()"
      ],
      "execution_count": 93,
      "outputs": [
        {
          "output_type": "execute_result",
          "data": {
            "text/html": [
              "<div>\n",
              "<style scoped>\n",
              "    .dataframe tbody tr th:only-of-type {\n",
              "        vertical-align: middle;\n",
              "    }\n",
              "\n",
              "    .dataframe tbody tr th {\n",
              "        vertical-align: top;\n",
              "    }\n",
              "\n",
              "    .dataframe thead th {\n",
              "        text-align: right;\n",
              "    }\n",
              "</style>\n",
              "<table border=\"1\" class=\"dataframe\">\n",
              "  <thead>\n",
              "    <tr style=\"text-align: right;\">\n",
              "      <th></th>\n",
              "      <th>location</th>\n",
              "      <th>title</th>\n",
              "      <th>company</th>\n",
              "      <th>salary</th>\n",
              "      <th>summary</th>\n",
              "      <th>high_salary</th>\n",
              "      <th>city</th>\n",
              "      <th>state</th>\n",
              "    </tr>\n",
              "  </thead>\n",
              "  <tbody>\n",
              "    <tr>\n",
              "      <th>0</th>\n",
              "      <td>Toronto, ON</td>\n",
              "      <td>C# Developer</td>\n",
              "      <td>Brands.Buzz</td>\n",
              "      <td>65000.0</td>\n",
              "      <td>As a C# Developer, you will have a strong unde...</td>\n",
              "      <td>0</td>\n",
              "      <td>Toronto, ON</td>\n",
              "      <td>ON</td>\n",
              "    </tr>\n",
              "    <tr>\n",
              "      <th>1</th>\n",
              "      <td>Toronto, ON</td>\n",
              "      <td>Web Developer</td>\n",
              "      <td>Rose Rocket</td>\n",
              "      <td>80760.0</td>\n",
              "      <td>Develop Website architecture and determine har...</td>\n",
              "      <td>0</td>\n",
              "      <td>Toronto, ON</td>\n",
              "      <td>ON</td>\n",
              "    </tr>\n",
              "    <tr>\n",
              "      <th>2</th>\n",
              "      <td>North York, ON</td>\n",
              "      <td>software developer</td>\n",
              "      <td>Isheva inc</td>\n",
              "      <td>91680.0</td>\n",
              "      <td>Research and evaluate a variety of software pr...</td>\n",
              "      <td>1</td>\n",
              "      <td>North York, ON</td>\n",
              "      <td>ON</td>\n",
              "    </tr>\n",
              "    <tr>\n",
              "      <th>3</th>\n",
              "      <td>Toronto, ON</td>\n",
              "      <td>Web Designer/Developer</td>\n",
              "      <td>Ontario Learning Development Foundation</td>\n",
              "      <td>34200.0</td>\n",
              "      <td>The Web Developer will be responsible for the ...</td>\n",
              "      <td>0</td>\n",
              "      <td>Toronto, ON</td>\n",
              "      <td>ON</td>\n",
              "    </tr>\n",
              "    <tr>\n",
              "      <th>4</th>\n",
              "      <td>Toronto, ON</td>\n",
              "      <td>Programmer, Front End Full Stack Developer</td>\n",
              "      <td>Curamoir Inc</td>\n",
              "      <td>42000.0</td>\n",
              "      <td>Material UI as a basis to style responsive exi...</td>\n",
              "      <td>0</td>\n",
              "      <td>Toronto, ON</td>\n",
              "      <td>ON</td>\n",
              "    </tr>\n",
              "  </tbody>\n",
              "</table>\n",
              "</div>"
            ],
            "text/plain": [
              "         location  ... state\n",
              "0     Toronto, ON  ...    ON\n",
              "1     Toronto, ON  ...    ON\n",
              "2  North York, ON  ...    ON\n",
              "3     Toronto, ON  ...    ON\n",
              "4     Toronto, ON  ...    ON\n",
              "\n",
              "[5 rows x 8 columns]"
            ]
          },
          "metadata": {
            "tags": []
          },
          "execution_count": 93
        }
      ]
    },
    {
      "cell_type": "code",
      "metadata": {
        "ExecuteTime": {
          "end_time": "2020-12-01T18:18:51.689674Z",
          "start_time": "2020-12-01T18:18:51.685063Z"
        },
        "id": "tkn0ty0g-YIO",
        "colab": {
          "base_uri": "https://localhost:8080/"
        },
        "outputId": "b4a6a9bc-c25c-47d9-d6bd-7994d1e79d77"
      },
      "source": [
        "sde_salaries.city.nunique()"
      ],
      "execution_count": 94,
      "outputs": [
        {
          "output_type": "execute_result",
          "data": {
            "text/plain": [
              "35"
            ]
          },
          "metadata": {
            "tags": []
          },
          "execution_count": 94
        }
      ]
    },
    {
      "cell_type": "code",
      "metadata": {
        "ExecuteTime": {
          "end_time": "2020-12-01T18:19:00.597495Z",
          "start_time": "2020-12-01T18:19:00.585773Z"
        },
        "scrolled": false,
        "id": "WURrs8uJ-YIO",
        "colab": {
          "base_uri": "https://localhost:8080/"
        },
        "outputId": "915dc025-39d9-4d81-b042-5137c93e7f06"
      },
      "source": [
        "sde_salaries.city.value_counts()"
      ],
      "execution_count": 95,
      "outputs": [
        {
          "output_type": "execute_result",
          "data": {
            "text/plain": [
              "Toronto, ON                 92\n",
              "Vancouver, BC               41\n",
              "Montréal, QC                25\n",
              "Calgary, AB                 23\n",
              "Mississauga, ON             18\n",
              "Ottawa, ON                  16\n",
              "Burnaby, BC                  7\n",
              "North York, ON               7\n",
              "Markham, ON                  6\n",
              "Brampton, ON                 5\n",
              "Surrey, BC                   4\n",
              "Waterloo, ON                 4\n",
              "Greater Toronto Area, ON     4\n",
              "Gatineau, QC                 3\n",
              "Scarborough, ON              3\n",
              "Quebec City, QC              3\n",
              "Kitchener-Waterloo, ON       2\n",
              "Richmond Hill, ON            2\n",
              "Guelph, ON                   2\n",
              "Kitchener, ON                2\n",
              "Woodbridge, ON               2\n",
              "Montréal-Est, QC             2\n",
              "Saint-Hubert, QC             2\n",
              "Delta, BC                    2\n",
              "Saint-Laurent, QC            1\n",
              "Etobicoke, ON                1\n",
              "Richmond, BC                 1\n",
              "Vaughan, ON                  1\n",
              "Concord, ON                  1\n",
              "North Vancouver, BC          1\n",
              "West Vancouver, BC           1\n",
              "Brossard, QC                 1\n",
              "Caledon, ON                  1\n",
              "Thornhill, ON                1\n",
              "Mississauga Valley, ON       1\n",
              "Name: city, dtype: int64"
            ]
          },
          "metadata": {
            "tags": []
          },
          "execution_count": 95
        }
      ]
    },
    {
      "cell_type": "code",
      "metadata": {
        "ExecuteTime": {
          "end_time": "2020-12-01T18:19:26.869356Z",
          "start_time": "2020-12-01T18:19:26.865872Z"
        },
        "id": "JacfZPrG-YIP"
      },
      "source": [
        "city_dummies = pd.get_dummies(sde_salaries.city)\n",
        "\n",
        "X_city = city_dummies\n",
        "y_city = sde_salaries.high_salary"
      ],
      "execution_count": 96,
      "outputs": []
    },
    {
      "cell_type": "code",
      "metadata": {
        "ExecuteTime": {
          "end_time": "2020-12-01T18:19:26.878710Z",
          "start_time": "2020-12-01T18:19:26.871230Z"
        },
        "id": "eUhwTlxL-YIP"
      },
      "source": [
        "X_train, X_test, y_train, y_test = train_test_split(X_city, y_city, test_size=0.3, random_state=90)"
      ],
      "execution_count": 97,
      "outputs": []
    },
    {
      "cell_type": "code",
      "metadata": {
        "ExecuteTime": {
          "end_time": "2020-12-01T18:19:31.080589Z",
          "start_time": "2020-12-01T18:19:26.880526Z"
        },
        "id": "S942p1og-YIP",
        "colab": {
          "base_uri": "https://localhost:8080/"
        },
        "outputId": "cf70f42e-b4b2-4c26-d751-76152a127a14"
      },
      "source": [
        "rfc = RandomForestClassifier(n_estimators=300, random_state=90)\n",
        "rfc.fit(X_train, y_train)\n",
        "\n",
        "rfc_pred = rfc.predict(X_test)\n",
        "acc = accuracy_score(y_test, rfc_pred)\n",
        "print (\"Accuracy Score:\", acc.round(3))\n",
        "\n",
        "s = cross_val_score(rfc, X_city, y_city, cv=10, n_jobs=-1)\n",
        "print (\"Cross Validation Score:\\t{:0.3} ± {:0.3}\".format(s.mean().round(3), s.std().round(3)))"
      ],
      "execution_count": 98,
      "outputs": [
        {
          "output_type": "stream",
          "text": [
            "Accuracy Score: 0.494\n",
            "Cross Validation Score:\t0.462 ± 0.109\n"
          ],
          "name": "stdout"
        }
      ]
    },
    {
      "cell_type": "code",
      "metadata": {
        "ExecuteTime": {
          "end_time": "2020-12-01T18:19:31.127919Z",
          "start_time": "2020-12-01T18:19:31.084930Z"
        },
        "id": "h5D7xTaw-YIP",
        "colab": {
          "base_uri": "https://localhost:8080/",
          "height": 514
        },
        "outputId": "bb527fc9-73ae-47e4-c6b7-a2e437f6bc5e"
      },
      "source": [
        "feature_importances = pd.DataFrame(rfc.feature_importances_,\n",
        "                                   index = X_city.columns).reset_index()\n",
        "feature_importances.columns = ['feature', 'importance']\n",
        "\n",
        "feature_medians = []\n",
        "for i in X_city.columns:\n",
        "    feature_medians.append(np.median(sde_salaries[sde_salaries.city == i].salary))\n",
        "\n",
        "feature_importances['median_salary'] = feature_medians\n",
        "feature_importances['over_or_under'] = [1 if i > sde_median_salary else 0 for i in feature_importances.median_salary]\n",
        "\n",
        "feature_importances.sort_values('importance', ascending=False).head(15)"
      ],
      "execution_count": 100,
      "outputs": [
        {
          "output_type": "execute_result",
          "data": {
            "text/html": [
              "<div>\n",
              "<style scoped>\n",
              "    .dataframe tbody tr th:only-of-type {\n",
              "        vertical-align: middle;\n",
              "    }\n",
              "\n",
              "    .dataframe tbody tr th {\n",
              "        vertical-align: top;\n",
              "    }\n",
              "\n",
              "    .dataframe thead th {\n",
              "        text-align: right;\n",
              "    }\n",
              "</style>\n",
              "<table border=\"1\" class=\"dataframe\">\n",
              "  <thead>\n",
              "    <tr style=\"text-align: right;\">\n",
              "      <th></th>\n",
              "      <th>feature</th>\n",
              "      <th>importance</th>\n",
              "      <th>median_salary</th>\n",
              "      <th>over_or_under</th>\n",
              "    </tr>\n",
              "  </thead>\n",
              "  <tbody>\n",
              "    <tr>\n",
              "      <th>15</th>\n",
              "      <td>Mississauga, ON</td>\n",
              "      <td>0.109890</td>\n",
              "      <td>94500.00</td>\n",
              "      <td>1</td>\n",
              "    </tr>\n",
              "    <tr>\n",
              "      <th>19</th>\n",
              "      <td>North York, ON</td>\n",
              "      <td>0.088706</td>\n",
              "      <td>91680.00</td>\n",
              "      <td>1</td>\n",
              "    </tr>\n",
              "    <tr>\n",
              "      <th>20</th>\n",
              "      <td>Ottawa, ON</td>\n",
              "      <td>0.061287</td>\n",
              "      <td>85763.00</td>\n",
              "      <td>1</td>\n",
              "    </tr>\n",
              "    <tr>\n",
              "      <th>26</th>\n",
              "      <td>Scarborough, ON</td>\n",
              "      <td>0.045928</td>\n",
              "      <td>110400.00</td>\n",
              "      <td>1</td>\n",
              "    </tr>\n",
              "    <tr>\n",
              "      <th>13</th>\n",
              "      <td>Markham, ON</td>\n",
              "      <td>0.042759</td>\n",
              "      <td>66528.75</td>\n",
              "      <td>0</td>\n",
              "    </tr>\n",
              "    <tr>\n",
              "      <th>32</th>\n",
              "      <td>Waterloo, ON</td>\n",
              "      <td>0.038113</td>\n",
              "      <td>88889.25</td>\n",
              "      <td>1</td>\n",
              "    </tr>\n",
              "    <tr>\n",
              "      <th>4</th>\n",
              "      <td>Calgary, AB</td>\n",
              "      <td>0.038100</td>\n",
              "      <td>78000.00</td>\n",
              "      <td>0</td>\n",
              "    </tr>\n",
              "    <tr>\n",
              "      <th>10</th>\n",
              "      <td>Guelph, ON</td>\n",
              "      <td>0.034852</td>\n",
              "      <td>61500.00</td>\n",
              "      <td>0</td>\n",
              "    </tr>\n",
              "    <tr>\n",
              "      <th>6</th>\n",
              "      <td>Delta, BC</td>\n",
              "      <td>0.033549</td>\n",
              "      <td>67200.00</td>\n",
              "      <td>0</td>\n",
              "    </tr>\n",
              "    <tr>\n",
              "      <th>16</th>\n",
              "      <td>Montréal, QC</td>\n",
              "      <td>0.030607</td>\n",
              "      <td>75625.00</td>\n",
              "      <td>0</td>\n",
              "    </tr>\n",
              "    <tr>\n",
              "      <th>30</th>\n",
              "      <td>Vancouver, BC</td>\n",
              "      <td>0.028764</td>\n",
              "      <td>82986.00</td>\n",
              "      <td>0</td>\n",
              "    </tr>\n",
              "    <tr>\n",
              "      <th>2</th>\n",
              "      <td>Burnaby, BC</td>\n",
              "      <td>0.028364</td>\n",
              "      <td>72000.00</td>\n",
              "      <td>0</td>\n",
              "    </tr>\n",
              "    <tr>\n",
              "      <th>9</th>\n",
              "      <td>Greater Toronto Area, ON</td>\n",
              "      <td>0.027912</td>\n",
              "      <td>91250.00</td>\n",
              "      <td>1</td>\n",
              "    </tr>\n",
              "    <tr>\n",
              "      <th>29</th>\n",
              "      <td>Toronto, ON</td>\n",
              "      <td>0.027352</td>\n",
              "      <td>85000.00</td>\n",
              "      <td>1</td>\n",
              "    </tr>\n",
              "    <tr>\n",
              "      <th>3</th>\n",
              "      <td>Caledon, ON</td>\n",
              "      <td>0.025835</td>\n",
              "      <td>145000.00</td>\n",
              "      <td>1</td>\n",
              "    </tr>\n",
              "  </tbody>\n",
              "</table>\n",
              "</div>"
            ],
            "text/plain": [
              "                     feature  importance  median_salary  over_or_under\n",
              "15           Mississauga, ON    0.109890       94500.00              1\n",
              "19            North York, ON    0.088706       91680.00              1\n",
              "20                Ottawa, ON    0.061287       85763.00              1\n",
              "26           Scarborough, ON    0.045928      110400.00              1\n",
              "13               Markham, ON    0.042759       66528.75              0\n",
              "32              Waterloo, ON    0.038113       88889.25              1\n",
              "4                Calgary, AB    0.038100       78000.00              0\n",
              "10                Guelph, ON    0.034852       61500.00              0\n",
              "6                  Delta, BC    0.033549       67200.00              0\n",
              "16              Montréal, QC    0.030607       75625.00              0\n",
              "30             Vancouver, BC    0.028764       82986.00              0\n",
              "2                Burnaby, BC    0.028364       72000.00              0\n",
              "9   Greater Toronto Area, ON    0.027912       91250.00              1\n",
              "29               Toronto, ON    0.027352       85000.00              1\n",
              "3                Caledon, ON    0.025835      145000.00              1"
            ]
          },
          "metadata": {
            "tags": []
          },
          "execution_count": 100
        }
      ]
    },
    {
      "cell_type": "markdown",
      "metadata": {
        "id": "A1zMxvlV-YIP"
      },
      "source": [
        "#### Only summary"
      ]
    },
    {
      "cell_type": "code",
      "metadata": {
        "ExecuteTime": {
          "end_time": "2020-12-01T18:19:31.143786Z",
          "start_time": "2020-12-01T18:19:31.139374Z"
        },
        "focus": false,
        "id": "4239e458-28bd-4675-8db3-c1d9c02b9854"
      },
      "source": [
        "sde_salaries_w_desc = sde_salaries[sde_salaries.summary.notnull()]\n",
        "\n",
        "X_summ = sde_salaries_w_desc.summary\n",
        "y_summ = sde_salaries_w_desc.high_salary"
      ],
      "execution_count": 102,
      "outputs": []
    },
    {
      "cell_type": "code",
      "metadata": {
        "ExecuteTime": {
          "end_time": "2020-12-01T18:19:31.159326Z",
          "start_time": "2020-12-01T18:19:31.147873Z"
        },
        "focus": false,
        "id": "fec80936-37bc-4922-89bd-b5d615566c9c",
        "colab": {
          "base_uri": "https://localhost:8080/"
        },
        "outputId": "4e3288c4-2bff-4dea-e9d1-7cfdbaa5252c"
      },
      "source": [
        "cv = CountVectorizer(stop_words=\"english\")\n",
        "cv.fit(X_summ)"
      ],
      "execution_count": 103,
      "outputs": [
        {
          "output_type": "execute_result",
          "data": {
            "text/plain": [
              "CountVectorizer(analyzer='word', binary=False, decode_error='strict',\n",
              "                dtype=<class 'numpy.int64'>, encoding='utf-8', input='content',\n",
              "                lowercase=True, max_df=1.0, max_features=None, min_df=1,\n",
              "                ngram_range=(1, 1), preprocessor=None, stop_words='english',\n",
              "                strip_accents=None, token_pattern='(?u)\\\\b\\\\w\\\\w+\\\\b',\n",
              "                tokenizer=None, vocabulary=None)"
            ]
          },
          "metadata": {
            "tags": []
          },
          "execution_count": 103
        }
      ]
    },
    {
      "cell_type": "code",
      "metadata": {
        "ExecuteTime": {
          "end_time": "2020-12-01T18:19:31.166014Z",
          "start_time": "2020-12-01T18:19:31.161521Z"
        },
        "id": "HxxpCsBa-YIP",
        "colab": {
          "base_uri": "https://localhost:8080/"
        },
        "outputId": "78872bec-959d-410a-9d2f-e60bc19b1480"
      },
      "source": [
        "len(cv.get_feature_names())"
      ],
      "execution_count": 104,
      "outputs": [
        {
          "output_type": "execute_result",
          "data": {
            "text/plain": [
              "1215"
            ]
          },
          "metadata": {
            "tags": []
          },
          "execution_count": 104
        }
      ]
    },
    {
      "cell_type": "code",
      "metadata": {
        "ExecuteTime": {
          "end_time": "2020-12-01T18:19:31.188933Z",
          "start_time": "2020-12-01T18:19:31.168361Z"
        },
        "id": "fKagqPSF-YIP"
      },
      "source": [
        "X_summ_trans = pd.DataFrame(cv.transform(X_summ).todense(), columns=cv.get_feature_names())"
      ],
      "execution_count": 105,
      "outputs": []
    },
    {
      "cell_type": "code",
      "metadata": {
        "ExecuteTime": {
          "end_time": "2020-12-01T18:19:31.204117Z",
          "start_time": "2020-12-01T18:19:26.905Z"
        },
        "id": "zBKhJgA7-YIP"
      },
      "source": [
        "X_train, X_test, y_train, y_test = train_test_split(np.asmatrix(X_summ_trans), y_summ, test_size=0.3,\n",
        "                                                    random_state=59, stratify=y_summ)"
      ],
      "execution_count": 106,
      "outputs": []
    },
    {
      "cell_type": "code",
      "metadata": {
        "ExecuteTime": {
          "end_time": "2020-12-01T18:19:31.206217Z",
          "start_time": "2020-12-01T18:19:26.906Z"
        },
        "id": "h18gnBJs-YIP",
        "colab": {
          "base_uri": "https://localhost:8080/"
        },
        "outputId": "e47c623b-ec49-48df-a9a9-e1c946b30431"
      },
      "source": [
        "word_counts = X_summ_trans.sum(axis=0)\n",
        "word_counts.sort_values(ascending = False).head(20)"
      ],
      "execution_count": 107,
      "outputs": [
        {
          "output_type": "execute_result",
          "data": {
            "text/plain": [
              "software        250\n",
              "development      92\n",
              "experience       91\n",
              "years            71\n",
              "developer        53\n",
              "design           44\n",
              "applications     39\n",
              "products         36\n",
              "code             34\n",
              "develop          31\n",
              "web              31\n",
              "variety          29\n",
              "research         29\n",
              "time             28\n",
              "developers       27\n",
              "work             27\n",
              "test             27\n",
              "computer         26\n",
              "integrate        25\n",
              "evaluate         25\n",
              "dtype: int64"
            ]
          },
          "metadata": {
            "tags": []
          },
          "execution_count": 107
        }
      ]
    },
    {
      "cell_type": "code",
      "metadata": {
        "ExecuteTime": {
          "end_time": "2020-12-01T18:19:31.208888Z",
          "start_time": "2020-12-01T18:19:26.908Z"
        },
        "id": "r609N_uJ-YIP"
      },
      "source": [
        "word_counts.to_csv('sde-indeed-words.csv', encoding='utf-8')"
      ],
      "execution_count": 108,
      "outputs": []
    },
    {
      "cell_type": "code",
      "metadata": {
        "ExecuteTime": {
          "end_time": "2020-12-01T18:19:31.210831Z",
          "start_time": "2020-12-01T18:19:26.910Z"
        },
        "id": "X0b95AgO-YIP",
        "colab": {
          "base_uri": "https://localhost:8080/"
        },
        "outputId": "d46f660e-3ff0-432e-98fc-9601ee15922b"
      },
      "source": [
        "rfc = RandomForestClassifier(200, random_state=59)\n",
        "rfc.fit(X_train, y_train)\n",
        "\n",
        "rfc_pred = rfc.predict(X_test)\n",
        "acc = accuracy_score(y_test, rfc_pred)\n",
        "print(\"Accuracy Score:\", acc.round(3))\n",
        "\n",
        "s = cross_val_score(rfc, X_summ_trans.values, y_summ.values, cv=10, n_jobs=-1)\n",
        "print(\"Cross Validation Score: {:0.3} ± {:0.3}\".format(s.mean().round(3), s.std().round(3)))"
      ],
      "execution_count": 109,
      "outputs": [
        {
          "output_type": "stream",
          "text": [
            "Accuracy Score: 0.667\n",
            "Cross Validation Score: 0.64 ± 0.116\n"
          ],
          "name": "stdout"
        }
      ]
    },
    {
      "cell_type": "code",
      "metadata": {
        "ExecuteTime": {
          "end_time": "2020-12-01T18:19:31.212713Z",
          "start_time": "2020-12-01T18:19:26.911Z"
        },
        "id": "wPh7r9kr-YIP",
        "colab": {
          "base_uri": "https://localhost:8080/",
          "height": 669
        },
        "outputId": "dcb2f53a-6a7e-4ba0-c47a-d56509135dca"
      },
      "source": [
        "feature_importances = pd.DataFrame(rfc.feature_importances_,\n",
        "                                   index = X_summ_trans.columns).reset_index()\n",
        "feature_importances.columns = ['feature', 'importance']\n",
        "\n",
        "feature_medians = []\n",
        "feature_means = []\n",
        "for i in X_summ_trans.columns:\n",
        "    feature_medians.append(np.median(sde_salaries_w_desc[sde_salaries_w_desc.summary.str.lower().str.contains(i)].salary))\n",
        "    feature_means.append(np.mean(sde_salaries_w_desc[sde_salaries_w_desc.summary.str.lower().str.contains(i)].salary))\n",
        "\n",
        "\n",
        "feature_importances['median_salary'] = feature_medians\n",
        "feature_importances['mean_salary'] = feature_means\n",
        "feature_importances['over_or_under'] = [1 if i > sde_median_salary else 0 for i in feature_importances.median_salary]\n",
        "\n",
        "feature_importances.sort_values('importance', ascending=False).head(20)"
      ],
      "execution_count": 113,
      "outputs": [
        {
          "output_type": "execute_result",
          "data": {
            "text/html": [
              "<div>\n",
              "<style scoped>\n",
              "    .dataframe tbody tr th:only-of-type {\n",
              "        vertical-align: middle;\n",
              "    }\n",
              "\n",
              "    .dataframe tbody tr th {\n",
              "        vertical-align: top;\n",
              "    }\n",
              "\n",
              "    .dataframe thead th {\n",
              "        text-align: right;\n",
              "    }\n",
              "</style>\n",
              "<table border=\"1\" class=\"dataframe\">\n",
              "  <thead>\n",
              "    <tr style=\"text-align: right;\">\n",
              "      <th></th>\n",
              "      <th>feature</th>\n",
              "      <th>importance</th>\n",
              "      <th>median_salary</th>\n",
              "      <th>mean_salary</th>\n",
              "      <th>over_or_under</th>\n",
              "    </tr>\n",
              "  </thead>\n",
              "  <tbody>\n",
              "    <tr>\n",
              "      <th>314</th>\n",
              "      <td>development</td>\n",
              "      <td>0.020851</td>\n",
              "      <td>88750.00</td>\n",
              "      <td>101129.891892</td>\n",
              "      <td>1</td>\n",
              "    </tr>\n",
              "    <tr>\n",
              "      <th>1211</th>\n",
              "      <td>years</td>\n",
              "      <td>0.014197</td>\n",
              "      <td>91680.00</td>\n",
              "      <td>101470.101695</td>\n",
              "      <td>1</td>\n",
              "    </tr>\n",
              "    <tr>\n",
              "      <th>1017</th>\n",
              "      <td>software</td>\n",
              "      <td>0.013932</td>\n",
              "      <td>81600.00</td>\n",
              "      <td>89207.516129</td>\n",
              "      <td>0</td>\n",
              "    </tr>\n",
              "    <tr>\n",
              "      <th>995</th>\n",
              "      <td>services</td>\n",
              "      <td>0.011911</td>\n",
              "      <td>132000.00</td>\n",
              "      <td>123241.590909</td>\n",
              "      <td>1</td>\n",
              "    </tr>\n",
              "    <tr>\n",
              "      <th>62</th>\n",
              "      <td>applications</td>\n",
              "      <td>0.010473</td>\n",
              "      <td>89640.00</td>\n",
              "      <td>93071.802632</td>\n",
              "      <td>1</td>\n",
              "    </tr>\n",
              "    <tr>\n",
              "      <th>567</th>\n",
              "      <td>integration</td>\n",
              "      <td>0.010078</td>\n",
              "      <td>101000.00</td>\n",
              "      <td>103560.000000</td>\n",
              "      <td>1</td>\n",
              "    </tr>\n",
              "    <tr>\n",
              "      <th>135</th>\n",
              "      <td>business</td>\n",
              "      <td>0.009073</td>\n",
              "      <td>88750.00</td>\n",
              "      <td>90089.000000</td>\n",
              "      <td>1</td>\n",
              "    </tr>\n",
              "    <tr>\n",
              "      <th>586</th>\n",
              "      <td>java</td>\n",
              "      <td>0.009047</td>\n",
              "      <td>126000.00</td>\n",
              "      <td>109311.764706</td>\n",
              "      <td>1</td>\n",
              "    </tr>\n",
              "    <tr>\n",
              "      <th>205</th>\n",
              "      <td>computer</td>\n",
              "      <td>0.008538</td>\n",
              "      <td>85000.00</td>\n",
              "      <td>87505.909091</td>\n",
              "      <td>1</td>\n",
              "    </tr>\n",
              "    <tr>\n",
              "      <th>551</th>\n",
              "      <td>information</td>\n",
              "      <td>0.008410</td>\n",
              "      <td>110400.00</td>\n",
              "      <td>130982.727273</td>\n",
              "      <td>1</td>\n",
              "    </tr>\n",
              "    <tr>\n",
              "      <th>861</th>\n",
              "      <td>program</td>\n",
              "      <td>0.007984</td>\n",
              "      <td>87500.00</td>\n",
              "      <td>89148.967742</td>\n",
              "      <td>1</td>\n",
              "    </tr>\n",
              "    <tr>\n",
              "      <th>309</th>\n",
              "      <td>develop</td>\n",
              "      <td>0.007591</td>\n",
              "      <td>84697.50</td>\n",
              "      <td>91252.900000</td>\n",
              "      <td>1</td>\n",
              "    </tr>\n",
              "    <tr>\n",
              "      <th>667</th>\n",
              "      <td>market</td>\n",
              "      <td>0.006998</td>\n",
              "      <td>85000.00</td>\n",
              "      <td>76687.500000</td>\n",
              "      <td>1</td>\n",
              "    </tr>\n",
              "    <tr>\n",
              "      <th>571</th>\n",
              "      <td>interactive</td>\n",
              "      <td>0.006907</td>\n",
              "      <td>67092.00</td>\n",
              "      <td>68784.400000</td>\n",
              "      <td>0</td>\n",
              "    </tr>\n",
              "    <tr>\n",
              "      <th>406</th>\n",
              "      <td>experience</td>\n",
              "      <td>0.006706</td>\n",
              "      <td>91389.25</td>\n",
              "      <td>98557.407895</td>\n",
              "      <td>1</td>\n",
              "    </tr>\n",
              "    <tr>\n",
              "      <th>853</th>\n",
              "      <td>products</td>\n",
              "      <td>0.006703</td>\n",
              "      <td>88380.00</td>\n",
              "      <td>92435.444444</td>\n",
              "      <td>1</td>\n",
              "    </tr>\n",
              "    <tr>\n",
              "      <th>312</th>\n",
              "      <td>developers</td>\n",
              "      <td>0.006560</td>\n",
              "      <td>75950.00</td>\n",
              "      <td>81052.673077</td>\n",
              "      <td>0</td>\n",
              "    </tr>\n",
              "    <tr>\n",
              "      <th>851</th>\n",
              "      <td>product</td>\n",
              "      <td>0.006277</td>\n",
              "      <td>81180.00</td>\n",
              "      <td>84657.230769</td>\n",
              "      <td>0</td>\n",
              "    </tr>\n",
              "    <tr>\n",
              "      <th>296</th>\n",
              "      <td>design</td>\n",
              "      <td>0.005939</td>\n",
              "      <td>84697.50</td>\n",
              "      <td>84419.820000</td>\n",
              "      <td>1</td>\n",
              "    </tr>\n",
              "    <tr>\n",
              "      <th>1080</th>\n",
              "      <td>team</td>\n",
              "      <td>0.005757</td>\n",
              "      <td>83119.00</td>\n",
              "      <td>100591.983871</td>\n",
              "      <td>0</td>\n",
              "    </tr>\n",
              "  </tbody>\n",
              "</table>\n",
              "</div>"
            ],
            "text/plain": [
              "           feature  importance  median_salary    mean_salary  over_or_under\n",
              "314    development    0.020851       88750.00  101129.891892              1\n",
              "1211         years    0.014197       91680.00  101470.101695              1\n",
              "1017      software    0.013932       81600.00   89207.516129              0\n",
              "995       services    0.011911      132000.00  123241.590909              1\n",
              "62    applications    0.010473       89640.00   93071.802632              1\n",
              "567    integration    0.010078      101000.00  103560.000000              1\n",
              "135       business    0.009073       88750.00   90089.000000              1\n",
              "586           java    0.009047      126000.00  109311.764706              1\n",
              "205       computer    0.008538       85000.00   87505.909091              1\n",
              "551    information    0.008410      110400.00  130982.727273              1\n",
              "861        program    0.007984       87500.00   89148.967742              1\n",
              "309        develop    0.007591       84697.50   91252.900000              1\n",
              "667         market    0.006998       85000.00   76687.500000              1\n",
              "571    interactive    0.006907       67092.00   68784.400000              0\n",
              "406     experience    0.006706       91389.25   98557.407895              1\n",
              "853       products    0.006703       88380.00   92435.444444              1\n",
              "312     developers    0.006560       75950.00   81052.673077              0\n",
              "851        product    0.006277       81180.00   84657.230769              0\n",
              "296         design    0.005939       84697.50   84419.820000              1\n",
              "1080          team    0.005757       83119.00  100591.983871              0"
            ]
          },
          "metadata": {
            "tags": []
          },
          "execution_count": 113
        }
      ]
    },
    {
      "cell_type": "markdown",
      "metadata": {
        "collapsed": true,
        "id": "B5io0Kmf-YIP"
      },
      "source": [
        "#### Only title"
      ]
    },
    {
      "cell_type": "code",
      "metadata": {
        "ExecuteTime": {
          "end_time": "2020-12-01T18:19:31.215585Z",
          "start_time": "2020-12-01T18:19:26.929Z"
        },
        "id": "hxzQHeLJ-YIP"
      },
      "source": [
        "sde_salaries_w_desc = sde_salaries[sde_salaries.summary.notnull()]\n",
        "\n",
        "X_title = sde_salaries_w_desc.title\n",
        "y_title = sde_salaries_w_desc.high_salary"
      ],
      "execution_count": 116,
      "outputs": []
    },
    {
      "cell_type": "code",
      "metadata": {
        "ExecuteTime": {
          "end_time": "2020-12-01T18:19:31.218146Z",
          "start_time": "2020-12-01T18:19:26.931Z"
        },
        "id": "bfxOD8b3-YIP",
        "colab": {
          "base_uri": "https://localhost:8080/"
        },
        "outputId": "dad445eb-5de7-4a78-e551-a4861cf9e4b6"
      },
      "source": [
        "cv = CountVectorizer(stop_words=\"english\")\n",
        "cv.fit(X_title)"
      ],
      "execution_count": 117,
      "outputs": [
        {
          "output_type": "execute_result",
          "data": {
            "text/plain": [
              "CountVectorizer(analyzer='word', binary=False, decode_error='strict',\n",
              "                dtype=<class 'numpy.int64'>, encoding='utf-8', input='content',\n",
              "                lowercase=True, max_df=1.0, max_features=None, min_df=1,\n",
              "                ngram_range=(1, 1), preprocessor=None, stop_words='english',\n",
              "                strip_accents=None, token_pattern='(?u)\\\\b\\\\w\\\\w+\\\\b',\n",
              "                tokenizer=None, vocabulary=None)"
            ]
          },
          "metadata": {
            "tags": []
          },
          "execution_count": 117
        }
      ]
    },
    {
      "cell_type": "code",
      "metadata": {
        "ExecuteTime": {
          "end_time": "2020-12-01T18:19:31.220232Z",
          "start_time": "2020-12-01T18:19:26.933Z"
        },
        "id": "fuKZ34Gr-YIP"
      },
      "source": [
        "X_title_trans = pd.DataFrame(cv.transform(X_title).todense(), columns=cv.get_feature_names())"
      ],
      "execution_count": 118,
      "outputs": []
    },
    {
      "cell_type": "code",
      "metadata": {
        "ExecuteTime": {
          "end_time": "2020-12-01T18:19:31.222197Z",
          "start_time": "2020-12-01T18:19:26.934Z"
        },
        "id": "nNRyz8V8-YIP"
      },
      "source": [
        "X_train, X_test, y_train, y_test = train_test_split(X_title_trans, y_title, test_size=0.3, random_state=59)"
      ],
      "execution_count": 119,
      "outputs": []
    },
    {
      "cell_type": "code",
      "metadata": {
        "ExecuteTime": {
          "end_time": "2020-12-01T18:19:31.224365Z",
          "start_time": "2020-12-01T18:19:26.936Z"
        },
        "id": "YjUBePun-YIP",
        "colab": {
          "base_uri": "https://localhost:8080/"
        },
        "outputId": "75386b00-a2de-4bf6-fd09-bd3fb50c6712"
      },
      "source": [
        "rfc = RandomForestClassifier(200, random_state=59)\n",
        "rfc.fit(X_train, y_train)\n",
        "\n",
        "rfc_pred = rfc.predict(X_test)\n",
        "acc = accuracy_score(y_test, rfc_pred)\n",
        "print(\"Accuracy Score:\", acc.round(3))\n",
        "\n",
        "s = cross_val_score(rfc, X_title_trans.values, y_title.values, cv=10, n_jobs=-1)\n",
        "print(\"Cross Validation Score: {:0.3} ± {:0.3}\".format(s.mean().round(3), s.std().round(3)))"
      ],
      "execution_count": 120,
      "outputs": [
        {
          "output_type": "stream",
          "text": [
            "Accuracy Score: 0.678\n",
            "Cross Validation Score: 0.67 ± 0.077\n"
          ],
          "name": "stdout"
        }
      ]
    },
    {
      "cell_type": "code",
      "metadata": {
        "ExecuteTime": {
          "end_time": "2020-12-01T18:19:31.226875Z",
          "start_time": "2020-12-01T18:19:26.938Z"
        },
        "id": "UMzOix4e-YIP",
        "colab": {
          "base_uri": "https://localhost:8080/",
          "height": 669
        },
        "outputId": "89ea3cf1-cbd0-4f49-9574-88359b823d54"
      },
      "source": [
        "feature_importances = pd.DataFrame(rfc.feature_importances_,\n",
        "                                   index = X_title_trans.columns).reset_index()\n",
        "feature_importances.columns = ['feature', 'importance']\n",
        "\n",
        "feature_medians = []\n",
        "feature_means = []\n",
        "for i in X_title_trans.columns:\n",
        "    feature_medians.append(np.median(sde_salaries_w_desc[sde_salaries_w_desc.title.str.lower().str.contains(i)].salary))\n",
        "    feature_means.append(np.mean(sde_salaries_w_desc[sde_salaries_w_desc.title.str.lower().str.contains(i)].salary))\n",
        "\n",
        "\n",
        "feature_importances['median_salary'] = feature_medians\n",
        "feature_importances['mean_salary'] = feature_means\n",
        "feature_importances['over_or_under'] = [1 if i > sde_median_salary else 0 for i in feature_importances.median_salary]\n",
        "\n",
        "feature_importances.sort_values('importance', ascending=False).head(20)"
      ],
      "execution_count": 122,
      "outputs": [
        {
          "output_type": "execute_result",
          "data": {
            "text/html": [
              "<div>\n",
              "<style scoped>\n",
              "    .dataframe tbody tr th:only-of-type {\n",
              "        vertical-align: middle;\n",
              "    }\n",
              "\n",
              "    .dataframe tbody tr th {\n",
              "        vertical-align: top;\n",
              "    }\n",
              "\n",
              "    .dataframe thead th {\n",
              "        text-align: right;\n",
              "    }\n",
              "</style>\n",
              "<table border=\"1\" class=\"dataframe\">\n",
              "  <thead>\n",
              "    <tr style=\"text-align: right;\">\n",
              "      <th></th>\n",
              "      <th>feature</th>\n",
              "      <th>importance</th>\n",
              "      <th>median_salary</th>\n",
              "      <th>mean_salary</th>\n",
              "      <th>over_or_under</th>\n",
              "    </tr>\n",
              "  </thead>\n",
              "  <tbody>\n",
              "    <tr>\n",
              "      <th>127</th>\n",
              "      <td>senior</td>\n",
              "      <td>0.073504</td>\n",
              "      <td>100000.0</td>\n",
              "      <td>106736.121212</td>\n",
              "      <td>1</td>\n",
              "    </tr>\n",
              "    <tr>\n",
              "      <th>154</th>\n",
              "      <td>web</td>\n",
              "      <td>0.061986</td>\n",
              "      <td>65000.0</td>\n",
              "      <td>64048.666667</td>\n",
              "      <td>0</td>\n",
              "    </tr>\n",
              "    <tr>\n",
              "      <th>131</th>\n",
              "      <td>software</td>\n",
              "      <td>0.046915</td>\n",
              "      <td>90414.5</td>\n",
              "      <td>95563.783333</td>\n",
              "      <td>1</td>\n",
              "    </tr>\n",
              "    <tr>\n",
              "      <th>74</th>\n",
              "      <td>java</td>\n",
              "      <td>0.046171</td>\n",
              "      <td>126000.0</td>\n",
              "      <td>121173.333333</td>\n",
              "      <td>1</td>\n",
              "    </tr>\n",
              "    <tr>\n",
              "      <th>134</th>\n",
              "      <td>stack</td>\n",
              "      <td>0.039290</td>\n",
              "      <td>75000.0</td>\n",
              "      <td>81929.693878</td>\n",
              "      <td>0</td>\n",
              "    </tr>\n",
              "    <tr>\n",
              "      <th>31</th>\n",
              "      <td>developer</td>\n",
              "      <td>0.035263</td>\n",
              "      <td>80760.0</td>\n",
              "      <td>86784.333333</td>\n",
              "      <td>0</td>\n",
              "    </tr>\n",
              "    <tr>\n",
              "      <th>44</th>\n",
              "      <td>end</td>\n",
              "      <td>0.032658</td>\n",
              "      <td>72500.0</td>\n",
              "      <td>78023.896552</td>\n",
              "      <td>0</td>\n",
              "    </tr>\n",
              "    <tr>\n",
              "      <th>110</th>\n",
              "      <td>programmer</td>\n",
              "      <td>0.032400</td>\n",
              "      <td>79000.0</td>\n",
              "      <td>75767.272727</td>\n",
              "      <td>0</td>\n",
              "    </tr>\n",
              "    <tr>\n",
              "      <th>80</th>\n",
              "      <td>lead</td>\n",
              "      <td>0.025602</td>\n",
              "      <td>87500.0</td>\n",
              "      <td>119211.600000</td>\n",
              "      <td>1</td>\n",
              "    </tr>\n",
              "    <tr>\n",
              "      <th>11</th>\n",
              "      <td>architect</td>\n",
              "      <td>0.021207</td>\n",
              "      <td>141500.0</td>\n",
              "      <td>168416.666667</td>\n",
              "      <td>1</td>\n",
              "    </tr>\n",
              "    <tr>\n",
              "      <th>15</th>\n",
              "      <td>backend</td>\n",
              "      <td>0.020789</td>\n",
              "      <td>80000.0</td>\n",
              "      <td>79573.277778</td>\n",
              "      <td>0</td>\n",
              "    </tr>\n",
              "    <tr>\n",
              "      <th>72</th>\n",
              "      <td>ios</td>\n",
              "      <td>0.019947</td>\n",
              "      <td>85750.0</td>\n",
              "      <td>90350.000000</td>\n",
              "      <td>1</td>\n",
              "    </tr>\n",
              "    <tr>\n",
              "      <th>133</th>\n",
              "      <td>sr</td>\n",
              "      <td>0.018470</td>\n",
              "      <td>120000.0</td>\n",
              "      <td>123833.333333</td>\n",
              "      <td>1</td>\n",
              "    </tr>\n",
              "    <tr>\n",
              "      <th>6</th>\n",
              "      <td>android</td>\n",
              "      <td>0.017208</td>\n",
              "      <td>96718.0</td>\n",
              "      <td>95859.000000</td>\n",
              "      <td>1</td>\n",
              "    </tr>\n",
              "    <tr>\n",
              "      <th>10</th>\n",
              "      <td>application</td>\n",
              "      <td>0.016901</td>\n",
              "      <td>88200.0</td>\n",
              "      <td>108350.000000</td>\n",
              "      <td>1</td>\n",
              "    </tr>\n",
              "    <tr>\n",
              "      <th>116</th>\n",
              "      <td>react</td>\n",
              "      <td>0.014449</td>\n",
              "      <td>80000.0</td>\n",
              "      <td>81124.454545</td>\n",
              "      <td>0</td>\n",
              "    </tr>\n",
              "    <tr>\n",
              "      <th>37</th>\n",
              "      <td>drupal</td>\n",
              "      <td>0.013966</td>\n",
              "      <td>55300.0</td>\n",
              "      <td>55300.000000</td>\n",
              "      <td>0</td>\n",
              "    </tr>\n",
              "    <tr>\n",
              "      <th>45</th>\n",
              "      <td>engineer</td>\n",
              "      <td>0.013710</td>\n",
              "      <td>92778.5</td>\n",
              "      <td>93999.200000</td>\n",
              "      <td>1</td>\n",
              "    </tr>\n",
              "    <tr>\n",
              "      <th>56</th>\n",
              "      <td>frontend</td>\n",
              "      <td>0.012993</td>\n",
              "      <td>119000.0</td>\n",
              "      <td>119000.000000</td>\n",
              "      <td>1</td>\n",
              "    </tr>\n",
              "    <tr>\n",
              "      <th>129</th>\n",
              "      <td>shopify</td>\n",
              "      <td>0.012750</td>\n",
              "      <td>60000.0</td>\n",
              "      <td>60000.000000</td>\n",
              "      <td>0</td>\n",
              "    </tr>\n",
              "  </tbody>\n",
              "</table>\n",
              "</div>"
            ],
            "text/plain": [
              "         feature  importance  median_salary    mean_salary  over_or_under\n",
              "127       senior    0.073504       100000.0  106736.121212              1\n",
              "154          web    0.061986        65000.0   64048.666667              0\n",
              "131     software    0.046915        90414.5   95563.783333              1\n",
              "74          java    0.046171       126000.0  121173.333333              1\n",
              "134        stack    0.039290        75000.0   81929.693878              0\n",
              "31     developer    0.035263        80760.0   86784.333333              0\n",
              "44           end    0.032658        72500.0   78023.896552              0\n",
              "110   programmer    0.032400        79000.0   75767.272727              0\n",
              "80          lead    0.025602        87500.0  119211.600000              1\n",
              "11     architect    0.021207       141500.0  168416.666667              1\n",
              "15       backend    0.020789        80000.0   79573.277778              0\n",
              "72           ios    0.019947        85750.0   90350.000000              1\n",
              "133           sr    0.018470       120000.0  123833.333333              1\n",
              "6        android    0.017208        96718.0   95859.000000              1\n",
              "10   application    0.016901        88200.0  108350.000000              1\n",
              "116        react    0.014449        80000.0   81124.454545              0\n",
              "37        drupal    0.013966        55300.0   55300.000000              0\n",
              "45      engineer    0.013710        92778.5   93999.200000              1\n",
              "56      frontend    0.012993       119000.0  119000.000000              1\n",
              "129      shopify    0.012750        60000.0   60000.000000              0"
            ]
          },
          "metadata": {
            "tags": []
          },
          "execution_count": 122
        }
      ]
    },
    {
      "cell_type": "markdown",
      "metadata": {
        "id": "DsCak_Wz-YIP"
      },
      "source": [
        "#### Combining Title CV, Summary CV, and Location"
      ]
    },
    {
      "cell_type": "code",
      "metadata": {
        "ExecuteTime": {
          "end_time": "2020-12-01T18:19:31.228493Z",
          "start_time": "2020-12-01T18:19:26.957Z"
        },
        "id": "M01s8IER-YIP"
      },
      "source": [
        "sde_salaries_w_desc = sde_salaries_w_desc[sde_salaries_w_desc.summary.notnull()].reset_index()\n",
        "city_dummies = pd.get_dummies(sde_salaries_w_desc.city)\n",
        "\n",
        "X = pd.concat([city_dummies, X_title_trans, X_summ_trans], axis=1)\n",
        "y = sde_salaries_w_desc.high_salary"
      ],
      "execution_count": 124,
      "outputs": []
    },
    {
      "cell_type": "code",
      "metadata": {
        "ExecuteTime": {
          "end_time": "2020-12-01T18:19:31.229915Z",
          "start_time": "2020-12-01T18:19:26.959Z"
        },
        "id": "bbB3ElHW-YIP",
        "colab": {
          "base_uri": "https://localhost:8080/"
        },
        "outputId": "5fdad6ce-6c64-46f5-c232-631bf3bef495"
      },
      "source": [
        "print(X.shape)\n",
        "print(y.shape)"
      ],
      "execution_count": 125,
      "outputs": [
        {
          "output_type": "stream",
          "text": [
            "(288, 1411)\n",
            "(288,)\n"
          ],
          "name": "stdout"
        }
      ]
    },
    {
      "cell_type": "code",
      "metadata": {
        "ExecuteTime": {
          "end_time": "2020-12-01T18:19:31.231512Z",
          "start_time": "2020-12-01T18:19:26.960Z"
        },
        "id": "5R9pK858-YIP"
      },
      "source": [
        "X_train, X_test, y_train, y_test = train_test_split(X.values, y, test_size=0.3, random_state=1234, stratify=y)"
      ],
      "execution_count": 126,
      "outputs": []
    },
    {
      "cell_type": "code",
      "metadata": {
        "ExecuteTime": {
          "end_time": "2020-12-01T18:19:31.233073Z",
          "start_time": "2020-12-01T18:19:26.962Z"
        },
        "id": "uuQHlhXK-YIP",
        "colab": {
          "base_uri": "https://localhost:8080/"
        },
        "outputId": "e6a0f444-760a-4f6e-be39-ded2d27fef28"
      },
      "source": [
        "rfc = RandomForestClassifier(500, random_state=59)\n",
        "rfc.fit(X_train, y_train)\n",
        "\n",
        "rfc_pred = rfc.predict(X_test)\n",
        "acc = accuracy_score(y_test, rfc_pred)\n",
        "print(\"Accuracy Score:\", acc.round(3))\n",
        "\n",
        "s = cross_val_score(rfc, X.values, y.values, cv=10, n_jobs=-1)\n",
        "print(\"Cross Validation Score: {:0.3} ± {:0.3}\".format(s.mean().round(3), s.std().round(3)))"
      ],
      "execution_count": 127,
      "outputs": [
        {
          "output_type": "stream",
          "text": [
            "Accuracy Score: 0.736\n",
            "Cross Validation Score: 0.67 ± 0.096\n"
          ],
          "name": "stdout"
        }
      ]
    },
    {
      "cell_type": "code",
      "metadata": {
        "ExecuteTime": {
          "end_time": "2020-12-01T18:19:31.234759Z",
          "start_time": "2020-12-01T18:19:26.964Z"
        },
        "id": "iNOXCIwk-YIP",
        "colab": {
          "base_uri": "https://localhost:8080/",
          "height": 669
        },
        "outputId": "32467bc9-1c2c-4d39-f313-b83be1589b1c"
      },
      "source": [
        "feature_importances = pd.DataFrame(rfc.feature_importances_,\n",
        "                                   index = X.columns).reset_index()\n",
        "feature_importances.columns = ['feature', 'importance']\n",
        "\n",
        "feature_medians = []\n",
        "for i in city_dummies.columns:\n",
        "    feature_medians.append(np.median(sde_salaries[sde_salaries.city == i].salary))\n",
        "for i in X_title_trans.columns:\n",
        "    feature_medians.append(np.median(sde_salaries_w_desc[sde_salaries_w_desc.title.str.lower().str.contains(i)].salary))\n",
        "for i in X_summ_trans.columns:\n",
        "    feature_medians.append(np.median(sde_salaries_w_desc[sde_salaries_w_desc.summary.str.lower().str.contains(i)].salary))\n",
        "\n",
        "feature_importances['median_salary'] = feature_medians\n",
        "feature_importances['over_or_under'] = [1 if i > sde_median_salary else 0 for i in feature_importances.median_salary]\n",
        "\n",
        "feature_importances.sort_values('importance', ascending=False).head(20)"
      ],
      "execution_count": 129,
      "outputs": [
        {
          "output_type": "execute_result",
          "data": {
            "text/html": [
              "<div>\n",
              "<style scoped>\n",
              "    .dataframe tbody tr th:only-of-type {\n",
              "        vertical-align: middle;\n",
              "    }\n",
              "\n",
              "    .dataframe tbody tr th {\n",
              "        vertical-align: top;\n",
              "    }\n",
              "\n",
              "    .dataframe thead th {\n",
              "        text-align: right;\n",
              "    }\n",
              "</style>\n",
              "<table border=\"1\" class=\"dataframe\">\n",
              "  <thead>\n",
              "    <tr style=\"text-align: right;\">\n",
              "      <th></th>\n",
              "      <th>feature</th>\n",
              "      <th>importance</th>\n",
              "      <th>median_salary</th>\n",
              "      <th>over_or_under</th>\n",
              "    </tr>\n",
              "  </thead>\n",
              "  <tbody>\n",
              "    <tr>\n",
              "      <th>189</th>\n",
              "      <td>web</td>\n",
              "      <td>0.020668</td>\n",
              "      <td>65000.00</td>\n",
              "      <td>0</td>\n",
              "    </tr>\n",
              "    <tr>\n",
              "      <th>1407</th>\n",
              "      <td>years</td>\n",
              "      <td>0.016067</td>\n",
              "      <td>91680.00</td>\n",
              "      <td>1</td>\n",
              "    </tr>\n",
              "    <tr>\n",
              "      <th>162</th>\n",
              "      <td>senior</td>\n",
              "      <td>0.014975</td>\n",
              "      <td>100000.00</td>\n",
              "      <td>1</td>\n",
              "    </tr>\n",
              "    <tr>\n",
              "      <th>30</th>\n",
              "      <td>Vancouver, BC</td>\n",
              "      <td>0.011304</td>\n",
              "      <td>82986.00</td>\n",
              "      <td>0</td>\n",
              "    </tr>\n",
              "    <tr>\n",
              "      <th>602</th>\n",
              "      <td>experience</td>\n",
              "      <td>0.010798</td>\n",
              "      <td>91389.25</td>\n",
              "      <td>1</td>\n",
              "    </tr>\n",
              "    <tr>\n",
              "      <th>464</th>\n",
              "      <td>data</td>\n",
              "      <td>0.010004</td>\n",
              "      <td>94800.00</td>\n",
              "      <td>1</td>\n",
              "    </tr>\n",
              "    <tr>\n",
              "      <th>510</th>\n",
              "      <td>development</td>\n",
              "      <td>0.009728</td>\n",
              "      <td>88750.00</td>\n",
              "      <td>1</td>\n",
              "    </tr>\n",
              "    <tr>\n",
              "      <th>1213</th>\n",
              "      <td>software</td>\n",
              "      <td>0.009326</td>\n",
              "      <td>81600.00</td>\n",
              "      <td>0</td>\n",
              "    </tr>\n",
              "    <tr>\n",
              "      <th>841</th>\n",
              "      <td>looking</td>\n",
              "      <td>0.008541</td>\n",
              "      <td>65576.50</td>\n",
              "      <td>0</td>\n",
              "    </tr>\n",
              "    <tr>\n",
              "      <th>169</th>\n",
              "      <td>stack</td>\n",
              "      <td>0.008508</td>\n",
              "      <td>75000.00</td>\n",
              "      <td>0</td>\n",
              "    </tr>\n",
              "    <tr>\n",
              "      <th>15</th>\n",
              "      <td>Mississauga, ON</td>\n",
              "      <td>0.008466</td>\n",
              "      <td>94500.00</td>\n",
              "      <td>1</td>\n",
              "    </tr>\n",
              "    <tr>\n",
              "      <th>66</th>\n",
              "      <td>developer</td>\n",
              "      <td>0.008284</td>\n",
              "      <td>80760.00</td>\n",
              "      <td>0</td>\n",
              "    </tr>\n",
              "    <tr>\n",
              "      <th>697</th>\n",
              "      <td>hardware</td>\n",
              "      <td>0.007888</td>\n",
              "      <td>68220.00</td>\n",
              "      <td>0</td>\n",
              "    </tr>\n",
              "    <tr>\n",
              "      <th>1276</th>\n",
              "      <td>team</td>\n",
              "      <td>0.006614</td>\n",
              "      <td>83119.00</td>\n",
              "      <td>0</td>\n",
              "    </tr>\n",
              "    <tr>\n",
              "      <th>29</th>\n",
              "      <td>Toronto, ON</td>\n",
              "      <td>0.006433</td>\n",
              "      <td>85000.00</td>\n",
              "      <td>1</td>\n",
              "    </tr>\n",
              "    <tr>\n",
              "      <th>46</th>\n",
              "      <td>architect</td>\n",
              "      <td>0.006027</td>\n",
              "      <td>141500.00</td>\n",
              "      <td>1</td>\n",
              "    </tr>\n",
              "    <tr>\n",
              "      <th>1049</th>\n",
              "      <td>products</td>\n",
              "      <td>0.005891</td>\n",
              "      <td>88380.00</td>\n",
              "      <td>1</td>\n",
              "    </tr>\n",
              "    <tr>\n",
              "      <th>56</th>\n",
              "      <td>computer</td>\n",
              "      <td>0.005881</td>\n",
              "      <td>90000.00</td>\n",
              "      <td>1</td>\n",
              "    </tr>\n",
              "    <tr>\n",
              "      <th>166</th>\n",
              "      <td>software</td>\n",
              "      <td>0.005863</td>\n",
              "      <td>90414.50</td>\n",
              "      <td>1</td>\n",
              "    </tr>\n",
              "    <tr>\n",
              "      <th>782</th>\n",
              "      <td>java</td>\n",
              "      <td>0.005747</td>\n",
              "      <td>126000.00</td>\n",
              "      <td>1</td>\n",
              "    </tr>\n",
              "  </tbody>\n",
              "</table>\n",
              "</div>"
            ],
            "text/plain": [
              "              feature  importance  median_salary  over_or_under\n",
              "189               web    0.020668       65000.00              0\n",
              "1407            years    0.016067       91680.00              1\n",
              "162            senior    0.014975      100000.00              1\n",
              "30      Vancouver, BC    0.011304       82986.00              0\n",
              "602        experience    0.010798       91389.25              1\n",
              "464              data    0.010004       94800.00              1\n",
              "510       development    0.009728       88750.00              1\n",
              "1213         software    0.009326       81600.00              0\n",
              "841           looking    0.008541       65576.50              0\n",
              "169             stack    0.008508       75000.00              0\n",
              "15    Mississauga, ON    0.008466       94500.00              1\n",
              "66          developer    0.008284       80760.00              0\n",
              "697          hardware    0.007888       68220.00              0\n",
              "1276             team    0.006614       83119.00              0\n",
              "29        Toronto, ON    0.006433       85000.00              1\n",
              "46          architect    0.006027      141500.00              1\n",
              "1049         products    0.005891       88380.00              1\n",
              "56           computer    0.005881       90000.00              1\n",
              "166          software    0.005863       90414.50              1\n",
              "782              java    0.005747      126000.00              1"
            ]
          },
          "metadata": {
            "tags": []
          },
          "execution_count": 129
        }
      ]
    },
    {
      "cell_type": "code",
      "metadata": {
        "id": "2aWWWWRAkCwn"
      },
      "source": [
        ""
      ],
      "execution_count": null,
      "outputs": []
    }
  ]
}