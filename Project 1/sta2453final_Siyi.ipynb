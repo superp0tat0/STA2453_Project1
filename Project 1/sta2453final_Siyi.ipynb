{
 "cells": [
  {
   "cell_type": "code",
   "execution_count": null,
   "metadata": {},
   "outputs": [],
   "source": [
    "import nltk\n",
    "nltk.download('stopwords')"
   ]
  },
  {
   "cell_type": "code",
   "execution_count": 57,
   "metadata": {
    "ExecuteTime": {
     "end_time": "2020-12-06T06:02:45.549704Z",
     "start_time": "2020-12-06T06:02:45.542311Z"
    }
   },
   "outputs": [],
   "source": [
    "import pandas as pd\n",
    "import numpy as np\n",
    "from wordcloud import WordCloud, STOPWORDS, ImageColorGenerator\n",
    "from nltk.corpus import stopwords\n",
    "stop_common=set(stopwords.words('english'))\n",
    "import matplotlib.pyplot as plt\n",
    "import requests\n",
    "import bs4\n",
    "from bs4 import BeautifulSoup\n",
    "import re\n",
    "from tqdm import tqdm\n",
    "from tqdm import tqdm_notebook\n",
    "import time\n",
    "from time import sleep\n",
    "from sklearn.model_selection import cross_val_score, StratifiedKFold, train_test_split\n",
    "from sklearn.tree import DecisionTreeClassifier\n",
    "from sklearn.ensemble import RandomForestClassifier, ExtraTreesClassifier, BaggingClassifier, AdaBoostClassifier, GradientBoostingClassifier\n",
    "from sklearn.metrics import accuracy_score\n",
    "from sklearn.feature_extraction.text import CountVectorizer, HashingVectorizer, TfidfVectorizer"
   ]
  },
  {
   "cell_type": "code",
   "execution_count": 85,
   "metadata": {
    "ExecuteTime": {
     "end_time": "2020-12-06T06:20:57.799030Z",
     "start_time": "2020-12-06T06:20:57.794644Z"
    }
   },
   "outputs": [
    {
     "data": {
      "text/plain": [
       "15"
      ]
     },
     "execution_count": 85,
     "metadata": {},
     "output_type": "execute_result"
    }
   ],
   "source": [
    "cities = ['Toronto%2C+ON', 'Waterloo%2C+ON', 'Montreal%2C+QC', 'Vancouver%2C+BC', 'Calgary%2C+AB', 'Ottawa%2C+ON', 'Québec+City%2C+QC', 'Brampton%2C+ON', 'Halifax%2C+NS', 'Hamilton%2C+ON', 'Surrey%2C+BC', 'Victoria%2C+BC', 'Kitchener%2C+ON', 'Winnipeg%2C+MB', 'Edmonton%2C+AB']\n",
    "len(cities)"
   ]
  },
  {
   "cell_type": "code",
   "execution_count": 86,
   "metadata": {
    "ExecuteTime": {
     "end_time": "2020-12-06T06:24:21.048513Z",
     "start_time": "2020-12-06T06:21:02.667767Z"
    }
   },
   "outputs": [
    {
     "name": "stderr",
     "output_type": "stream",
     "text": [
      " 47%|████▋     | 7/15 [03:12<03:27, 25.91s/it]"
     ]
    },
    {
     "name": "stdout",
     "output_type": "stream",
     "text": [
      "Captcha error( Québec+City%2C+QC ): Retry in some time or use proxy.\n"
     ]
    },
    {
     "name": "stderr",
     "output_type": "stream",
     "text": [
      "\r",
      " 53%|█████▎    | 8/15 [03:12<02:07, 18.20s/it]"
     ]
    },
    {
     "name": "stdout",
     "output_type": "stream",
     "text": [
      "Captcha error( Brampton%2C+ON ): Retry in some time or use proxy.\n"
     ]
    },
    {
     "name": "stderr",
     "output_type": "stream",
     "text": [
      " 67%|██████▋   | 10/15 [03:12<00:45,  9.02s/it]"
     ]
    },
    {
     "name": "stdout",
     "output_type": "stream",
     "text": [
      "Captcha error( Halifax%2C+NS ): Retry in some time or use proxy.\n",
      "Captcha error( Hamilton%2C+ON ): Retry in some time or use proxy.\n"
     ]
    },
    {
     "name": "stderr",
     "output_type": "stream",
     "text": [
      "\r",
      " 73%|███████▎  | 11/15 [03:15<00:28,  7.04s/it]"
     ]
    },
    {
     "name": "stdout",
     "output_type": "stream",
     "text": [
      "Captcha error( Surrey%2C+BC ): Retry in some time or use proxy.\n"
     ]
    },
    {
     "name": "stderr",
     "output_type": "stream",
     "text": [
      "\r",
      " 80%|████████  | 12/15 [03:17<00:16,  5.66s/it]"
     ]
    },
    {
     "name": "stdout",
     "output_type": "stream",
     "text": [
      "Captcha error( Victoria%2C+BC ): Retry in some time or use proxy.\n"
     ]
    },
    {
     "name": "stderr",
     "output_type": "stream",
     "text": [
      " 93%|█████████▎| 14/15 [03:18<00:02,  2.88s/it]"
     ]
    },
    {
     "name": "stdout",
     "output_type": "stream",
     "text": [
      "Captcha error( Kitchener%2C+ON ): Retry in some time or use proxy.\n",
      "Captcha error( Winnipeg%2C+MB ): Retry in some time or use proxy.\n"
     ]
    },
    {
     "name": "stderr",
     "output_type": "stream",
     "text": [
      "100%|██████████| 15/15 [03:18<00:00, 13.22s/it]"
     ]
    },
    {
     "name": "stdout",
     "output_type": "stream",
     "text": [
      "Captcha error( Edmonton%2C+AB ): Retry in some time or use proxy.\n"
     ]
    },
    {
     "name": "stderr",
     "output_type": "stream",
     "text": [
      "\n"
     ]
    }
   ],
   "source": [
    "max_results_per_city = 1000\n",
    "header = {\"user-agent\": \"Mozilla/5.0 (Windows NT 10.0; Win64; x64) AppleWebKit/537.36 (KHTML, like Gecko) Chrome/74.0.3729.169 Safari/537.36\" ,'referer':'https://www.google.com/'}\n",
    "\n",
    "results = []\n",
    "for i in tqdm(range(len(cities))):\n",
    "    for start in range(0, max_results_per_city, 100):\n",
    "        url = \"https://ca.indeed.com/jobs?as_and=software+developer&as_phr=&as_any=&as_not=&as_ttl=&as_cmp=&jt=all&st=&salary=&radius=25&l=\"+cities[i]+\"&fromage=any&limit=100&start=\"+str(start)+\"&sort=&psf=advsrch\"\n",
    "        html = requests.get(url, headers = header)\n",
    "        soup = BeautifulSoup(html.content, 'html.parser')\n",
    "        if(len(soup.find_all('script', {'src':'https://www.google.com/recaptcha/api.js'}))==1):\n",
    "            print('Captcha error(', cities[i],'): Retry in some time or use proxy.')\n",
    "            break\n",
    "        for row in soup.find_all('div', {'class':'jobsearch-SerpJobCard unifiedRow row result'}):\n",
    "            results.append(row)\n",
    "        sleep(2)"
   ]
  },
  {
   "cell_type": "code",
   "execution_count": 87,
   "metadata": {
    "ExecuteTime": {
     "end_time": "2020-12-06T06:25:11.390063Z",
     "start_time": "2020-12-06T06:25:11.387293Z"
    }
   },
   "outputs": [],
   "source": [
    "results_backup = results"
   ]
  },
  {
   "cell_type": "code",
   "execution_count": 88,
   "metadata": {
    "ExecuteTime": {
     "end_time": "2020-12-06T06:25:19.138275Z",
     "start_time": "2020-12-06T06:25:19.123574Z"
    }
   },
   "outputs": [],
   "source": [
    "jobs = pd.DataFrame(columns=['location', 'title', 'company', 'salary', 'summary'])"
   ]
  },
  {
   "cell_type": "code",
   "execution_count": 89,
   "metadata": {
    "ExecuteTime": {
     "end_time": "2020-12-06T06:25:26.668931Z",
     "start_time": "2020-12-06T06:25:26.640203Z"
    }
   },
   "outputs": [],
   "source": [
    "def get_loc(row):\n",
    "    try:\n",
    "        return row.find('span', {'class':'location'}).text\n",
    "    except: return 'NA'\n",
    "\n",
    "\n",
    "def get_comp(row):\n",
    "    try:\n",
    "        return row.find('span', {'class':'company'}).text.replace('\\n','')\n",
    "    except: return 'NA'\n",
    "    \n",
    "def get_job(row):\n",
    "    try:\n",
    "        return row.find('a', {'data-tn-element':'jobTitle'}).text.replace('\\n','')\n",
    "    except: return 'NA'\n",
    "    \n",
    "        \n",
    "def get_sal(row):\n",
    "    try:\n",
    "        return row.find('span', {'class':'salaryText'}).text.replace('\\n','')\n",
    "    except: return 'NA'\n",
    "    \n",
    "    \n",
    "def get_desc(row):\n",
    "    try:\n",
    "        return row.find('div', {'class':'summary'}).text.replace('\\n','')\n",
    "    except: return 'NA'\n"
   ]
  },
  {
   "cell_type": "code",
   "execution_count": 90,
   "metadata": {
    "ExecuteTime": {
     "end_time": "2020-12-06T06:25:41.446891Z",
     "start_time": "2020-12-06T06:25:34.187244Z"
    }
   },
   "outputs": [],
   "source": [
    "for result in results:\n",
    "    location = get_loc(result)\n",
    "    title = get_job(result)\n",
    "    company = get_comp(result)\n",
    "    salary = get_sal(result)\n",
    "    desc = get_desc(result)\n",
    "    jobs.loc[len(jobs)] = [location, title, company, salary, desc]"
   ]
  },
  {
   "cell_type": "code",
   "execution_count": 91,
   "metadata": {
    "ExecuteTime": {
     "end_time": "2020-12-06T06:25:48.814741Z",
     "start_time": "2020-12-06T06:25:48.795557Z"
    },
    "scrolled": false
   },
   "outputs": [
    {
     "data": {
      "text/html": [
       "<div>\n",
       "<style scoped>\n",
       "    .dataframe tbody tr th:only-of-type {\n",
       "        vertical-align: middle;\n",
       "    }\n",
       "\n",
       "    .dataframe tbody tr th {\n",
       "        vertical-align: top;\n",
       "    }\n",
       "\n",
       "    .dataframe thead th {\n",
       "        text-align: right;\n",
       "    }\n",
       "</style>\n",
       "<table border=\"1\" class=\"dataframe\">\n",
       "  <thead>\n",
       "    <tr style=\"text-align: right;\">\n",
       "      <th></th>\n",
       "      <th>location</th>\n",
       "      <th>title</th>\n",
       "      <th>company</th>\n",
       "      <th>salary</th>\n",
       "      <th>summary</th>\n",
       "    </tr>\n",
       "  </thead>\n",
       "  <tbody>\n",
       "    <tr>\n",
       "      <td>0</td>\n",
       "      <td>NA</td>\n",
       "      <td>Software Developer</td>\n",
       "      <td>Concentra Bank</td>\n",
       "      <td>$57,756 - $136,321 a year</td>\n",
       "      <td>This position also ensures that appropriate do...</td>\n",
       "    </tr>\n",
       "    <tr>\n",
       "      <td>1</td>\n",
       "      <td>NA</td>\n",
       "      <td>Full Stack Developer</td>\n",
       "      <td>AGM Renovations</td>\n",
       "      <td>NA</td>\n",
       "      <td>NA</td>\n",
       "    </tr>\n",
       "    <tr>\n",
       "      <td>2</td>\n",
       "      <td>NA</td>\n",
       "      <td>Software Developer full stack</td>\n",
       "      <td>RIFO Realty Group Inc</td>\n",
       "      <td>$65,000 - $85,000 a year</td>\n",
       "      <td>5+ years software development (Web) experience...</td>\n",
       "    </tr>\n",
       "    <tr>\n",
       "      <td>3</td>\n",
       "      <td>NA</td>\n",
       "      <td>Jr. Web Developer</td>\n",
       "      <td>Park Street Education</td>\n",
       "      <td>NA</td>\n",
       "      <td>NA</td>\n",
       "    </tr>\n",
       "    <tr>\n",
       "      <td>4</td>\n",
       "      <td>NA</td>\n",
       "      <td>Software Developer, Java (Platform/Banking Teams)</td>\n",
       "      <td>GeeksForLess Canada Inc.</td>\n",
       "      <td>$130,000 - $140,000 a year</td>\n",
       "      <td>A decent understanding of modern cloud infra/d...</td>\n",
       "    </tr>\n",
       "  </tbody>\n",
       "</table>\n",
       "</div>"
      ],
      "text/plain": [
       "  location                                              title  \\\n",
       "0       NA                                 Software Developer   \n",
       "1       NA                               Full Stack Developer   \n",
       "2       NA                      Software Developer full stack   \n",
       "3       NA                                  Jr. Web Developer   \n",
       "4       NA  Software Developer, Java (Platform/Banking Teams)   \n",
       "\n",
       "                    company                      salary  \\\n",
       "0            Concentra Bank   $57,756 - $136,321 a year   \n",
       "1           AGM Renovations                          NA   \n",
       "2     RIFO Realty Group Inc    $65,000 - $85,000 a year   \n",
       "3     Park Street Education                          NA   \n",
       "4  GeeksForLess Canada Inc.  $130,000 - $140,000 a year   \n",
       "\n",
       "                                             summary  \n",
       "0  This position also ensures that appropriate do...  \n",
       "1                                                 NA  \n",
       "2  5+ years software development (Web) experience...  \n",
       "3                                                 NA  \n",
       "4  A decent understanding of modern cloud infra/d...  "
      ]
     },
     "execution_count": 91,
     "metadata": {},
     "output_type": "execute_result"
    }
   ],
   "source": [
    "jobs.head(5)"
   ]
  },
  {
   "cell_type": "code",
   "execution_count": 92,
   "metadata": {
    "ExecuteTime": {
     "end_time": "2020-12-06T06:25:56.232383Z",
     "start_time": "2020-12-06T06:25:56.228304Z"
    }
   },
   "outputs": [
    {
     "data": {
      "text/plain": [
       "(3288, 5)"
      ]
     },
     "execution_count": 92,
     "metadata": {},
     "output_type": "execute_result"
    }
   ],
   "source": [
    "jobs.shape"
   ]
  },
  {
   "cell_type": "code",
   "execution_count": 93,
   "metadata": {
    "ExecuteTime": {
     "end_time": "2020-12-06T06:26:03.429531Z",
     "start_time": "2020-12-06T06:26:03.411703Z"
    }
   },
   "outputs": [],
   "source": [
    "jobs = jobs.drop_duplicates()"
   ]
  },
  {
   "cell_type": "code",
   "execution_count": 94,
   "metadata": {
    "ExecuteTime": {
     "end_time": "2020-12-06T06:26:10.635690Z",
     "start_time": "2020-12-06T06:26:10.630302Z"
    }
   },
   "outputs": [
    {
     "data": {
      "text/plain": [
       "(2318, 5)"
      ]
     },
     "execution_count": 94,
     "metadata": {},
     "output_type": "execute_result"
    }
   ],
   "source": [
    "jobs.shape"
   ]
  },
  {
   "cell_type": "code",
   "execution_count": 95,
   "metadata": {
    "ExecuteTime": {
     "end_time": "2020-12-06T06:26:18.002815Z",
     "start_time": "2020-12-06T06:26:17.975783Z"
    }
   },
   "outputs": [],
   "source": [
    "jobs.to_csv('scraped_results.csv', index=False, encoding='utf-8')"
   ]
  },
  {
   "cell_type": "code",
   "execution_count": 96,
   "metadata": {
    "ExecuteTime": {
     "end_time": "2020-12-06T06:26:25.220109Z",
     "start_time": "2020-12-06T06:26:25.203254Z"
    }
   },
   "outputs": [],
   "source": [
    "scrapped_data = pd.read_csv('scraped_results.csv')"
   ]
  },
  {
   "cell_type": "code",
   "execution_count": 97,
   "metadata": {
    "ExecuteTime": {
     "end_time": "2020-12-06T06:26:32.360779Z",
     "start_time": "2020-12-06T06:26:32.354195Z"
    }
   },
   "outputs": [],
   "source": [
    "salaries = scrapped_data[scrapped_data.salary.notnull()]"
   ]
  },
  {
   "cell_type": "code",
   "execution_count": 98,
   "metadata": {
    "ExecuteTime": {
     "end_time": "2020-12-06T06:26:39.549987Z",
     "start_time": "2020-12-06T06:26:39.542198Z"
    }
   },
   "outputs": [
    {
     "data": {
      "text/plain": [
       "(349, 5)"
      ]
     },
     "execution_count": 98,
     "metadata": {},
     "output_type": "execute_result"
    }
   ],
   "source": [
    "salaries.shape"
   ]
  },
  {
   "cell_type": "code",
   "execution_count": 99,
   "metadata": {
    "ExecuteTime": {
     "end_time": "2020-12-06T06:26:46.901309Z",
     "start_time": "2020-12-06T06:26:46.881253Z"
    }
   },
   "outputs": [
    {
     "data": {
      "text/html": [
       "<div>\n",
       "<style scoped>\n",
       "    .dataframe tbody tr th:only-of-type {\n",
       "        vertical-align: middle;\n",
       "    }\n",
       "\n",
       "    .dataframe tbody tr th {\n",
       "        vertical-align: top;\n",
       "    }\n",
       "\n",
       "    .dataframe thead th {\n",
       "        text-align: right;\n",
       "    }\n",
       "</style>\n",
       "<table border=\"1\" class=\"dataframe\">\n",
       "  <thead>\n",
       "    <tr style=\"text-align: right;\">\n",
       "      <th></th>\n",
       "      <th>location</th>\n",
       "      <th>title</th>\n",
       "      <th>company</th>\n",
       "      <th>salary</th>\n",
       "      <th>summary</th>\n",
       "    </tr>\n",
       "  </thead>\n",
       "  <tbody>\n",
       "    <tr>\n",
       "      <td>0</td>\n",
       "      <td>NaN</td>\n",
       "      <td>Software Developer</td>\n",
       "      <td>Concentra Bank</td>\n",
       "      <td>$57,756 - $136,321 a year</td>\n",
       "      <td>This position also ensures that appropriate do...</td>\n",
       "    </tr>\n",
       "    <tr>\n",
       "      <td>2</td>\n",
       "      <td>NaN</td>\n",
       "      <td>Software Developer full stack</td>\n",
       "      <td>RIFO Realty Group Inc</td>\n",
       "      <td>$65,000 - $85,000 a year</td>\n",
       "      <td>5+ years software development (Web) experience...</td>\n",
       "    </tr>\n",
       "    <tr>\n",
       "      <td>4</td>\n",
       "      <td>NaN</td>\n",
       "      <td>Software Developer, Java (Platform/Banking Teams)</td>\n",
       "      <td>GeeksForLess Canada Inc.</td>\n",
       "      <td>$130,000 - $140,000 a year</td>\n",
       "      <td>A decent understanding of modern cloud infra/d...</td>\n",
       "    </tr>\n",
       "    <tr>\n",
       "      <td>5</td>\n",
       "      <td>NaN</td>\n",
       "      <td>Database Programmer</td>\n",
       "      <td>B3 Systems</td>\n",
       "      <td>$50,000 - $80,000 a year</td>\n",
       "      <td>Appropriate experience in a software engineeri...</td>\n",
       "    </tr>\n",
       "    <tr>\n",
       "      <td>6</td>\n",
       "      <td>NaN</td>\n",
       "      <td>Full Stack Java, C#, Objective-C/Swift Softwar...</td>\n",
       "      <td>YuJa - Powering Enterprise Video Everywhere</td>\n",
       "      <td>$65,000 - $125,000 a year</td>\n",
       "      <td>You can recognize software problems and develo...</td>\n",
       "    </tr>\n",
       "    <tr>\n",
       "      <td>...</td>\n",
       "      <td>...</td>\n",
       "      <td>...</td>\n",
       "      <td>...</td>\n",
       "      <td>...</td>\n",
       "      <td>...</td>\n",
       "    </tr>\n",
       "    <tr>\n",
       "      <td>2203</td>\n",
       "      <td>Quebec City, QC</td>\n",
       "      <td>Developer Backend / PHP &amp; Node.js</td>\n",
       "      <td>Gilcode</td>\n",
       "      <td>$18 - $26 an hour</td>\n",
       "      <td>Gilcode aide des compagnies à transformer des ...</td>\n",
       "    </tr>\n",
       "    <tr>\n",
       "      <td>2215</td>\n",
       "      <td>Quebec City, QC</td>\n",
       "      <td>Java Developer</td>\n",
       "      <td>Objex, Inc.</td>\n",
       "      <td>$50 - $60 an hour</td>\n",
       "      <td>Hands-on experience implementing Microservices...</td>\n",
       "    </tr>\n",
       "    <tr>\n",
       "      <td>2245</td>\n",
       "      <td>Quebec City, QC</td>\n",
       "      <td>Senior Software Engineer</td>\n",
       "      <td>Dalimer Corporation</td>\n",
       "      <td>$70,000 - $75,000 a year</td>\n",
       "      <td>Integrate software components into a fully fun...</td>\n",
       "    </tr>\n",
       "    <tr>\n",
       "      <td>2279</td>\n",
       "      <td>NaN</td>\n",
       "      <td>Senior Full-Stack Ruby on Rails and React Soft...</td>\n",
       "      <td>NuBinary Inc</td>\n",
       "      <td>$80,000 - $120,000 a year</td>\n",
       "      <td>We are a custom software consulting and develo...</td>\n",
       "    </tr>\n",
       "    <tr>\n",
       "      <td>2291</td>\n",
       "      <td>Quebec City, QC</td>\n",
       "      <td>Senior Software Engineer</td>\n",
       "      <td>Dalimer Corporation</td>\n",
       "      <td>$70,000 - $75,000 a year</td>\n",
       "      <td>Dalimer (Outsourcing) Inc. is looking for a So...</td>\n",
       "    </tr>\n",
       "  </tbody>\n",
       "</table>\n",
       "<p>349 rows × 5 columns</p>\n",
       "</div>"
      ],
      "text/plain": [
       "             location                                              title  \\\n",
       "0                 NaN                                 Software Developer   \n",
       "2                 NaN                      Software Developer full stack   \n",
       "4                 NaN  Software Developer, Java (Platform/Banking Teams)   \n",
       "5                 NaN                                Database Programmer   \n",
       "6                 NaN  Full Stack Java, C#, Objective-C/Swift Softwar...   \n",
       "...               ...                                                ...   \n",
       "2203  Quebec City, QC                  Developer Backend / PHP & Node.js   \n",
       "2215  Quebec City, QC                                     Java Developer   \n",
       "2245  Quebec City, QC                           Senior Software Engineer   \n",
       "2279              NaN  Senior Full-Stack Ruby on Rails and React Soft...   \n",
       "2291  Quebec City, QC                           Senior Software Engineer   \n",
       "\n",
       "                                          company                      salary  \\\n",
       "0                                  Concentra Bank   $57,756 - $136,321 a year   \n",
       "2                           RIFO Realty Group Inc    $65,000 - $85,000 a year   \n",
       "4                        GeeksForLess Canada Inc.  $130,000 - $140,000 a year   \n",
       "5                                      B3 Systems    $50,000 - $80,000 a year   \n",
       "6     YuJa - Powering Enterprise Video Everywhere   $65,000 - $125,000 a year   \n",
       "...                                           ...                         ...   \n",
       "2203                                      Gilcode           $18 - $26 an hour   \n",
       "2215                                  Objex, Inc.           $50 - $60 an hour   \n",
       "2245                          Dalimer Corporation    $70,000 - $75,000 a year   \n",
       "2279                                 NuBinary Inc   $80,000 - $120,000 a year   \n",
       "2291                          Dalimer Corporation    $70,000 - $75,000 a year   \n",
       "\n",
       "                                                summary  \n",
       "0     This position also ensures that appropriate do...  \n",
       "2     5+ years software development (Web) experience...  \n",
       "4     A decent understanding of modern cloud infra/d...  \n",
       "5     Appropriate experience in a software engineeri...  \n",
       "6     You can recognize software problems and develo...  \n",
       "...                                                 ...  \n",
       "2203  Gilcode aide des compagnies à transformer des ...  \n",
       "2215  Hands-on experience implementing Microservices...  \n",
       "2245  Integrate software components into a fully fun...  \n",
       "2279  We are a custom software consulting and develo...  \n",
       "2291  Dalimer (Outsourcing) Inc. is looking for a So...  \n",
       "\n",
       "[349 rows x 5 columns]"
      ]
     },
     "execution_count": 99,
     "metadata": {},
     "output_type": "execute_result"
    }
   ],
   "source": [
    "salaries"
   ]
  },
  {
   "cell_type": "code",
   "execution_count": 100,
   "metadata": {
    "ExecuteTime": {
     "end_time": "2020-12-06T06:27:02.208710Z",
     "start_time": "2020-12-06T06:27:02.205262Z"
    }
   },
   "outputs": [],
   "source": [
    "salaries = salaries[salaries.location != 'Münchberg']"
   ]
  },
  {
   "cell_type": "code",
   "execution_count": 101,
   "metadata": {
    "ExecuteTime": {
     "end_time": "2020-12-06T06:27:09.912060Z",
     "start_time": "2020-12-06T06:27:09.887144Z"
    }
   },
   "outputs": [
    {
     "name": "stdout",
     "output_type": "stream",
     "text": [
      "['1,250 ', ' 1,900 ']\n"
     ]
    }
   ],
   "source": [
    "preprocess_salary = []\n",
    "\n",
    "for i in salaries.salary:        \n",
    "    if 'an hour' in i:\n",
    "        i = i.replace('an hour', '').replace('$', '').replace('from', '').replace('From','')\n",
    "        a = i.split('-')\n",
    "        if(len(a) == 2):\n",
    "            a = [float(x.strip().replace(',','')) for x in a]\n",
    "            preprocess_salary.append(np.mean([float(b) for b in a])*8*300)\n",
    "        else:\n",
    "            a[0] = a[0].strip().replace(',','')\n",
    "            preprocess_salary.append(float(a[0])*8*300)\n",
    "            \n",
    "    elif 'a week' in i:\n",
    "        i = i.replace('a week', '').replace('$', '').replace('from', '').replace('From','')\n",
    "        a = i.split('-')\n",
    "        print(a)\n",
    "        if(len(a) == 2):\n",
    "            a = [float(x.strip().replace(',','')) for x in a]\n",
    "            preprocess_salary.append(np.mean([float(b) for b in a])*52)\n",
    "        else:\n",
    "            a[0] = a[0].strip().replace(',','')\n",
    "            preprocess_salary.append(float(a[0])*52)\n",
    "    \n",
    "    elif 'a month' in i:\n",
    "        i = i.replace('a month', '').replace('$', '').replace('from', '').replace('From','')\n",
    "        a = i.split('-')\n",
    "        if(len(a) == 2):\n",
    "            a = [float(x.strip().replace(',','')) for x in a]\n",
    "            preprocess_salary.append(np.mean([float(b) for b in a])*12)\n",
    "        else:\n",
    "            a = [float(x.strip().replace(',','')) for x in a]\n",
    "            preprocess_salary.append(float(a[0])*12)\n",
    "    elif 'a year' in i:\n",
    "        i = i.replace('a year', '').replace('$', '').replace('from', '').replace('From','')\n",
    "        a = i.split('-')\n",
    "        if len(a) == 2:\n",
    "            a = [float(x.strip().replace(',','')) for x in a]\n",
    "            preprocess_salary.append(np.mean([float(b) for b in a]))\n",
    "        else:\n",
    "            a[0] = a[0].strip().replace(',','')\n",
    "            preprocess_salary.append(float(a[0]))\n"
   ]
  },
  {
   "cell_type": "code",
   "execution_count": 102,
   "metadata": {
    "ExecuteTime": {
     "end_time": "2020-12-06T06:27:17.520682Z",
     "start_time": "2020-12-06T06:27:17.515754Z"
    }
   },
   "outputs": [],
   "source": [
    "for i in salaries.salary:\n",
    "    if len(i.split('-')) != 1 and len(i.split('-')) != 2:\n",
    "        print(i)"
   ]
  },
  {
   "cell_type": "code",
   "execution_count": 103,
   "metadata": {
    "ExecuteTime": {
     "end_time": "2020-12-06T06:27:25.093363Z",
     "start_time": "2020-12-06T06:27:25.086615Z"
    }
   },
   "outputs": [
    {
     "data": {
      "text/plain": [
       "349"
      ]
     },
     "execution_count": 103,
     "metadata": {},
     "output_type": "execute_result"
    }
   ],
   "source": [
    "len(preprocess_salary)"
   ]
  },
  {
   "cell_type": "code",
   "execution_count": 104,
   "metadata": {
    "ExecuteTime": {
     "end_time": "2020-12-06T06:27:32.820044Z",
     "start_time": "2020-12-06T06:27:32.815079Z"
    }
   },
   "outputs": [],
   "source": [
    "salaries.salary = preprocess_salary"
   ]
  },
  {
   "cell_type": "code",
   "execution_count": 105,
   "metadata": {
    "ExecuteTime": {
     "end_time": "2020-12-06T06:27:40.022797Z",
     "start_time": "2020-12-06T06:27:40.017481Z"
    }
   },
   "outputs": [
    {
     "data": {
      "text/plain": [
       "(349, 5)"
      ]
     },
     "execution_count": 105,
     "metadata": {},
     "output_type": "execute_result"
    }
   ],
   "source": [
    "salaries.shape"
   ]
  },
  {
   "cell_type": "code",
   "execution_count": 106,
   "metadata": {
    "ExecuteTime": {
     "end_time": "2020-12-06T06:27:48.132504Z",
     "start_time": "2020-12-06T06:27:48.115733Z"
    }
   },
   "outputs": [
    {
     "data": {
      "text/plain": [
       "0"
      ]
     },
     "execution_count": 106,
     "metadata": {},
     "output_type": "execute_result"
    }
   ],
   "source": [
    "salaries.duplicated().sum()"
   ]
  },
  {
   "cell_type": "code",
   "execution_count": 107,
   "metadata": {
    "ExecuteTime": {
     "end_time": "2020-12-06T06:27:55.615135Z",
     "start_time": "2020-12-06T06:27:55.609473Z"
    }
   },
   "outputs": [],
   "source": [
    "preprocessed_data = salaries[salaries['location'].notna()]"
   ]
  },
  {
   "cell_type": "code",
   "execution_count": 108,
   "metadata": {
    "ExecuteTime": {
     "end_time": "2020-12-06T06:28:02.800342Z",
     "start_time": "2020-12-06T06:28:02.784358Z"
    },
    "focus": false,
    "id": "783fd153-28ac-47ab-bfca-27e7c1de95b4"
   },
   "outputs": [],
   "source": [
    "preprocessed_data.to_csv('final_data.csv', index=False, encoding='utf-8')"
   ]
  },
  {
   "cell_type": "code",
   "execution_count": 109,
   "metadata": {
    "ExecuteTime": {
     "end_time": "2020-12-06T06:28:09.993601Z",
     "start_time": "2020-12-06T06:28:09.973261Z"
    },
    "focus": false,
    "id": "588f9845-6143-4bcc-bfd1-85d45b79303d"
   },
   "outputs": [],
   "source": [
    "salaries = pd.read_csv('final_data.csv')"
   ]
  },
  {
   "cell_type": "code",
   "execution_count": 110,
   "metadata": {
    "ExecuteTime": {
     "end_time": "2020-12-06T06:28:17.122325Z",
     "start_time": "2020-12-06T06:28:17.105397Z"
    }
   },
   "outputs": [
    {
     "data": {
      "text/html": [
       "<div>\n",
       "<style scoped>\n",
       "    .dataframe tbody tr th:only-of-type {\n",
       "        vertical-align: middle;\n",
       "    }\n",
       "\n",
       "    .dataframe tbody tr th {\n",
       "        vertical-align: top;\n",
       "    }\n",
       "\n",
       "    .dataframe thead th {\n",
       "        text-align: right;\n",
       "    }\n",
       "</style>\n",
       "<table border=\"1\" class=\"dataframe\">\n",
       "  <thead>\n",
       "    <tr style=\"text-align: right;\">\n",
       "      <th></th>\n",
       "      <th>location</th>\n",
       "      <th>title</th>\n",
       "      <th>company</th>\n",
       "      <th>salary</th>\n",
       "      <th>summary</th>\n",
       "    </tr>\n",
       "  </thead>\n",
       "  <tbody>\n",
       "    <tr>\n",
       "      <td>0</td>\n",
       "      <td>Toronto, ON</td>\n",
       "      <td>C# Developer</td>\n",
       "      <td>Brands.Buzz</td>\n",
       "      <td>65000.0</td>\n",
       "      <td>As a C# Developer, you will have a strong unde...</td>\n",
       "    </tr>\n",
       "    <tr>\n",
       "      <td>1</td>\n",
       "      <td>Toronto, ON</td>\n",
       "      <td>Web Developer</td>\n",
       "      <td>Rose Rocket</td>\n",
       "      <td>80760.0</td>\n",
       "      <td>Develop Website architecture and determine har...</td>\n",
       "    </tr>\n",
       "    <tr>\n",
       "      <td>2</td>\n",
       "      <td>Toronto, ON</td>\n",
       "      <td>Web Designer/Developer</td>\n",
       "      <td>Ontario Learning Development Foundation</td>\n",
       "      <td>34200.0</td>\n",
       "      <td>The Web Developer will be responsible for the ...</td>\n",
       "    </tr>\n",
       "    <tr>\n",
       "      <td>3</td>\n",
       "      <td>Toronto, ON</td>\n",
       "      <td>Programmer, Front End Full Stack Developer</td>\n",
       "      <td>Curamoir Inc</td>\n",
       "      <td>42000.0</td>\n",
       "      <td>Material UI as a basis to style responsive exi...</td>\n",
       "    </tr>\n",
       "    <tr>\n",
       "      <td>4</td>\n",
       "      <td>Toronto, ON</td>\n",
       "      <td>App Developer</td>\n",
       "      <td>Thermal Guard</td>\n",
       "      <td>42000.0</td>\n",
       "      <td>Thermal Guard Automates Temperature Screening ...</td>\n",
       "    </tr>\n",
       "  </tbody>\n",
       "</table>\n",
       "</div>"
      ],
      "text/plain": [
       "      location                                       title  \\\n",
       "0  Toronto, ON                                C# Developer   \n",
       "1  Toronto, ON                               Web Developer   \n",
       "2  Toronto, ON                      Web Designer/Developer   \n",
       "3  Toronto, ON  Programmer, Front End Full Stack Developer   \n",
       "4  Toronto, ON                               App Developer   \n",
       "\n",
       "                                   company   salary  \\\n",
       "0                              Brands.Buzz  65000.0   \n",
       "1                              Rose Rocket  80760.0   \n",
       "2  Ontario Learning Development Foundation  34200.0   \n",
       "3                             Curamoir Inc  42000.0   \n",
       "4                            Thermal Guard  42000.0   \n",
       "\n",
       "                                             summary  \n",
       "0  As a C# Developer, you will have a strong unde...  \n",
       "1  Develop Website architecture and determine har...  \n",
       "2  The Web Developer will be responsible for the ...  \n",
       "3  Material UI as a basis to style responsive exi...  \n",
       "4  Thermal Guard Automates Temperature Screening ...  "
      ]
     },
     "execution_count": 110,
     "metadata": {},
     "output_type": "execute_result"
    }
   ],
   "source": [
    "salaries.head()"
   ]
  },
  {
   "cell_type": "code",
   "execution_count": 111,
   "metadata": {
    "ExecuteTime": {
     "end_time": "2020-12-06T06:28:24.213207Z",
     "start_time": "2020-12-06T06:28:24.197922Z"
    },
    "focus": false,
    "id": "c20d2498-151c-44c3-a453-3a333c79a0ac"
   },
   "outputs": [
    {
     "data": {
      "text/plain": [
       "83119.0"
      ]
     },
     "execution_count": 111,
     "metadata": {},
     "output_type": "execute_result"
    }
   ],
   "source": [
    "median_salary = np.median(salaries.salary)\n",
    "median_salary"
   ]
  },
  {
   "cell_type": "code",
   "execution_count": 112,
   "metadata": {
    "ExecuteTime": {
     "end_time": "2020-12-06T06:28:31.301955Z",
     "start_time": "2020-12-06T06:28:31.296998Z"
    }
   },
   "outputs": [],
   "source": [
    "salaries['high_salary'] = [1 if i > median_salary else 0 for i in salaries.salary]"
   ]
  },
  {
   "cell_type": "code",
   "execution_count": 121,
   "metadata": {
    "ExecuteTime": {
     "end_time": "2020-12-06T06:33:33.833054Z",
     "start_time": "2020-12-06T06:33:33.825615Z"
    }
   },
   "outputs": [
    {
     "name": "stdout",
     "output_type": "stream",
     "text": [
      "265\n"
     ]
    }
   ],
   "source": [
    "salaries.head()\n",
    "print(len(salaries))\n",
    "\n",
    "def clean_data(data, stop_common):\n",
    "    stop_common = set.union(stop_common, {'will', 'na', 'tools', 'software','full time',\n",
    "                                          'skills','using', 'system', 'year', 'building', 'new',\n",
    "                                         \"build\", \"years\", \"scientist\", \"developer\", \"developers\",\n",
    "                                         \"work\", \"knowledge\", \"full\", \"time\", \"provide\", \"looking\",\n",
    "                                         \"role\", \"development\", \"engineer\", \"engineering\", \"including\",\n",
    "                                         \"engineers\", \"working\"})\n",
    "    data = data.lower() #transfer to lower case\n",
    "    data = data.replace(\"'s\", \"\") #remove 's\n",
    "    data = re.sub(r'[^\\w]', ' ', data) #remove all symbol\n",
    "    data = filter(lambda w: not w in stop_common,data.split(\" \"))#split the sentence and remove the stop words\n",
    "    data = list(filter((\"\").__ne__, data)) #remove blank element\n",
    "    \n",
    "    return data"
   ]
  },
  {
   "cell_type": "code",
   "execution_count": 123,
   "metadata": {
    "ExecuteTime": {
     "end_time": "2020-12-06T06:33:55.356788Z",
     "start_time": "2020-12-06T06:33:54.793080Z"
    }
   },
   "outputs": [
    {
     "data": {
      "text/plain": [
       "(-0.5, 399.5, 199.5, -0.5)"
      ]
     },
     "execution_count": 123,
     "metadata": {},
     "output_type": "execute_result"
    },
    {
     "data": {
      "image/png": "[encoded data removed]",
      "text/plain": [
       "<Figure size 432x288 with 1 Axes>"
      ]
     },
     "metadata": {
      "needs_background": "light"
     },
     "output_type": "display_data"
    }
   ],
   "source": [
    "result = []\n",
    "for i in range(jobs.shape[0]):\n",
    "    result+=clean_data(jobs.iloc[i][\"summary\"], stop_common)\n",
    "wordcloud = WordCloud(max_font_size=50, max_words=50, background_color=\"white\").generate(\",\".join(result))\n",
    "wordcloud.to_file(\"./Software_Developer.png\")\n",
    "plt.imshow(wordcloud, interpolation='bilinear')\n",
    "plt.axis(\"off\")"
   ]
  },
  {
   "cell_type": "markdown",
   "metadata": {},
   "source": [
    "#### Only Location"
   ]
  },
  {
   "cell_type": "code",
   "execution_count": 33,
   "metadata": {
    "ExecuteTime": {
     "end_time": "2020-12-06T05:42:07.833319Z",
     "start_time": "2020-12-06T05:42:07.827210Z"
    }
   },
   "outputs": [
    {
     "data": {
      "text/plain": [
       "Toronto, ON          8\n",
       "Montréal, QC         4\n",
       "Ottawa, ON           3\n",
       "Calgary, AB          2\n",
       "Kitchener, ON        2\n",
       "Vancouver, BC        2\n",
       "Mississauga, ON      1\n",
       "Richmond Hill, ON    1\n",
       "Burnaby, BC          1\n",
       "Richmond, BC         1\n",
       "North York, ON       1\n",
       "Name: location, dtype: int64"
      ]
     },
     "execution_count": 33,
     "metadata": {},
     "output_type": "execute_result"
    }
   ],
   "source": [
    "salaries.location.value_counts()"
   ]
  },
  {
   "cell_type": "code",
   "execution_count": 34,
   "metadata": {
    "ExecuteTime": {
     "end_time": "2020-12-06T05:42:12.879999Z",
     "start_time": "2020-12-06T05:42:12.874317Z"
    }
   },
   "outputs": [],
   "source": [
    "cities = []\n",
    "states = []\n",
    "\n",
    "for loc in salaries.location:\n",
    "    items = loc.split(',')\n",
    "    cities.append(items[0])\n",
    "    states.append(items[1])\n"
   ]
  },
  {
   "cell_type": "code",
   "execution_count": 35,
   "metadata": {
    "ExecuteTime": {
     "end_time": "2020-12-06T05:42:17.770231Z",
     "start_time": "2020-12-06T05:42:17.766192Z"
    },
    "scrolled": true
   },
   "outputs": [
    {
     "name": "stdout",
     "output_type": "stream",
     "text": [
      "26\n"
     ]
    }
   ],
   "source": [
    "only_states = []\n",
    "for state in states:\n",
    "    only_states.append(re.search(r'\\w+', state).group(0))\n",
    "print(len(only_states))"
   ]
  },
  {
   "cell_type": "code",
   "execution_count": 36,
   "metadata": {
    "ExecuteTime": {
     "end_time": "2020-12-06T05:42:22.587805Z",
     "start_time": "2020-12-06T05:42:22.582991Z"
    }
   },
   "outputs": [],
   "source": [
    "salaries['city'] = cities\n",
    "salaries['state'] = only_states"
   ]
  },
  {
   "cell_type": "code",
   "execution_count": 37,
   "metadata": {
    "ExecuteTime": {
     "end_time": "2020-12-06T05:42:27.542198Z",
     "start_time": "2020-12-06T05:42:27.513306Z"
    }
   },
   "outputs": [],
   "source": [
    "salaries.city = salaries.city + \", \" + salaries.state"
   ]
  },
  {
   "cell_type": "code",
   "execution_count": 38,
   "metadata": {
    "ExecuteTime": {
     "end_time": "2020-12-06T05:42:33.188168Z",
     "start_time": "2020-12-06T05:42:33.181939Z"
    }
   },
   "outputs": [],
   "source": [
    "for i in salaries.state:\n",
    "    if len(i) > 2:\n",
    "        print(i)"
   ]
  },
  {
   "cell_type": "code",
   "execution_count": 39,
   "metadata": {
    "ExecuteTime": {
     "end_time": "2020-12-06T05:42:37.909266Z",
     "start_time": "2020-12-06T05:42:37.888544Z"
    }
   },
   "outputs": [
    {
     "data": {
      "text/html": [
       "<div>\n",
       "<style scoped>\n",
       "    .dataframe tbody tr th:only-of-type {\n",
       "        vertical-align: middle;\n",
       "    }\n",
       "\n",
       "    .dataframe tbody tr th {\n",
       "        vertical-align: top;\n",
       "    }\n",
       "\n",
       "    .dataframe thead th {\n",
       "        text-align: right;\n",
       "    }\n",
       "</style>\n",
       "<table border=\"1\" class=\"dataframe\">\n",
       "  <thead>\n",
       "    <tr style=\"text-align: right;\">\n",
       "      <th></th>\n",
       "      <th>location</th>\n",
       "      <th>title</th>\n",
       "      <th>company</th>\n",
       "      <th>salary</th>\n",
       "      <th>summary</th>\n",
       "      <th>high_salary</th>\n",
       "      <th>city</th>\n",
       "      <th>state</th>\n",
       "    </tr>\n",
       "  </thead>\n",
       "  <tbody>\n",
       "    <tr>\n",
       "      <td>0</td>\n",
       "      <td>Toronto, ON</td>\n",
       "      <td>Data Scientist/Analyst 120</td>\n",
       "      <td>Foilcon</td>\n",
       "      <td>192000.0</td>\n",
       "      <td>Strong business and data analysis skills.Exper...</td>\n",
       "      <td>1</td>\n",
       "      <td>Toronto, ON</td>\n",
       "      <td>ON</td>\n",
       "    </tr>\n",
       "    <tr>\n",
       "      <td>1</td>\n",
       "      <td>Toronto, ON</td>\n",
       "      <td>Data Scientist 7 to 10yrs of EXP</td>\n",
       "      <td>IT Axis Consulting.</td>\n",
       "      <td>180000.0</td>\n",
       "      <td>Strong business and data analysis skills.Exper...</td>\n",
       "      <td>1</td>\n",
       "      <td>Toronto, ON</td>\n",
       "      <td>ON</td>\n",
       "    </tr>\n",
       "    <tr>\n",
       "      <td>2</td>\n",
       "      <td>Toronto, ON</td>\n",
       "      <td>Data Scientist / Machine Learning Engineer</td>\n",
       "      <td>Leadbright Inc.</td>\n",
       "      <td>67500.0</td>\n",
       "      <td>Create and visualize data using our charting t...</td>\n",
       "      <td>0</td>\n",
       "      <td>Toronto, ON</td>\n",
       "      <td>ON</td>\n",
       "    </tr>\n",
       "    <tr>\n",
       "      <td>3</td>\n",
       "      <td>Toronto, ON</td>\n",
       "      <td>Data Scientist</td>\n",
       "      <td>Daesys</td>\n",
       "      <td>77500.0</td>\n",
       "      <td>We are currently a small but very experienced ...</td>\n",
       "      <td>0</td>\n",
       "      <td>Toronto, ON</td>\n",
       "      <td>ON</td>\n",
       "    </tr>\n",
       "    <tr>\n",
       "      <td>4</td>\n",
       "      <td>Richmond Hill, ON</td>\n",
       "      <td>Junior Data Scientist</td>\n",
       "      <td>Visual Defence Inc</td>\n",
       "      <td>50000.0</td>\n",
       "      <td>Programming and support in writing ready data ...</td>\n",
       "      <td>0</td>\n",
       "      <td>Richmond Hill, ON</td>\n",
       "      <td>ON</td>\n",
       "    </tr>\n",
       "  </tbody>\n",
       "</table>\n",
       "</div>"
      ],
      "text/plain": [
       "            location                                       title  \\\n",
       "0        Toronto, ON                  Data Scientist/Analyst 120   \n",
       "1        Toronto, ON            Data Scientist 7 to 10yrs of EXP   \n",
       "2        Toronto, ON  Data Scientist / Machine Learning Engineer   \n",
       "3        Toronto, ON                              Data Scientist   \n",
       "4  Richmond Hill, ON                       Junior Data Scientist   \n",
       "\n",
       "               company    salary  \\\n",
       "0              Foilcon  192000.0   \n",
       "1  IT Axis Consulting.  180000.0   \n",
       "2      Leadbright Inc.   67500.0   \n",
       "3               Daesys   77500.0   \n",
       "4   Visual Defence Inc   50000.0   \n",
       "\n",
       "                                             summary  high_salary  \\\n",
       "0  Strong business and data analysis skills.Exper...            1   \n",
       "1  Strong business and data analysis skills.Exper...            1   \n",
       "2  Create and visualize data using our charting t...            0   \n",
       "3  We are currently a small but very experienced ...            0   \n",
       "4  Programming and support in writing ready data ...            0   \n",
       "\n",
       "                city state  \n",
       "0        Toronto, ON    ON  \n",
       "1        Toronto, ON    ON  \n",
       "2        Toronto, ON    ON  \n",
       "3        Toronto, ON    ON  \n",
       "4  Richmond Hill, ON    ON  "
      ]
     },
     "execution_count": 39,
     "metadata": {},
     "output_type": "execute_result"
    }
   ],
   "source": [
    "salaries.head()"
   ]
  },
  {
   "cell_type": "code",
   "execution_count": 46,
   "metadata": {
    "ExecuteTime": {
     "end_time": "2020-12-01T18:18:51.689674Z",
     "start_time": "2020-12-01T18:18:51.685063Z"
    }
   },
   "outputs": [
    {
     "data": {
      "text/plain": [
       "9"
      ]
     },
     "execution_count": 46,
     "metadata": {},
     "output_type": "execute_result"
    }
   ],
   "source": [
    "salaries.city.nunique()"
   ]
  },
  {
   "cell_type": "code",
   "execution_count": 47,
   "metadata": {
    "ExecuteTime": {
     "end_time": "2020-12-01T18:19:00.597495Z",
     "start_time": "2020-12-01T18:19:00.585773Z"
    },
    "scrolled": false
   },
   "outputs": [
    {
     "data": {
      "text/plain": [
       "Toronto, ON          4\n",
       "Montréal, QC         4\n",
       "Calgary, AB          3\n",
       "Mississauga, ON      2\n",
       "Kitchener, ON        2\n",
       "Burnaby, BC          1\n",
       "Richmond Hill, ON    1\n",
       "North York, ON       1\n",
       "Ottawa, ON           1\n",
       "Name: city, dtype: int64"
      ]
     },
     "execution_count": 47,
     "metadata": {},
     "output_type": "execute_result"
    }
   ],
   "source": [
    "salaries.city.value_counts()"
   ]
  },
  {
   "cell_type": "code",
   "execution_count": 49,
   "metadata": {
    "ExecuteTime": {
     "end_time": "2020-12-01T18:19:26.869356Z",
     "start_time": "2020-12-01T18:19:26.865872Z"
    }
   },
   "outputs": [],
   "source": [
    "city_dummies = pd.get_dummies(salaries.city)\n",
    "\n",
    "X_city = city_dummies\n",
    "y_city = salaries.high_salary"
   ]
  },
  {
   "cell_type": "code",
   "execution_count": 50,
   "metadata": {
    "ExecuteTime": {
     "end_time": "2020-12-01T18:19:26.878710Z",
     "start_time": "2020-12-01T18:19:26.871230Z"
    }
   },
   "outputs": [],
   "source": [
    "X_train, X_test, y_train, y_test = train_test_split(X_city, y_city, test_size=0.3, random_state=90)"
   ]
  },
  {
   "cell_type": "code",
   "execution_count": 51,
   "metadata": {
    "ExecuteTime": {
     "end_time": "2020-12-01T18:19:31.080589Z",
     "start_time": "2020-12-01T18:19:26.880526Z"
    }
   },
   "outputs": [
    {
     "name": "stdout",
     "output_type": "stream",
     "text": [
      "Accuracy Score: 0.0\n"
     ]
    },
    {
     "name": "stderr",
     "output_type": "stream",
     "text": [
      "/opt/anaconda3/lib/python3.7/site-packages/sklearn/model_selection/_split.py:657: Warning: The least populated class in y has only 8 members, which is too few. The minimum number of members in any class cannot be less than n_splits=10.\n",
      "  % (min_groups, self.n_splits)), Warning)\n"
     ]
    },
    {
     "name": "stdout",
     "output_type": "stream",
     "text": [
      "Cross Validation Score:\t0.517 ± 0.32\n"
     ]
    }
   ],
   "source": [
    "rfc = RandomForestClassifier(n_estimators=300, random_state=90)\n",
    "rfc.fit(X_train, y_train)\n",
    "\n",
    "rfc_pred = rfc.predict(X_test)\n",
    "acc = accuracy_score(y_test, rfc_pred)\n",
    "print (\"Accuracy Score:\", acc.round(3))\n",
    "\n",
    "s = cross_val_score(rfc, X_city, y_city, cv=10, n_jobs=-1)\n",
    "print (\"Cross Validation Score:\\t{:0.3} ± {:0.3}\".format(s.mean().round(3), s.std().round(3)))"
   ]
  },
  {
   "cell_type": "code",
   "execution_count": 52,
   "metadata": {
    "ExecuteTime": {
     "end_time": "2020-12-01T18:19:31.127919Z",
     "start_time": "2020-12-01T18:19:31.084930Z"
    }
   },
   "outputs": [
    {
     "data": {
      "text/html": [
       "<div>\n",
       "<style scoped>\n",
       "    .dataframe tbody tr th:only-of-type {\n",
       "        vertical-align: middle;\n",
       "    }\n",
       "\n",
       "    .dataframe tbody tr th {\n",
       "        vertical-align: top;\n",
       "    }\n",
       "\n",
       "    .dataframe thead th {\n",
       "        text-align: right;\n",
       "    }\n",
       "</style>\n",
       "<table border=\"1\" class=\"dataframe\">\n",
       "  <thead>\n",
       "    <tr style=\"text-align: right;\">\n",
       "      <th></th>\n",
       "      <th>feature</th>\n",
       "      <th>importance</th>\n",
       "      <th>median_salary</th>\n",
       "      <th>over_or_under</th>\n",
       "    </tr>\n",
       "  </thead>\n",
       "  <tbody>\n",
       "    <tr>\n",
       "      <td>8</td>\n",
       "      <td>Toronto, ON</td>\n",
       "      <td>0.200426</td>\n",
       "      <td>80000.0</td>\n",
       "      <td>0</td>\n",
       "    </tr>\n",
       "    <tr>\n",
       "      <td>1</td>\n",
       "      <td>Calgary, AB</td>\n",
       "      <td>0.182500</td>\n",
       "      <td>89028.0</td>\n",
       "      <td>1</td>\n",
       "    </tr>\n",
       "    <tr>\n",
       "      <td>4</td>\n",
       "      <td>Montréal, QC</td>\n",
       "      <td>0.158712</td>\n",
       "      <td>87500.0</td>\n",
       "      <td>1</td>\n",
       "    </tr>\n",
       "    <tr>\n",
       "      <td>3</td>\n",
       "      <td>Mississauga, ON</td>\n",
       "      <td>0.137713</td>\n",
       "      <td>86270.0</td>\n",
       "      <td>0</td>\n",
       "    </tr>\n",
       "    <tr>\n",
       "      <td>2</td>\n",
       "      <td>Kitchener, ON</td>\n",
       "      <td>0.096111</td>\n",
       "      <td>82500.0</td>\n",
       "      <td>0</td>\n",
       "    </tr>\n",
       "    <tr>\n",
       "      <td>0</td>\n",
       "      <td>Burnaby, BC</td>\n",
       "      <td>0.094923</td>\n",
       "      <td>95000.0</td>\n",
       "      <td>1</td>\n",
       "    </tr>\n",
       "    <tr>\n",
       "      <td>7</td>\n",
       "      <td>Richmond Hill, ON</td>\n",
       "      <td>0.064979</td>\n",
       "      <td>50000.0</td>\n",
       "      <td>0</td>\n",
       "    </tr>\n",
       "    <tr>\n",
       "      <td>5</td>\n",
       "      <td>North York, ON</td>\n",
       "      <td>0.064635</td>\n",
       "      <td>51500.0</td>\n",
       "      <td>0</td>\n",
       "    </tr>\n",
       "    <tr>\n",
       "      <td>6</td>\n",
       "      <td>Ottawa, ON</td>\n",
       "      <td>0.000000</td>\n",
       "      <td>87384.5</td>\n",
       "      <td>1</td>\n",
       "    </tr>\n",
       "  </tbody>\n",
       "</table>\n",
       "</div>"
      ],
      "text/plain": [
       "             feature  importance  median_salary  over_or_under\n",
       "8        Toronto, ON    0.200426        80000.0              0\n",
       "1        Calgary, AB    0.182500        89028.0              1\n",
       "4       Montréal, QC    0.158712        87500.0              1\n",
       "3    Mississauga, ON    0.137713        86270.0              0\n",
       "2      Kitchener, ON    0.096111        82500.0              0\n",
       "0        Burnaby, BC    0.094923        95000.0              1\n",
       "7  Richmond Hill, ON    0.064979        50000.0              0\n",
       "5     North York, ON    0.064635        51500.0              0\n",
       "6         Ottawa, ON    0.000000        87384.5              1"
      ]
     },
     "execution_count": 52,
     "metadata": {},
     "output_type": "execute_result"
    }
   ],
   "source": [
    "feature_importances = pd.DataFrame(rfc.feature_importances_,\n",
    "                                   index = X_city.columns).reset_index()\n",
    "feature_importances.columns = ['feature', 'importance']\n",
    "\n",
    "feature_medians = []\n",
    "for i in X_city.columns:\n",
    "    feature_medians.append(np.median(salaries[salaries.city == i].salary))\n",
    "\n",
    "feature_importances['median_salary'] = feature_medians\n",
    "feature_importances['over_or_under'] = [1 if i > median_salary else 0 for i in feature_importances.median_salary]\n",
    "\n",
    "feature_importances.sort_values('importance', ascending=False).head(15)"
   ]
  },
  {
   "cell_type": "markdown",
   "metadata": {},
   "source": [
    "#### Only summary"
   ]
  },
  {
   "cell_type": "code",
   "execution_count": 53,
   "metadata": {
    "ExecuteTime": {
     "end_time": "2020-12-01T18:19:31.143786Z",
     "start_time": "2020-12-01T18:19:31.139374Z"
    },
    "focus": false,
    "id": "4239e458-28bd-4675-8db3-c1d9c02b9854"
   },
   "outputs": [],
   "source": [
    "salaries_w_desc = salaries[salaries.summary.notnull()]\n",
    "\n",
    "X_summ = salaries_w_desc.summary\n",
    "y_summ = salaries_w_desc.high_salary"
   ]
  },
  {
   "cell_type": "code",
   "execution_count": 54,
   "metadata": {
    "ExecuteTime": {
     "end_time": "2020-12-01T18:19:31.159326Z",
     "start_time": "2020-12-01T18:19:31.147873Z"
    },
    "focus": false,
    "id": "fec80936-37bc-4922-89bd-b5d615566c9c"
   },
   "outputs": [
    {
     "data": {
      "text/plain": [
       "CountVectorizer(analyzer='word', binary=False, decode_error='strict',\n",
       "                dtype=<class 'numpy.int64'>, encoding='utf-8', input='content',\n",
       "                lowercase=True, max_df=1.0, max_features=None, min_df=1,\n",
       "                ngram_range=(1, 1), preprocessor=None, stop_words='english',\n",
       "                strip_accents=None, token_pattern='(?u)\\\\b\\\\w\\\\w+\\\\b',\n",
       "                tokenizer=None, vocabulary=None)"
      ]
     },
     "execution_count": 54,
     "metadata": {},
     "output_type": "execute_result"
    }
   ],
   "source": [
    "cv = CountVectorizer(stop_words=\"english\")\n",
    "cv.fit(X_summ)"
   ]
  },
  {
   "cell_type": "code",
   "execution_count": 55,
   "metadata": {
    "ExecuteTime": {
     "end_time": "2020-12-01T18:19:31.166014Z",
     "start_time": "2020-12-01T18:19:31.161521Z"
    }
   },
   "outputs": [
    {
     "data": {
      "text/plain": [
       "188"
      ]
     },
     "execution_count": 55,
     "metadata": {},
     "output_type": "execute_result"
    }
   ],
   "source": [
    "len(cv.get_feature_names())"
   ]
  },
  {
   "cell_type": "code",
   "execution_count": 56,
   "metadata": {
    "ExecuteTime": {
     "end_time": "2020-12-01T18:19:31.188933Z",
     "start_time": "2020-12-01T18:19:31.168361Z"
    }
   },
   "outputs": [
    {
     "ename": "NameError",
     "evalue": "name 'count_vec' is not defined",
     "output_type": "error",
     "traceback": [
      "\u001b[0;31m---------------------------------------------------------------------------\u001b[0m",
      "\u001b[0;31mNameError\u001b[0m                                 Traceback (most recent call last)",
      "\u001b[0;32m<ipython-input-56-3c76f5eb5452>\u001b[0m in \u001b[0;36m<module>\u001b[0;34m\u001b[0m\n\u001b[0;32m----> 1\u001b[0;31m \u001b[0mX_summ_trans\u001b[0m \u001b[0;34m=\u001b[0m \u001b[0mpd\u001b[0m\u001b[0;34m.\u001b[0m\u001b[0mDataFrame\u001b[0m\u001b[0;34m(\u001b[0m\u001b[0mcv\u001b[0m\u001b[0;34m.\u001b[0m\u001b[0mtransform\u001b[0m\u001b[0;34m(\u001b[0m\u001b[0mX_summ\u001b[0m\u001b[0;34m)\u001b[0m\u001b[0;34m.\u001b[0m\u001b[0mtodense\u001b[0m\u001b[0;34m(\u001b[0m\u001b[0;34m)\u001b[0m\u001b[0;34m,\u001b[0m \u001b[0mcolumns\u001b[0m\u001b[0;34m=\u001b[0m\u001b[0mcount_vec\u001b[0m\u001b[0;34m.\u001b[0m\u001b[0mget_feature_names\u001b[0m\u001b[0;34m(\u001b[0m\u001b[0;34m)\u001b[0m\u001b[0;34m)\u001b[0m\u001b[0;34m\u001b[0m\u001b[0;34m\u001b[0m\u001b[0m\n\u001b[0m",
      "\u001b[0;31mNameError\u001b[0m: name 'count_vec' is not defined"
     ]
    }
   ],
   "source": [
    "X_summ_trans = pd.DataFrame(cv.transform(X_summ).todense(), columns=count_vec.get_feature_names())"
   ]
  },
  {
   "cell_type": "code",
   "execution_count": null,
   "metadata": {
    "ExecuteTime": {
     "end_time": "2020-12-01T18:19:31.204117Z",
     "start_time": "2020-12-01T18:19:26.905Z"
    }
   },
   "outputs": [],
   "source": [
    "X_train, X_test, y_train, y_test = train_test_split(np.asmatrix(X_summ_trans), y_summ, test_size=0.3,\n",
    "                                                    random_state=59, stratify=y_summ)"
   ]
  },
  {
   "cell_type": "code",
   "execution_count": null,
   "metadata": {
    "ExecuteTime": {
     "end_time": "2020-12-01T18:19:31.206217Z",
     "start_time": "2020-12-01T18:19:26.906Z"
    }
   },
   "outputs": [],
   "source": [
    "word_counts = X_summ_trans.sum(axis=0)\n",
    "word_counts.sort_values(ascending = False).head(20)"
   ]
  },
  {
   "cell_type": "code",
   "execution_count": null,
   "metadata": {
    "ExecuteTime": {
     "end_time": "2020-12-01T18:19:31.208888Z",
     "start_time": "2020-12-01T18:19:26.908Z"
    }
   },
   "outputs": [],
   "source": [
    "word_counts.to_csv('indeed-words.csv', encoding='utf-8')"
   ]
  },
  {
   "cell_type": "code",
   "execution_count": null,
   "metadata": {
    "ExecuteTime": {
     "end_time": "2020-12-01T18:19:31.210831Z",
     "start_time": "2020-12-01T18:19:26.910Z"
    }
   },
   "outputs": [],
   "source": [
    "rfc = RandomForestClassifier(200, random_state=59)\n",
    "rfc.fit(X_train, y_train)\n",
    "\n",
    "rfc_pred = rfc.predict(X_test)\n",
    "acc = accuracy_score(y_test, rfc_pred)\n",
    "print(\"Accuracy Score:\", acc.round(3))\n",
    "\n",
    "s = cross_val_score(rfc, X_summ_trans.values, y_summ.values, cv=10, n_jobs=-1)\n",
    "print(\"Cross Validation Score: {:0.3} ± {:0.3}\".format(s.mean().round(3), s.std().round(3)))"
   ]
  },
  {
   "cell_type": "code",
   "execution_count": null,
   "metadata": {
    "ExecuteTime": {
     "end_time": "2020-12-01T18:19:31.212713Z",
     "start_time": "2020-12-01T18:19:26.911Z"
    }
   },
   "outputs": [],
   "source": [
    "feature_importances = pd.DataFrame(rfc.feature_importances_,\n",
    "                                   index = X_summ_trans.columns).reset_index()\n",
    "feature_importances.columns = ['feature', 'importance']\n",
    "\n",
    "feature_medians = []\n",
    "feature_means = []\n",
    "for i in X_summ_trans.columns:\n",
    "    feature_medians.append(np.median(salaries_w_desc[salaries_w_desc.summary.str.lower().str.contains(i)].salary))\n",
    "    feature_means.append(np.mean(salaries_w_desc[salaries_w_desc.summary.str.lower().str.contains(i)].salary))\n",
    "\n",
    "\n",
    "feature_importances['median_salary'] = feature_medians\n",
    "feature_importances['mean_salary'] = feature_means\n",
    "feature_importances['over_or_under'] = [1 if i > median_salary else 0 for i in feature_importances.median_salary]\n",
    "\n",
    "feature_importances.sort_values('importance', ascending=False).head(20)"
   ]
  },
  {
   "cell_type": "markdown",
   "metadata": {
    "collapsed": true
   },
   "source": [
    "#### Only title"
   ]
  },
  {
   "cell_type": "code",
   "execution_count": null,
   "metadata": {
    "ExecuteTime": {
     "end_time": "2020-12-01T18:19:31.215585Z",
     "start_time": "2020-12-01T18:19:26.929Z"
    }
   },
   "outputs": [],
   "source": [
    "salaries_w_desc = salaries[salaries.summary.notnull()]\n",
    "\n",
    "X_title = salaries_w_desc.title\n",
    "y_title = salaries_w_desc.high_salary"
   ]
  },
  {
   "cell_type": "code",
   "execution_count": null,
   "metadata": {
    "ExecuteTime": {
     "end_time": "2020-12-01T18:19:31.218146Z",
     "start_time": "2020-12-01T18:19:26.931Z"
    }
   },
   "outputs": [],
   "source": [
    "cv = CountVectorizer(stop_words=\"english\")\n",
    "cv.fit(X_title)"
   ]
  },
  {
   "cell_type": "code",
   "execution_count": null,
   "metadata": {
    "ExecuteTime": {
     "end_time": "2020-12-01T18:19:31.220232Z",
     "start_time": "2020-12-01T18:19:26.933Z"
    }
   },
   "outputs": [],
   "source": [
    "X_title_trans = pd.DataFrame(cv.transform(X_title).todense(), columns=cv.get_feature_names())"
   ]
  },
  {
   "cell_type": "code",
   "execution_count": null,
   "metadata": {
    "ExecuteTime": {
     "end_time": "2020-12-01T18:19:31.222197Z",
     "start_time": "2020-12-01T18:19:26.934Z"
    }
   },
   "outputs": [],
   "source": [
    "X_train, X_test, y_train, y_test = train_test_split(X_title_trans, y_title, test_size=0.3, random_state=59)"
   ]
  },
  {
   "cell_type": "code",
   "execution_count": null,
   "metadata": {
    "ExecuteTime": {
     "end_time": "2020-12-01T18:19:31.224365Z",
     "start_time": "2020-12-01T18:19:26.936Z"
    }
   },
   "outputs": [],
   "source": [
    "rfc = RandomForestClassifier(200, random_state=59)\n",
    "rfc.fit(X_train, y_train)\n",
    "\n",
    "rfc_pred = rfc.predict(X_test)\n",
    "acc = accuracy_score(y_test, rfc_pred)\n",
    "print(\"Accuracy Score:\", acc.round(3))\n",
    "\n",
    "s = cross_val_score(rfc, X_title_trans.values, y_title.values, cv=10, n_jobs=-1)\n",
    "print(\"Cross Validation Score: {:0.3} ± {:0.3}\".format(s.mean().round(3), s.std().round(3)))"
   ]
  },
  {
   "cell_type": "code",
   "execution_count": null,
   "metadata": {
    "ExecuteTime": {
     "end_time": "2020-12-01T18:19:31.226875Z",
     "start_time": "2020-12-01T18:19:26.938Z"
    }
   },
   "outputs": [],
   "source": [
    "feature_importances = pd.DataFrame(rfc.feature_importances_,\n",
    "                                   index = X_title_trans.columns).reset_index()\n",
    "feature_importances.columns = ['feature', 'importance']\n",
    "\n",
    "feature_medians = []\n",
    "feature_means = []\n",
    "for i in X_title_trans.columns:\n",
    "    feature_medians.append(np.median(salaries_w_desc[salaries_w_desc.title.str.lower().str.contains(i)].salary))\n",
    "    feature_means.append(np.mean(salaries_w_desc[salaries_w_desc.title.str.lower().str.contains(i)].salary))\n",
    "\n",
    "\n",
    "feature_importances['median_salary'] = feature_medians\n",
    "feature_importances['mean_salary'] = feature_means\n",
    "feature_importances['over_or_under'] = [1 if i > median_salary else 0 for i in feature_importances.median_salary]\n",
    "\n",
    "feature_importances.sort_values('importance', ascending=False).head(20)"
   ]
  },
  {
   "cell_type": "markdown",
   "metadata": {},
   "source": [
    "#### Combining Title CV, Summary CV, and Location"
   ]
  },
  {
   "cell_type": "code",
   "execution_count": null,
   "metadata": {
    "ExecuteTime": {
     "end_time": "2020-12-01T18:19:31.228493Z",
     "start_time": "2020-12-01T18:19:26.957Z"
    }
   },
   "outputs": [],
   "source": [
    "salaries_w_desc = data[data.summary.notnull()].reset_index()\n",
    "city_dummies = pd.get_dummies(salaries_w_desc.city)\n",
    "\n",
    "X = pd.concat([city_dummies, X_title_trans, X_summ_trans], axis=1)\n",
    "y = salaries_w_desc.high_salary"
   ]
  },
  {
   "cell_type": "code",
   "execution_count": null,
   "metadata": {
    "ExecuteTime": {
     "end_time": "2020-12-01T18:19:31.229915Z",
     "start_time": "2020-12-01T18:19:26.959Z"
    }
   },
   "outputs": [],
   "source": [
    "print(X.shape)\n",
    "print(y.shape)"
   ]
  },
  {
   "cell_type": "code",
   "execution_count": null,
   "metadata": {
    "ExecuteTime": {
     "end_time": "2020-12-01T18:19:31.231512Z",
     "start_time": "2020-12-01T18:19:26.960Z"
    }
   },
   "outputs": [],
   "source": [
    "X_train, X_test, y_train, y_test = train_test_split(X.values, y, test_size=0.3, random_state=1234, stratify=y)"
   ]
  },
  {
   "cell_type": "code",
   "execution_count": null,
   "metadata": {
    "ExecuteTime": {
     "end_time": "2020-12-01T18:19:31.233073Z",
     "start_time": "2020-12-01T18:19:26.962Z"
    }
   },
   "outputs": [],
   "source": [
    "rfc = RandomForestClassifier(500, random_state=59)\n",
    "rfc.fit(X_train, y_train)\n",
    "\n",
    "rfc_pred = rfc.predict(X_test)\n",
    "acc = accuracy_score(y_test, rfc_pred)\n",
    "print(\"Accuracy Score:\", acc.round(3))\n",
    "\n",
    "s = cross_val_score(rfc, X.values, y.values, cv=10, n_jobs=-1)\n",
    "print(\"Cross Validation Score: {:0.3} ± {:0.3}\".format(s.mean().round(3), s.std().round(3)))"
   ]
  },
  {
   "cell_type": "code",
   "execution_count": null,
   "metadata": {
    "ExecuteTime": {
     "end_time": "2020-12-01T18:19:31.234759Z",
     "start_time": "2020-12-01T18:19:26.964Z"
    }
   },
   "outputs": [],
   "source": [
    "feature_importances = pd.DataFrame(rfc.feature_importances_,\n",
    "                                   index = X.columns).reset_index()\n",
    "feature_importances.columns = ['feature', 'importance']\n",
    "\n",
    "feature_medians = []\n",
    "for i in city_dummies.columns:\n",
    "    feature_medians.append(np.median(salaries[salaries.city == i].salary))\n",
    "for i in X_title_trans.columns:\n",
    "    feature_medians.append(np.median(salaries_w_desc[salaries_w_desc.title.str.lower().str.contains(i)].salary))\n",
    "for i in X_summ_trans.columns:\n",
    "    feature_medians.append(np.median(salaries_w_desc[salaries_w_desc.summary.str.lower().str.contains(i)].salary))\n",
    "\n",
    "feature_importances['median_salary'] = feature_medians\n",
    "feature_importances['over_or_under'] = [1 if i > median_salary else 0 for i in feature_importances.median_salary]\n",
    "\n",
    "feature_importances.sort_values('importance', ascending=False).head(20)"
   ]
  }
 ],
 "metadata": {
  "anaconda-cloud": {},
  "kernelspec": {
   "display_name": "Python 3",
   "language": "python",
   "name": "python3"
  },
  "language_info": {
   "codemirror_mode": {
    "name": "ipython",
    "version": 3
   },
   "file_extension": ".py",
   "mimetype": "text/x-python",
   "name": "python",
   "nbconvert_exporter": "python",
   "pygments_lexer": "ipython3",
   "version": "3.7.4"
  },
  "latex_envs": {
   "LaTeX_envs_menu_present": true,
   "autoclose": false,
   "autocomplete": true,
   "bibliofile": "biblio.bib",
   "cite_by": "apalike",
   "current_citInitial": 1,
   "eqLabelWithNumbers": true,
   "eqNumInitial": 1,
   "hotkeys": {
    "equation": "Ctrl-E",
    "itemize": "Ctrl-I"
   },
   "labels_anchors": false,
   "latex_user_defs": false,
   "report_style_numbering": false,
   "user_envs_cfg": false
  },
  "toc": {
   "base_numbering": 1,
   "nav_menu": {},
   "number_sections": true,
   "sideBar": true,
   "skip_h1_title": false,
   "title_cell": "Table of Contents",
   "title_sidebar": "Contents",
   "toc_cell": false,
   "toc_position": {},
   "toc_section_display": true,
   "toc_window_display": false
  },
  "varInspector": {
   "cols": {
    "lenName": 16,
    "lenType": 16,
    "lenVar": 40
   },
   "kernels_config": {
    "python": {
     "delete_cmd_postfix": "",
     "delete_cmd_prefix": "del ",
     "library": "var_list.py",
     "varRefreshCmd": "print(var_dic_list())"
    },
    "r": {
     "delete_cmd_postfix": ") ",
     "delete_cmd_prefix": "rm(",
     "library": "var_list.r",
     "varRefreshCmd": "cat(var_dic_list()) "
    }
   },
   "types_to_exclude": [
    "module",
    "function",
    "builtin_function_or_method",
    "instance",
    "_Feature"
   ],
   "window_display": false
  }
 },
 "nbformat": 4,
 "nbformat_minor": 1
}
