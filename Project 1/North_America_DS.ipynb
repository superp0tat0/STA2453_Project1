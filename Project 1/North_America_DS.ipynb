{
  "nbformat": 4,
  "nbformat_minor": 0,
  "metadata": {
    "anaconda-cloud": {},
    "kernelspec": {
      "display_name": "Python 3",
      "language": "python",
      "name": "python3"
    },
    "language_info": {
      "codemirror_mode": {
        "name": "ipython",
        "version": 3
      },
      "file_extension": ".py",
      "mimetype": "text/x-python",
      "name": "python",
      "nbconvert_exporter": "python",
      "pygments_lexer": "ipython3",
      "version": "3.7.4"
    },
    "latex_envs": {
      "LaTeX_envs_menu_present": true,
      "autoclose": false,
      "autocomplete": true,
      "bibliofile": "biblio.bib",
      "cite_by": "apalike",
      "current_citInitial": 1,
      "eqLabelWithNumbers": true,
      "eqNumInitial": 1,
      "hotkeys": {
        "equation": "Ctrl-E",
        "itemize": "Ctrl-I"
      },
      "labels_anchors": false,
      "latex_user_defs": false,
      "report_style_numbering": false,
      "user_envs_cfg": false
    },
    "toc": {
      "base_numbering": 1,
      "nav_menu": {},
      "number_sections": true,
      "sideBar": true,
      "skip_h1_title": false,
      "title_cell": "Table of Contents",
      "title_sidebar": "Contents",
      "toc_cell": false,
      "toc_position": {},
      "toc_section_display": true,
      "toc_window_display": false
    },
    "varInspector": {
      "cols": {
        "lenName": 16,
        "lenType": 16,
        "lenVar": 40
      },
      "kernels_config": {
        "python": {
          "delete_cmd_postfix": "",
          "delete_cmd_prefix": "del ",
          "library": "var_list.py",
          "varRefreshCmd": "print(var_dic_list())"
        },
        "r": {
          "delete_cmd_postfix": ") ",
          "delete_cmd_prefix": "rm(",
          "library": "var_list.r",
          "varRefreshCmd": "cat(var_dic_list()) "
        }
      },
      "types_to_exclude": [
        "module",
        "function",
        "builtin_function_or_method",
        "instance",
        "_Feature"
      ],
      "window_display": false
    },
    "colab": {
      "name": "North_America_DS.ipynb",
      "provenance": [],
      "collapsed_sections": [],
      "toc_visible": true
    }
  },
  "cells": [
    {
      "cell_type": "code",
      "metadata": {
        "colab": {
          "base_uri": "https://localhost:8080/"
        },
        "id": "nrUmkXP3-YIM",
        "outputId": "db325560-6ece-47dc-fbb1-2fee37708bce"
      },
      "source": [
        "import nltk\n",
        "nltk.download('stopwords')"
      ],
      "execution_count": 2,
      "outputs": [
        {
          "output_type": "stream",
          "text": [
            "[nltk_data] Downloading package stopwords to /root/nltk_data...\n",
            "[nltk_data]   Unzipping corpora/stopwords.zip.\n"
          ],
          "name": "stdout"
        },
        {
          "output_type": "execute_result",
          "data": {
            "text/plain": [
              "True"
            ]
          },
          "metadata": {
            "tags": []
          },
          "execution_count": 2
        }
      ]
    },
    {
      "cell_type": "code",
      "metadata": {
        "ExecuteTime": {
          "end_time": "2020-12-06T06:02:45.549704Z",
          "start_time": "2020-12-06T06:02:45.542311Z"
        },
        "id": "qD6LxOLF-YIN"
      },
      "source": [
        "import pandas as pd\n",
        "import numpy as np\n",
        "from wordcloud import WordCloud, STOPWORDS, ImageColorGenerator\n",
        "from nltk.corpus import stopwords\n",
        "stop_common=set(stopwords.words('english'))\n",
        "import matplotlib.pyplot as plt\n",
        "import requests\n",
        "import random \n",
        "from collections import OrderedDict\n",
        "import bs4\n",
        "from bs4 import BeautifulSoup\n",
        "import re\n",
        "from tqdm import tqdm\n",
        "from tqdm import tqdm_notebook\n",
        "import time\n",
        "from time import sleep\n",
        "from sklearn import linear_model\n",
        "from sklearn.linear_model import Ridge\n",
        "from sklearn.model_selection import cross_val_score, StratifiedKFold, train_test_split\n",
        "from sklearn.tree import DecisionTreeClassifier\n",
        "from sklearn.ensemble import RandomForestClassifier, ExtraTreesClassifier, BaggingClassifier, AdaBoostClassifier, GradientBoostingClassifier\n",
        "from sklearn.metrics import accuracy_score,  mean_squared_error\n",
        "from sklearn.feature_extraction.text import CountVectorizer, HashingVectorizer, TfidfVectorizer"
      ],
      "execution_count": 7,
      "outputs": []
    },
    {
      "cell_type": "code",
      "metadata": {
        "ExecuteTime": {
          "end_time": "2020-12-06T06:28:09.993601Z",
          "start_time": "2020-12-06T06:28:09.973261Z"
        },
        "focus": false,
        "id": "588f9845-6143-4bcc-bfd1-85d45b79303d"
      },
      "source": [
        "ds_salaries = pd.read_csv('/content/North_America_data_scientist.csv')"
      ],
      "execution_count": 8,
      "outputs": []
    },
    {
      "cell_type": "code",
      "metadata": {
        "ExecuteTime": {
          "end_time": "2020-12-06T06:28:17.122325Z",
          "start_time": "2020-12-06T06:28:17.105397Z"
        },
        "id": "z-aGuk7I-YIO",
        "colab": {
          "base_uri": "https://localhost:8080/",
          "height": 204
        },
        "outputId": "37368325-6e9f-4147-cc6d-366a28bbc069"
      },
      "source": [
        "ds_salaries.head()"
      ],
      "execution_count": 9,
      "outputs": [
        {
          "output_type": "execute_result",
          "data": {
            "text/html": [
              "<div>\n",
              "<style scoped>\n",
              "    .dataframe tbody tr th:only-of-type {\n",
              "        vertical-align: middle;\n",
              "    }\n",
              "\n",
              "    .dataframe tbody tr th {\n",
              "        vertical-align: top;\n",
              "    }\n",
              "\n",
              "    .dataframe thead th {\n",
              "        text-align: right;\n",
              "    }\n",
              "</style>\n",
              "<table border=\"1\" class=\"dataframe\">\n",
              "  <thead>\n",
              "    <tr style=\"text-align: right;\">\n",
              "      <th></th>\n",
              "      <th>location</th>\n",
              "      <th>title</th>\n",
              "      <th>company</th>\n",
              "      <th>salary</th>\n",
              "      <th>summary</th>\n",
              "    </tr>\n",
              "  </thead>\n",
              "  <tbody>\n",
              "    <tr>\n",
              "      <th>0</th>\n",
              "      <td>Hamilton, ON</td>\n",
              "      <td>Data Scientist (junior or intermediate)</td>\n",
              "      <td>Preteckt</td>\n",
              "      <td>90000.0</td>\n",
              "      <td>You’ll have access to a huge set (over 250 mil...</td>\n",
              "    </tr>\n",
              "    <tr>\n",
              "      <th>1</th>\n",
              "      <td>Burnaby, BC</td>\n",
              "      <td>Machine Learning Engineer (Wireless)</td>\n",
              "      <td>Bluvec Technoligies Inc.</td>\n",
              "      <td>95000.0</td>\n",
              "      <td>With core designers from Microsoft, Viavi, For...</td>\n",
              "    </tr>\n",
              "    <tr>\n",
              "      <th>2</th>\n",
              "      <td>Kitchener, ON</td>\n",
              "      <td>Junior Data Scientist/Data Engineer</td>\n",
              "      <td>Acerta Analytics Solutions Inc</td>\n",
              "      <td>70000.0</td>\n",
              "      <td>Assist with data feasibility and similar data ...</td>\n",
              "    </tr>\n",
              "    <tr>\n",
              "      <th>3</th>\n",
              "      <td>Toronto, ON</td>\n",
              "      <td>Data Scientist / Machine Learning Engineer</td>\n",
              "      <td>Leadbright Inc.</td>\n",
              "      <td>67500.0</td>\n",
              "      <td>Create and visualize data using our charting t...</td>\n",
              "    </tr>\n",
              "    <tr>\n",
              "      <th>4</th>\n",
              "      <td>Toronto, ON</td>\n",
              "      <td>Data Scientist/Analyst 120</td>\n",
              "      <td>Foilcon</td>\n",
              "      <td>192000.0</td>\n",
              "      <td>Strong business and data analysis skills.Exper...</td>\n",
              "    </tr>\n",
              "  </tbody>\n",
              "</table>\n",
              "</div>"
            ],
            "text/plain": [
              "        location  ...                                            summary\n",
              "0   Hamilton, ON  ...  You’ll have access to a huge set (over 250 mil...\n",
              "1    Burnaby, BC  ...  With core designers from Microsoft, Viavi, For...\n",
              "2  Kitchener, ON  ...  Assist with data feasibility and similar data ...\n",
              "3    Toronto, ON  ...  Create and visualize data using our charting t...\n",
              "4    Toronto, ON  ...  Strong business and data analysis skills.Exper...\n",
              "\n",
              "[5 rows x 5 columns]"
            ]
          },
          "metadata": {
            "tags": []
          },
          "execution_count": 9
        }
      ]
    },
    {
      "cell_type": "code",
      "metadata": {
        "colab": {
          "base_uri": "https://localhost:8080/"
        },
        "id": "V07rxlRtjB9E",
        "outputId": "e55878fa-c482-4821-d107-aeab61f6afa7"
      },
      "source": [
        "round(ds_salaries.salary.describe(),2)"
      ],
      "execution_count": 10,
      "outputs": [
        {
          "output_type": "execute_result",
          "data": {
            "text/plain": [
              "count        93.00\n",
              "mean     134428.20\n",
              "std       55209.15\n",
              "min       30480.00\n",
              "25%       91244.00\n",
              "50%      127000.00\n",
              "75%      164592.00\n",
              "max      289560.00\n",
              "Name: salary, dtype: float64"
            ]
          },
          "metadata": {
            "tags": []
          },
          "execution_count": 10
        }
      ]
    },
    {
      "cell_type": "code",
      "metadata": {
        "id": "1bqhhxOyjY17"
      },
      "source": [
        "ds_median_salary = np.median(ds_salaries.salary)"
      ],
      "execution_count": 11,
      "outputs": []
    },
    {
      "cell_type": "code",
      "metadata": {
        "ExecuteTime": {
          "end_time": "2020-12-06T06:28:31.301955Z",
          "start_time": "2020-12-06T06:28:31.296998Z"
        },
        "id": "wctJuMrZ-YIO"
      },
      "source": [
        "ds_salaries['high_salary'] = [1 if i > ds_median_salary else 0 for i in ds_salaries.salary]"
      ],
      "execution_count": 12,
      "outputs": []
    },
    {
      "cell_type": "code",
      "metadata": {
        "ExecuteTime": {
          "end_time": "2020-12-06T06:33:33.833054Z",
          "start_time": "2020-12-06T06:33:33.825615Z"
        },
        "id": "lG07rJf8-YIO",
        "colab": {
          "base_uri": "https://localhost:8080/"
        },
        "outputId": "3c898a29-4f60-4a39-a154-0c8502a3b47c"
      },
      "source": [
        "ds_salaries.head()\n",
        "print(len(ds_salaries))\n",
        "\n",
        "def clean_data(data, stop_common):\n",
        "    stop_common = set.union(stop_common, {'will', 'na', 'tools', 'software','full time',\n",
        "                                          'skills','using', 'system', 'year', 'building', 'new',\n",
        "                                         \"build\", \"years\", \"scientist\", \"developer\", \"developers\",\n",
        "                                         \"work\", \"knowledge\", \"full\", \"time\", \"provide\", \"looking\",\n",
        "                                         \"role\", \"development\", \"engineer\", \"engineering\", \"including\",\n",
        "                                         \"engineers\", \"working\", \"data\", \"scientists\", \"large\", \"use\", \"etc\",\n",
        "                                          \"similar\", \"one\"})\n",
        "    data = data.lower() #transfer to lower case\n",
        "    data = data.replace(\"'s\", \"\") #remove 's\n",
        "    data = re.sub(r'[^\\w]', ' ', data) #remove all symbol\n",
        "    data = filter(lambda w: not w in stop_common,data.split(\" \"))#split the sentence and remove the stop words\n",
        "    data = list(filter((\"\").__ne__, data)) #remove blank element\n",
        "    \n",
        "    return data"
      ],
      "execution_count": 13,
      "outputs": [
        {
          "output_type": "stream",
          "text": [
            "93\n"
          ],
          "name": "stdout"
        }
      ]
    },
    {
      "cell_type": "code",
      "metadata": {
        "ExecuteTime": {
          "end_time": "2020-12-06T06:33:55.356788Z",
          "start_time": "2020-12-06T06:33:54.793080Z"
        },
        "id": "SctC7iBe-YIO",
        "colab": {
          "base_uri": "https://localhost:8080/",
          "height": 571
        },
        "outputId": "4a0ac7a3-b679-4598-e2a5-51eb3afcf024"
      },
      "source": [
        "result = []\n",
        "for i in range(ds_salaries.shape[0]):\n",
        "    result+=clean_data(ds_salaries.iloc[i][\"summary\"], stop_common)\n",
        "wordcloud = WordCloud(max_font_size=50, max_words=100, width=900, height=450, background_color=\"white\").generate(\",\".join(result))\n",
        "wordcloud.to_file(\"Data_Scientist.png\")\n",
        "plt.figure( figsize=(15,7.5), facecolor='k')\n",
        "plt.imshow(wordcloud)\n",
        "plt.axis(\"off\")\n",
        "plt.tight_layout(pad=0)\n",
        "plt.show()"
      ],
      "execution_count": 14,
      "outputs": [
        {
          "output_type": "display_data",
          "data": {
            "image/png": "[encoded data removed]",
            "text/plain": [
              "<Figure size 1080x540 with 1 Axes>"
            ]
          },
          "metadata": {
            "tags": []
          }
        }
      ]
    },
    {
      "cell_type": "code",
      "metadata": {
        "colab": {
          "base_uri": "https://localhost:8080/",
          "height": 417
        },
        "id": "Kc5Xd7YuoqTb",
        "outputId": "4b6601f8-6003-4f30-8293-2e18cd2bee81"
      },
      "source": [
        "import plotly.graph_objs as go\r\n",
        "from plotly.offline import iplot\r\n",
        "\r\n",
        "trace1 = go.Histogram(x = ds_salaries.salary,\r\n",
        "                    name = \"citations\",\r\n",
        "                    marker = dict(color = 'rgba(16, 112, 2, 0.8)'),\r\n",
        "                    )\r\n",
        "\r\n",
        "data = [trace1]\r\n",
        "layout = dict(title = 'Salary Variation for Data Scientists',\r\n",
        "              xaxis= dict(title= 'Salary Variation',ticklen= 5,zeroline= False),\r\n",
        "              autosize=False,\r\n",
        "    width=400,\r\n",
        "    height=400,\r\n",
        "    margin=go.layout.Margin(\r\n",
        "        l=10,\r\n",
        "        r=10,\r\n",
        "        b=100,\r\n",
        "        t=100,\r\n",
        "        pad = 4\r\n",
        "             ))\r\n",
        "fig = dict(data = data, layout = layout)\r\n",
        "\r\n",
        "iplot(fig)"
      ],
      "execution_count": 24,
      "outputs": [
        {
          "output_type": "display_data",
          "data": {
            "text/html": [
              "<html>\n",
              "<head><meta charset=\"utf-8\" /></head>\n",
              "<body>\n",
              "    <div>\n",
              "            <script src=\"https://cdnjs.cloudflare.com/ajax/libs/mathjax/2.7.5/MathJax.js?config=TeX-AMS-MML_SVG\"></script><script type=\"text/javascript\">if (window.MathJax) {MathJax.Hub.Config({SVG: {font: \"STIX-Web\"}});}</script>\n",
              "                <script type=\"text/javascript\">window.PlotlyConfig = {MathJaxConfig: 'local'};</script>\n",
              "        <script src=\"https://cdn.plot.ly/plotly-latest.min.js\"></script>    \n",
              "            <div id=\"6c7a13df-25b3-4134-8705-d4202c4224af\" class=\"plotly-graph-div\" style=\"height:400px; width:400px;\"></div>\n",
              "            <script type=\"text/javascript\">\n",
              "                \n",
              "                    window.PLOTLYENV=window.PLOTLYENV || {};\n",
              "                    \n",
              "                if (document.getElementById(\"6c7a13df-25b3-4134-8705-d4202c4224af\")) {\n",
              "                    Plotly.newPlot(\n",
              "                        '6c7a13df-25b3-4134-8705-d4202c4224af',\n",
              "                        [{\"marker\": {\"color\": \"rgba(16, 112, 2, 0.8)\"}, \"name\": \"citations\", \"type\": \"histogram\", \"x\": [90000.0, 95000.0, 70000.0, 67500.0, 192000.0, 60068.0, 112737.0, 51500.0, 100000.0, 100000.0, 85000.0, 91244.0, 91244.0, 144000.0, 57100.0, 89028.0, 60000.0, 100000.0, 90000.0, 87384.5, 86270.0, 165100.0, 165100.0, 192024.0, 106680.0, 165100.0, 127000.0, 97669.35, 161925.0, 88900.0, 69850.0, 127560.705, 139700.0, 30480.0, 88900.0, 88900.0, 152400.0, 259080.0, 228600.0, 139700.0, 251460.0, 130175.0, 161925.0, 124466.35, 219075.0, 114300.0, 123837.7, 114300.0, 152400.0, 73025.0, 190500.0, 120650.0, 30784.8, 80645.0, 159385.0, 139700.0, 125412.5, 95250.0, 79248.0, 198120.0, 95250.0, 146050.0, 159793.94, 254000.0, 152064.72, 115319.81, 209550.0, 196850.0, 142875.0, 115319.81, 128720.215, 95250.0, 133350.0, 165100.0, 165100.0, 100330.0, 274320.0, 190500.0, 185928.0, 85725.0, 133350.0, 203200.0, 164592.0, 152400.0, 127000.0, 152400.0, 271272.0, 198120.0, 114953.415, 289560.0, 117475.0, 117475.0, 149225.0]}],\n",
              "                        {\"autosize\": false, \"height\": 400, \"margin\": {\"b\": 100, \"l\": 10, \"pad\": 4, \"r\": 10, \"t\": 100}, \"template\": {\"data\": {\"bar\": [{\"error_x\": {\"color\": \"#2a3f5f\"}, \"error_y\": {\"color\": \"#2a3f5f\"}, \"marker\": {\"line\": {\"color\": \"#E5ECF6\", \"width\": 0.5}}, \"type\": \"bar\"}], \"barpolar\": [{\"marker\": {\"line\": {\"color\": \"#E5ECF6\", \"width\": 0.5}}, \"type\": \"barpolar\"}], \"carpet\": [{\"aaxis\": {\"endlinecolor\": \"#2a3f5f\", \"gridcolor\": \"white\", \"linecolor\": \"white\", \"minorgridcolor\": \"white\", \"startlinecolor\": \"#2a3f5f\"}, \"baxis\": {\"endlinecolor\": \"#2a3f5f\", \"gridcolor\": \"white\", \"linecolor\": \"white\", \"minorgridcolor\": \"white\", \"startlinecolor\": \"#2a3f5f\"}, \"type\": \"carpet\"}], \"choropleth\": [{\"colorbar\": {\"outlinewidth\": 0, \"ticks\": \"\"}, \"type\": \"choropleth\"}], \"contour\": [{\"colorbar\": {\"outlinewidth\": 0, \"ticks\": \"\"}, \"colorscale\": [[0.0, \"#0d0887\"], [0.1111111111111111, \"#46039f\"], [0.2222222222222222, \"#7201a8\"], [0.3333333333333333, \"#9c179e\"], [0.4444444444444444, \"#bd3786\"], [0.5555555555555556, \"#d8576b\"], [0.6666666666666666, \"#ed7953\"], [0.7777777777777778, \"#fb9f3a\"], [0.8888888888888888, \"#fdca26\"], [1.0, \"#f0f921\"]], \"type\": \"contour\"}], \"contourcarpet\": [{\"colorbar\": {\"outlinewidth\": 0, \"ticks\": \"\"}, \"type\": \"contourcarpet\"}], \"heatmap\": [{\"colorbar\": {\"outlinewidth\": 0, \"ticks\": \"\"}, \"colorscale\": [[0.0, \"#0d0887\"], [0.1111111111111111, \"#46039f\"], [0.2222222222222222, \"#7201a8\"], [0.3333333333333333, \"#9c179e\"], [0.4444444444444444, \"#bd3786\"], [0.5555555555555556, \"#d8576b\"], [0.6666666666666666, \"#ed7953\"], [0.7777777777777778, \"#fb9f3a\"], [0.8888888888888888, \"#fdca26\"], [1.0, \"#f0f921\"]], \"type\": \"heatmap\"}], \"heatmapgl\": [{\"colorbar\": {\"outlinewidth\": 0, \"ticks\": \"\"}, \"colorscale\": [[0.0, \"#0d0887\"], [0.1111111111111111, \"#46039f\"], [0.2222222222222222, \"#7201a8\"], [0.3333333333333333, \"#9c179e\"], [0.4444444444444444, \"#bd3786\"], [0.5555555555555556, \"#d8576b\"], [0.6666666666666666, \"#ed7953\"], [0.7777777777777778, \"#fb9f3a\"], [0.8888888888888888, \"#fdca26\"], [1.0, \"#f0f921\"]], \"type\": \"heatmapgl\"}], \"histogram\": [{\"marker\": {\"colorbar\": {\"outlinewidth\": 0, \"ticks\": \"\"}}, \"type\": \"histogram\"}], \"histogram2d\": [{\"colorbar\": {\"outlinewidth\": 0, \"ticks\": \"\"}, \"colorscale\": [[0.0, \"#0d0887\"], [0.1111111111111111, \"#46039f\"], [0.2222222222222222, \"#7201a8\"], [0.3333333333333333, \"#9c179e\"], [0.4444444444444444, \"#bd3786\"], [0.5555555555555556, \"#d8576b\"], [0.6666666666666666, \"#ed7953\"], [0.7777777777777778, \"#fb9f3a\"], [0.8888888888888888, \"#fdca26\"], [1.0, \"#f0f921\"]], \"type\": \"histogram2d\"}], \"histogram2dcontour\": [{\"colorbar\": {\"outlinewidth\": 0, \"ticks\": \"\"}, \"colorscale\": [[0.0, \"#0d0887\"], [0.1111111111111111, \"#46039f\"], [0.2222222222222222, \"#7201a8\"], [0.3333333333333333, \"#9c179e\"], [0.4444444444444444, \"#bd3786\"], [0.5555555555555556, \"#d8576b\"], [0.6666666666666666, \"#ed7953\"], [0.7777777777777778, \"#fb9f3a\"], [0.8888888888888888, \"#fdca26\"], [1.0, \"#f0f921\"]], \"type\": \"histogram2dcontour\"}], \"mesh3d\": [{\"colorbar\": {\"outlinewidth\": 0, \"ticks\": \"\"}, \"type\": \"mesh3d\"}], \"parcoords\": [{\"line\": {\"colorbar\": {\"outlinewidth\": 0, \"ticks\": \"\"}}, \"type\": \"parcoords\"}], \"pie\": [{\"automargin\": true, \"type\": \"pie\"}], \"scatter\": [{\"marker\": {\"colorbar\": {\"outlinewidth\": 0, \"ticks\": \"\"}}, \"type\": \"scatter\"}], \"scatter3d\": [{\"line\": {\"colorbar\": {\"outlinewidth\": 0, \"ticks\": \"\"}}, \"marker\": {\"colorbar\": {\"outlinewidth\": 0, \"ticks\": \"\"}}, \"type\": \"scatter3d\"}], \"scattercarpet\": [{\"marker\": {\"colorbar\": {\"outlinewidth\": 0, \"ticks\": \"\"}}, \"type\": \"scattercarpet\"}], \"scattergeo\": [{\"marker\": {\"colorbar\": {\"outlinewidth\": 0, \"ticks\": \"\"}}, \"type\": \"scattergeo\"}], \"scattergl\": [{\"marker\": {\"colorbar\": {\"outlinewidth\": 0, \"ticks\": \"\"}}, \"type\": \"scattergl\"}], \"scattermapbox\": [{\"marker\": {\"colorbar\": {\"outlinewidth\": 0, \"ticks\": \"\"}}, \"type\": \"scattermapbox\"}], \"scatterpolar\": [{\"marker\": {\"colorbar\": {\"outlinewidth\": 0, \"ticks\": \"\"}}, \"type\": \"scatterpolar\"}], \"scatterpolargl\": [{\"marker\": {\"colorbar\": {\"outlinewidth\": 0, \"ticks\": \"\"}}, \"type\": \"scatterpolargl\"}], \"scatterternary\": [{\"marker\": {\"colorbar\": {\"outlinewidth\": 0, \"ticks\": \"\"}}, \"type\": \"scatterternary\"}], \"surface\": [{\"colorbar\": {\"outlinewidth\": 0, \"ticks\": \"\"}, \"colorscale\": [[0.0, \"#0d0887\"], [0.1111111111111111, \"#46039f\"], [0.2222222222222222, \"#7201a8\"], [0.3333333333333333, \"#9c179e\"], [0.4444444444444444, \"#bd3786\"], [0.5555555555555556, \"#d8576b\"], [0.6666666666666666, \"#ed7953\"], [0.7777777777777778, \"#fb9f3a\"], [0.8888888888888888, \"#fdca26\"], [1.0, \"#f0f921\"]], \"type\": \"surface\"}], \"table\": [{\"cells\": {\"fill\": {\"color\": \"#EBF0F8\"}, \"line\": {\"color\": \"white\"}}, \"header\": {\"fill\": {\"color\": \"#C8D4E3\"}, \"line\": {\"color\": \"white\"}}, \"type\": \"table\"}]}, \"layout\": {\"annotationdefaults\": {\"arrowcolor\": \"#2a3f5f\", \"arrowhead\": 0, \"arrowwidth\": 1}, \"coloraxis\": {\"colorbar\": {\"outlinewidth\": 0, \"ticks\": \"\"}}, \"colorscale\": {\"diverging\": [[0, \"#8e0152\"], [0.1, \"#c51b7d\"], [0.2, \"#de77ae\"], [0.3, \"#f1b6da\"], [0.4, \"#fde0ef\"], [0.5, \"#f7f7f7\"], [0.6, \"#e6f5d0\"], [0.7, \"#b8e186\"], [0.8, \"#7fbc41\"], [0.9, \"#4d9221\"], [1, \"#276419\"]], \"sequential\": [[0.0, \"#0d0887\"], [0.1111111111111111, \"#46039f\"], [0.2222222222222222, \"#7201a8\"], [0.3333333333333333, \"#9c179e\"], [0.4444444444444444, \"#bd3786\"], [0.5555555555555556, \"#d8576b\"], [0.6666666666666666, \"#ed7953\"], [0.7777777777777778, \"#fb9f3a\"], [0.8888888888888888, \"#fdca26\"], [1.0, \"#f0f921\"]], \"sequentialminus\": [[0.0, \"#0d0887\"], [0.1111111111111111, \"#46039f\"], [0.2222222222222222, \"#7201a8\"], [0.3333333333333333, \"#9c179e\"], [0.4444444444444444, \"#bd3786\"], [0.5555555555555556, \"#d8576b\"], [0.6666666666666666, \"#ed7953\"], [0.7777777777777778, \"#fb9f3a\"], [0.8888888888888888, \"#fdca26\"], [1.0, \"#f0f921\"]]}, \"colorway\": [\"#636efa\", \"#EF553B\", \"#00cc96\", \"#ab63fa\", \"#FFA15A\", \"#19d3f3\", \"#FF6692\", \"#B6E880\", \"#FF97FF\", \"#FECB52\"], \"font\": {\"color\": \"#2a3f5f\"}, \"geo\": {\"bgcolor\": \"white\", \"lakecolor\": \"white\", \"landcolor\": \"#E5ECF6\", \"showlakes\": true, \"showland\": true, \"subunitcolor\": \"white\"}, \"hoverlabel\": {\"align\": \"left\"}, \"hovermode\": \"closest\", \"mapbox\": {\"style\": \"light\"}, \"paper_bgcolor\": \"white\", \"plot_bgcolor\": \"#E5ECF6\", \"polar\": {\"angularaxis\": {\"gridcolor\": \"white\", \"linecolor\": \"white\", \"ticks\": \"\"}, \"bgcolor\": \"#E5ECF6\", \"radialaxis\": {\"gridcolor\": \"white\", \"linecolor\": \"white\", \"ticks\": \"\"}}, \"scene\": {\"xaxis\": {\"backgroundcolor\": \"#E5ECF6\", \"gridcolor\": \"white\", \"gridwidth\": 2, \"linecolor\": \"white\", \"showbackground\": true, \"ticks\": \"\", \"zerolinecolor\": \"white\"}, \"yaxis\": {\"backgroundcolor\": \"#E5ECF6\", \"gridcolor\": \"white\", \"gridwidth\": 2, \"linecolor\": \"white\", \"showbackground\": true, \"ticks\": \"\", \"zerolinecolor\": \"white\"}, \"zaxis\": {\"backgroundcolor\": \"#E5ECF6\", \"gridcolor\": \"white\", \"gridwidth\": 2, \"linecolor\": \"white\", \"showbackground\": true, \"ticks\": \"\", \"zerolinecolor\": \"white\"}}, \"shapedefaults\": {\"line\": {\"color\": \"#2a3f5f\"}}, \"ternary\": {\"aaxis\": {\"gridcolor\": \"white\", \"linecolor\": \"white\", \"ticks\": \"\"}, \"baxis\": {\"gridcolor\": \"white\", \"linecolor\": \"white\", \"ticks\": \"\"}, \"bgcolor\": \"#E5ECF6\", \"caxis\": {\"gridcolor\": \"white\", \"linecolor\": \"white\", \"ticks\": \"\"}}, \"title\": {\"x\": 0.05}, \"xaxis\": {\"automargin\": true, \"gridcolor\": \"white\", \"linecolor\": \"white\", \"ticks\": \"\", \"title\": {\"standoff\": 15}, \"zerolinecolor\": \"white\", \"zerolinewidth\": 2}, \"yaxis\": {\"automargin\": true, \"gridcolor\": \"white\", \"linecolor\": \"white\", \"ticks\": \"\", \"title\": {\"standoff\": 15}, \"zerolinecolor\": \"white\", \"zerolinewidth\": 2}}}, \"title\": {\"text\": \"Salary Variation for Data Scientists\"}, \"width\": 400, \"xaxis\": {\"ticklen\": 5, \"title\": {\"text\": \"Salary Variation\"}, \"zeroline\": false}},\n",
              "                        {\"responsive\": true}\n",
              "                    ).then(function(){\n",
              "                            \n",
              "var gd = document.getElementById('6c7a13df-25b3-4134-8705-d4202c4224af');\n",
              "var x = new MutationObserver(function (mutations, observer) {{\n",
              "        var display = window.getComputedStyle(gd).display;\n",
              "        if (!display || display === 'none') {{\n",
              "            console.log([gd, 'removed!']);\n",
              "            Plotly.purge(gd);\n",
              "            observer.disconnect();\n",
              "        }}\n",
              "}});\n",
              "\n",
              "// Listen for the removal of the full notebook cells\n",
              "var notebookContainer = gd.closest('#notebook-container');\n",
              "if (notebookContainer) {{\n",
              "    x.observe(notebookContainer, {childList: true});\n",
              "}}\n",
              "\n",
              "// Listen for the clearing of the current output cell\n",
              "var outputEl = gd.closest('.output');\n",
              "if (outputEl) {{\n",
              "    x.observe(outputEl, {childList: true});\n",
              "}}\n",
              "\n",
              "                        })\n",
              "                };\n",
              "                \n",
              "            </script>\n",
              "        </div>\n",
              "</body>\n",
              "</html>"
            ]
          },
          "metadata": {
            "tags": []
          }
        }
      ]
    },
    {
      "cell_type": "code",
      "metadata": {
        "colab": {
          "base_uri": "https://localhost:8080/",
          "height": 417
        },
        "id": "KZMzq5w0osAl",
        "outputId": "a4f4ca14-7dc8-4780-eac5-2a6c5d77dcaf"
      },
      "source": [
        "trace1 = go.Scatter(y = ds_salaries.salary,\r\n",
        "                    mode = \"lines\",\r\n",
        "                    name = \"citations\",\r\n",
        "                    marker = dict(color = 'rgba(200, 112, 2, 0.8)'),\r\n",
        "                    )\r\n",
        "\r\n",
        "data = [trace1]\r\n",
        "layout = dict(title = 'Salary Variation for Data Scientists',\r\n",
        "              xaxis= dict(title= 'Salary Variation',ticklen= 5,zeroline= False),\r\n",
        "              autosize=False,\r\n",
        "    width=400,\r\n",
        "    height=400,\r\n",
        "    margin=go.layout.Margin(\r\n",
        "        l=10,\r\n",
        "        r=10,\r\n",
        "        b=100,\r\n",
        "        t=100,\r\n",
        "        pad = 4\r\n",
        "             ))\r\n",
        "fig = dict(data = data, layout = layout)\r\n",
        "\r\n",
        "iplot(fig)"
      ],
      "execution_count": 26,
      "outputs": [
        {
          "output_type": "display_data",
          "data": {
            "text/html": [
              "<html>\n",
              "<head><meta charset=\"utf-8\" /></head>\n",
              "<body>\n",
              "    <div>\n",
              "            <script src=\"https://cdnjs.cloudflare.com/ajax/libs/mathjax/2.7.5/MathJax.js?config=TeX-AMS-MML_SVG\"></script><script type=\"text/javascript\">if (window.MathJax) {MathJax.Hub.Config({SVG: {font: \"STIX-Web\"}});}</script>\n",
              "                <script type=\"text/javascript\">window.PlotlyConfig = {MathJaxConfig: 'local'};</script>\n",
              "        <script src=\"https://cdn.plot.ly/plotly-latest.min.js\"></script>    \n",
              "            <div id=\"ca649fba-85ed-4a44-8a13-ec533aeb23d2\" class=\"plotly-graph-div\" style=\"height:400px; width:400px;\"></div>\n",
              "            <script type=\"text/javascript\">\n",
              "                \n",
              "                    window.PLOTLYENV=window.PLOTLYENV || {};\n",
              "                    \n",
              "                if (document.getElementById(\"ca649fba-85ed-4a44-8a13-ec533aeb23d2\")) {\n",
              "                    Plotly.newPlot(\n",
              "                        'ca649fba-85ed-4a44-8a13-ec533aeb23d2',\n",
              "                        [{\"marker\": {\"color\": \"rgba(200, 112, 2, 0.8)\"}, \"mode\": \"lines\", \"name\": \"citations\", \"type\": \"scatter\", \"y\": [90000.0, 95000.0, 70000.0, 67500.0, 192000.0, 60068.0, 112737.0, 51500.0, 100000.0, 100000.0, 85000.0, 91244.0, 91244.0, 144000.0, 57100.0, 89028.0, 60000.0, 100000.0, 90000.0, 87384.5, 86270.0, 165100.0, 165100.0, 192024.0, 106680.0, 165100.0, 127000.0, 97669.35, 161925.0, 88900.0, 69850.0, 127560.705, 139700.0, 30480.0, 88900.0, 88900.0, 152400.0, 259080.0, 228600.0, 139700.0, 251460.0, 130175.0, 161925.0, 124466.35, 219075.0, 114300.0, 123837.7, 114300.0, 152400.0, 73025.0, 190500.0, 120650.0, 30784.8, 80645.0, 159385.0, 139700.0, 125412.5, 95250.0, 79248.0, 198120.0, 95250.0, 146050.0, 159793.94, 254000.0, 152064.72, 115319.81, 209550.0, 196850.0, 142875.0, 115319.81, 128720.215, 95250.0, 133350.0, 165100.0, 165100.0, 100330.0, 274320.0, 190500.0, 185928.0, 85725.0, 133350.0, 203200.0, 164592.0, 152400.0, 127000.0, 152400.0, 271272.0, 198120.0, 114953.415, 289560.0, 117475.0, 117475.0, 149225.0]}],\n",
              "                        {\"autosize\": false, \"height\": 400, \"margin\": {\"b\": 100, \"l\": 10, \"pad\": 4, \"r\": 10, \"t\": 100}, \"template\": {\"data\": {\"bar\": [{\"error_x\": {\"color\": \"#2a3f5f\"}, \"error_y\": {\"color\": \"#2a3f5f\"}, \"marker\": {\"line\": {\"color\": \"#E5ECF6\", \"width\": 0.5}}, \"type\": \"bar\"}], \"barpolar\": [{\"marker\": {\"line\": {\"color\": \"#E5ECF6\", \"width\": 0.5}}, \"type\": \"barpolar\"}], \"carpet\": [{\"aaxis\": {\"endlinecolor\": \"#2a3f5f\", \"gridcolor\": \"white\", \"linecolor\": \"white\", \"minorgridcolor\": \"white\", \"startlinecolor\": \"#2a3f5f\"}, \"baxis\": {\"endlinecolor\": \"#2a3f5f\", \"gridcolor\": \"white\", \"linecolor\": \"white\", \"minorgridcolor\": \"white\", \"startlinecolor\": \"#2a3f5f\"}, \"type\": \"carpet\"}], \"choropleth\": [{\"colorbar\": {\"outlinewidth\": 0, \"ticks\": \"\"}, \"type\": \"choropleth\"}], \"contour\": [{\"colorbar\": {\"outlinewidth\": 0, \"ticks\": \"\"}, \"colorscale\": [[0.0, \"#0d0887\"], [0.1111111111111111, \"#46039f\"], [0.2222222222222222, \"#7201a8\"], [0.3333333333333333, \"#9c179e\"], [0.4444444444444444, \"#bd3786\"], [0.5555555555555556, \"#d8576b\"], [0.6666666666666666, \"#ed7953\"], [0.7777777777777778, \"#fb9f3a\"], [0.8888888888888888, \"#fdca26\"], [1.0, \"#f0f921\"]], \"type\": \"contour\"}], \"contourcarpet\": [{\"colorbar\": {\"outlinewidth\": 0, \"ticks\": \"\"}, \"type\": \"contourcarpet\"}], \"heatmap\": [{\"colorbar\": {\"outlinewidth\": 0, \"ticks\": \"\"}, \"colorscale\": [[0.0, \"#0d0887\"], [0.1111111111111111, \"#46039f\"], [0.2222222222222222, \"#7201a8\"], [0.3333333333333333, \"#9c179e\"], [0.4444444444444444, \"#bd3786\"], [0.5555555555555556, \"#d8576b\"], [0.6666666666666666, \"#ed7953\"], [0.7777777777777778, \"#fb9f3a\"], [0.8888888888888888, \"#fdca26\"], [1.0, \"#f0f921\"]], \"type\": \"heatmap\"}], \"heatmapgl\": [{\"colorbar\": {\"outlinewidth\": 0, \"ticks\": \"\"}, \"colorscale\": [[0.0, \"#0d0887\"], [0.1111111111111111, \"#46039f\"], [0.2222222222222222, \"#7201a8\"], [0.3333333333333333, \"#9c179e\"], [0.4444444444444444, \"#bd3786\"], [0.5555555555555556, \"#d8576b\"], [0.6666666666666666, \"#ed7953\"], [0.7777777777777778, \"#fb9f3a\"], [0.8888888888888888, \"#fdca26\"], [1.0, \"#f0f921\"]], \"type\": \"heatmapgl\"}], \"histogram\": [{\"marker\": {\"colorbar\": {\"outlinewidth\": 0, \"ticks\": \"\"}}, \"type\": \"histogram\"}], \"histogram2d\": [{\"colorbar\": {\"outlinewidth\": 0, \"ticks\": \"\"}, \"colorscale\": [[0.0, \"#0d0887\"], [0.1111111111111111, \"#46039f\"], [0.2222222222222222, \"#7201a8\"], [0.3333333333333333, \"#9c179e\"], [0.4444444444444444, \"#bd3786\"], [0.5555555555555556, \"#d8576b\"], [0.6666666666666666, \"#ed7953\"], [0.7777777777777778, \"#fb9f3a\"], [0.8888888888888888, \"#fdca26\"], [1.0, \"#f0f921\"]], \"type\": \"histogram2d\"}], \"histogram2dcontour\": [{\"colorbar\": {\"outlinewidth\": 0, \"ticks\": \"\"}, \"colorscale\": [[0.0, \"#0d0887\"], [0.1111111111111111, \"#46039f\"], [0.2222222222222222, \"#7201a8\"], [0.3333333333333333, \"#9c179e\"], [0.4444444444444444, \"#bd3786\"], [0.5555555555555556, \"#d8576b\"], [0.6666666666666666, \"#ed7953\"], [0.7777777777777778, \"#fb9f3a\"], [0.8888888888888888, \"#fdca26\"], [1.0, \"#f0f921\"]], \"type\": \"histogram2dcontour\"}], \"mesh3d\": [{\"colorbar\": {\"outlinewidth\": 0, \"ticks\": \"\"}, \"type\": \"mesh3d\"}], \"parcoords\": [{\"line\": {\"colorbar\": {\"outlinewidth\": 0, \"ticks\": \"\"}}, \"type\": \"parcoords\"}], \"pie\": [{\"automargin\": true, \"type\": \"pie\"}], \"scatter\": [{\"marker\": {\"colorbar\": {\"outlinewidth\": 0, \"ticks\": \"\"}}, \"type\": \"scatter\"}], \"scatter3d\": [{\"line\": {\"colorbar\": {\"outlinewidth\": 0, \"ticks\": \"\"}}, \"marker\": {\"colorbar\": {\"outlinewidth\": 0, \"ticks\": \"\"}}, \"type\": \"scatter3d\"}], \"scattercarpet\": [{\"marker\": {\"colorbar\": {\"outlinewidth\": 0, \"ticks\": \"\"}}, \"type\": \"scattercarpet\"}], \"scattergeo\": [{\"marker\": {\"colorbar\": {\"outlinewidth\": 0, \"ticks\": \"\"}}, \"type\": \"scattergeo\"}], \"scattergl\": [{\"marker\": {\"colorbar\": {\"outlinewidth\": 0, \"ticks\": \"\"}}, \"type\": \"scattergl\"}], \"scattermapbox\": [{\"marker\": {\"colorbar\": {\"outlinewidth\": 0, \"ticks\": \"\"}}, \"type\": \"scattermapbox\"}], \"scatterpolar\": [{\"marker\": {\"colorbar\": {\"outlinewidth\": 0, \"ticks\": \"\"}}, \"type\": \"scatterpolar\"}], \"scatterpolargl\": [{\"marker\": {\"colorbar\": {\"outlinewidth\": 0, \"ticks\": \"\"}}, \"type\": \"scatterpolargl\"}], \"scatterternary\": [{\"marker\": {\"colorbar\": {\"outlinewidth\": 0, \"ticks\": \"\"}}, \"type\": \"scatterternary\"}], \"surface\": [{\"colorbar\": {\"outlinewidth\": 0, \"ticks\": \"\"}, \"colorscale\": [[0.0, \"#0d0887\"], [0.1111111111111111, \"#46039f\"], [0.2222222222222222, \"#7201a8\"], [0.3333333333333333, \"#9c179e\"], [0.4444444444444444, \"#bd3786\"], [0.5555555555555556, \"#d8576b\"], [0.6666666666666666, \"#ed7953\"], [0.7777777777777778, \"#fb9f3a\"], [0.8888888888888888, \"#fdca26\"], [1.0, \"#f0f921\"]], \"type\": \"surface\"}], \"table\": [{\"cells\": {\"fill\": {\"color\": \"#EBF0F8\"}, \"line\": {\"color\": \"white\"}}, \"header\": {\"fill\": {\"color\": \"#C8D4E3\"}, \"line\": {\"color\": \"white\"}}, \"type\": \"table\"}]}, \"layout\": {\"annotationdefaults\": {\"arrowcolor\": \"#2a3f5f\", \"arrowhead\": 0, \"arrowwidth\": 1}, \"coloraxis\": {\"colorbar\": {\"outlinewidth\": 0, \"ticks\": \"\"}}, \"colorscale\": {\"diverging\": [[0, \"#8e0152\"], [0.1, \"#c51b7d\"], [0.2, \"#de77ae\"], [0.3, \"#f1b6da\"], [0.4, \"#fde0ef\"], [0.5, \"#f7f7f7\"], [0.6, \"#e6f5d0\"], [0.7, \"#b8e186\"], [0.8, \"#7fbc41\"], [0.9, \"#4d9221\"], [1, \"#276419\"]], \"sequential\": [[0.0, \"#0d0887\"], [0.1111111111111111, \"#46039f\"], [0.2222222222222222, \"#7201a8\"], [0.3333333333333333, \"#9c179e\"], [0.4444444444444444, \"#bd3786\"], [0.5555555555555556, \"#d8576b\"], [0.6666666666666666, \"#ed7953\"], [0.7777777777777778, \"#fb9f3a\"], [0.8888888888888888, \"#fdca26\"], [1.0, \"#f0f921\"]], \"sequentialminus\": [[0.0, \"#0d0887\"], [0.1111111111111111, \"#46039f\"], [0.2222222222222222, \"#7201a8\"], [0.3333333333333333, \"#9c179e\"], [0.4444444444444444, \"#bd3786\"], [0.5555555555555556, \"#d8576b\"], [0.6666666666666666, \"#ed7953\"], [0.7777777777777778, \"#fb9f3a\"], [0.8888888888888888, \"#fdca26\"], [1.0, \"#f0f921\"]]}, \"colorway\": [\"#636efa\", \"#EF553B\", \"#00cc96\", \"#ab63fa\", \"#FFA15A\", \"#19d3f3\", \"#FF6692\", \"#B6E880\", \"#FF97FF\", \"#FECB52\"], \"font\": {\"color\": \"#2a3f5f\"}, \"geo\": {\"bgcolor\": \"white\", \"lakecolor\": \"white\", \"landcolor\": \"#E5ECF6\", \"showlakes\": true, \"showland\": true, \"subunitcolor\": \"white\"}, \"hoverlabel\": {\"align\": \"left\"}, \"hovermode\": \"closest\", \"mapbox\": {\"style\": \"light\"}, \"paper_bgcolor\": \"white\", \"plot_bgcolor\": \"#E5ECF6\", \"polar\": {\"angularaxis\": {\"gridcolor\": \"white\", \"linecolor\": \"white\", \"ticks\": \"\"}, \"bgcolor\": \"#E5ECF6\", \"radialaxis\": {\"gridcolor\": \"white\", \"linecolor\": \"white\", \"ticks\": \"\"}}, \"scene\": {\"xaxis\": {\"backgroundcolor\": \"#E5ECF6\", \"gridcolor\": \"white\", \"gridwidth\": 2, \"linecolor\": \"white\", \"showbackground\": true, \"ticks\": \"\", \"zerolinecolor\": \"white\"}, \"yaxis\": {\"backgroundcolor\": \"#E5ECF6\", \"gridcolor\": \"white\", \"gridwidth\": 2, \"linecolor\": \"white\", \"showbackground\": true, \"ticks\": \"\", \"zerolinecolor\": \"white\"}, \"zaxis\": {\"backgroundcolor\": \"#E5ECF6\", \"gridcolor\": \"white\", \"gridwidth\": 2, \"linecolor\": \"white\", \"showbackground\": true, \"ticks\": \"\", \"zerolinecolor\": \"white\"}}, \"shapedefaults\": {\"line\": {\"color\": \"#2a3f5f\"}}, \"ternary\": {\"aaxis\": {\"gridcolor\": \"white\", \"linecolor\": \"white\", \"ticks\": \"\"}, \"baxis\": {\"gridcolor\": \"white\", \"linecolor\": \"white\", \"ticks\": \"\"}, \"bgcolor\": \"#E5ECF6\", \"caxis\": {\"gridcolor\": \"white\", \"linecolor\": \"white\", \"ticks\": \"\"}}, \"title\": {\"x\": 0.05}, \"xaxis\": {\"automargin\": true, \"gridcolor\": \"white\", \"linecolor\": \"white\", \"ticks\": \"\", \"title\": {\"standoff\": 15}, \"zerolinecolor\": \"white\", \"zerolinewidth\": 2}, \"yaxis\": {\"automargin\": true, \"gridcolor\": \"white\", \"linecolor\": \"white\", \"ticks\": \"\", \"title\": {\"standoff\": 15}, \"zerolinecolor\": \"white\", \"zerolinewidth\": 2}}}, \"title\": {\"text\": \"Salary Variation for Data Scientists\"}, \"width\": 400, \"xaxis\": {\"ticklen\": 5, \"title\": {\"text\": \"Salary Variation\"}, \"zeroline\": false}},\n",
              "                        {\"responsive\": true}\n",
              "                    ).then(function(){\n",
              "                            \n",
              "var gd = document.getElementById('ca649fba-85ed-4a44-8a13-ec533aeb23d2');\n",
              "var x = new MutationObserver(function (mutations, observer) {{\n",
              "        var display = window.getComputedStyle(gd).display;\n",
              "        if (!display || display === 'none') {{\n",
              "            console.log([gd, 'removed!']);\n",
              "            Plotly.purge(gd);\n",
              "            observer.disconnect();\n",
              "        }}\n",
              "}});\n",
              "\n",
              "// Listen for the removal of the full notebook cells\n",
              "var notebookContainer = gd.closest('#notebook-container');\n",
              "if (notebookContainer) {{\n",
              "    x.observe(notebookContainer, {childList: true});\n",
              "}}\n",
              "\n",
              "// Listen for the clearing of the current output cell\n",
              "var outputEl = gd.closest('.output');\n",
              "if (outputEl) {{\n",
              "    x.observe(outputEl, {childList: true});\n",
              "}}\n",
              "\n",
              "                        })\n",
              "                };\n",
              "                \n",
              "            </script>\n",
              "        </div>\n",
              "</body>\n",
              "</html>"
            ]
          },
          "metadata": {
            "tags": []
          }
        }
      ]
    },
    {
      "cell_type": "markdown",
      "metadata": {
        "id": "a9l9WgDn-YIO"
      },
      "source": [
        "#### Only Location"
      ]
    },
    {
      "cell_type": "code",
      "metadata": {
        "ExecuteTime": {
          "end_time": "2020-12-06T05:42:07.833319Z",
          "start_time": "2020-12-06T05:42:07.827210Z"
        },
        "id": "-9fxCSNA-YIO",
        "colab": {
          "base_uri": "https://localhost:8080/"
        },
        "outputId": "b8a72e6f-07ff-4b1e-e101-51e419877c49"
      },
      "source": [
        "ds_salaries.location.value_counts()"
      ],
      "execution_count": 16,
      "outputs": [
        {
          "output_type": "execute_result",
          "data": {
            "text/plain": [
              "New York, NY                              8\n",
              "Toronto, ON                               6\n",
              "Long Island City, NY 11101                4\n",
              "Washington, DC                            3\n",
              "Herndon, VA 20170                         3\n",
              "                                         ..\n",
              "San Ramon, CA 94583                       1\n",
              "Redwood City, CA 94063 (Downtown area)    1\n",
              "San Francisco, CA                         1\n",
              "Torrance, CA 90502                        1\n",
              "Houston, TX 77079 (Memorial area)         1\n",
              "Name: location, Length: 64, dtype: int64"
            ]
          },
          "metadata": {
            "tags": []
          },
          "execution_count": 16
        }
      ]
    },
    {
      "cell_type": "code",
      "metadata": {
        "ExecuteTime": {
          "end_time": "2020-12-06T05:42:12.879999Z",
          "start_time": "2020-12-06T05:42:12.874317Z"
        },
        "id": "v_1_MIRv-YIO"
      },
      "source": [
        "cities = []\n",
        "states = []\n",
        "\n",
        "for loc in ds_salaries.location:\n",
        "    items = loc.split(',')\n",
        "    cities.append(items[0])\n",
        "    states.append(items[1])\n"
      ],
      "execution_count": 17,
      "outputs": []
    },
    {
      "cell_type": "code",
      "metadata": {
        "ExecuteTime": {
          "end_time": "2020-12-06T05:42:17.770231Z",
          "start_time": "2020-12-06T05:42:17.766192Z"
        },
        "scrolled": true,
        "id": "MJyPuImc-YIO",
        "colab": {
          "base_uri": "https://localhost:8080/"
        },
        "outputId": "667010f4-e743-4a31-918f-e770f419381e"
      },
      "source": [
        "only_states = []\n",
        "for state in states:\n",
        "    only_states.append(re.search(r'\\w+', state).group(0))\n",
        "print(len(only_states))"
      ],
      "execution_count": 18,
      "outputs": [
        {
          "output_type": "stream",
          "text": [
            "93\n"
          ],
          "name": "stdout"
        }
      ]
    },
    {
      "cell_type": "code",
      "metadata": {
        "ExecuteTime": {
          "end_time": "2020-12-06T05:42:22.587805Z",
          "start_time": "2020-12-06T05:42:22.582991Z"
        },
        "id": "uESrhcpU-YIO"
      },
      "source": [
        "ds_salaries['city'] = cities\n",
        "ds_salaries['state'] = only_states"
      ],
      "execution_count": 19,
      "outputs": []
    },
    {
      "cell_type": "code",
      "metadata": {
        "ExecuteTime": {
          "end_time": "2020-12-06T05:42:27.542198Z",
          "start_time": "2020-12-06T05:42:27.513306Z"
        },
        "id": "DjdSKqFo-YIO"
      },
      "source": [
        "ds_salaries.city = ds_salaries.city + \", \" + ds_salaries.state"
      ],
      "execution_count": 20,
      "outputs": []
    },
    {
      "cell_type": "code",
      "metadata": {
        "ExecuteTime": {
          "end_time": "2020-12-06T05:42:33.188168Z",
          "start_time": "2020-12-06T05:42:33.181939Z"
        },
        "id": "K5dofIZ6-YIO"
      },
      "source": [
        "for i in ds_salaries.state:\n",
        "    if len(i) > 2:\n",
        "        print(i)"
      ],
      "execution_count": 21,
      "outputs": []
    },
    {
      "cell_type": "code",
      "metadata": {
        "ExecuteTime": {
          "end_time": "2020-12-06T05:42:37.909266Z",
          "start_time": "2020-12-06T05:42:37.888544Z"
        },
        "id": "eMS-QWkD-YIO",
        "colab": {
          "base_uri": "https://localhost:8080/",
          "height": 419
        },
        "outputId": "1e210f15-0266-454e-9ab6-d4246cd4dd98"
      },
      "source": [
        "ds_salaries"
      ],
      "execution_count": null,
      "outputs": [
        {
          "output_type": "execute_result",
          "data": {
            "text/html": [
              "<div>\n",
              "<style scoped>\n",
              "    .dataframe tbody tr th:only-of-type {\n",
              "        vertical-align: middle;\n",
              "    }\n",
              "\n",
              "    .dataframe tbody tr th {\n",
              "        vertical-align: top;\n",
              "    }\n",
              "\n",
              "    .dataframe thead th {\n",
              "        text-align: right;\n",
              "    }\n",
              "</style>\n",
              "<table border=\"1\" class=\"dataframe\">\n",
              "  <thead>\n",
              "    <tr style=\"text-align: right;\">\n",
              "      <th></th>\n",
              "      <th>location</th>\n",
              "      <th>title</th>\n",
              "      <th>company</th>\n",
              "      <th>salary</th>\n",
              "      <th>summary</th>\n",
              "      <th>high_salary</th>\n",
              "      <th>city</th>\n",
              "      <th>state</th>\n",
              "    </tr>\n",
              "  </thead>\n",
              "  <tbody>\n",
              "    <tr>\n",
              "      <th>0</th>\n",
              "      <td>Hamilton, ON</td>\n",
              "      <td>Data Scientist (junior or intermediate)</td>\n",
              "      <td>Preteckt</td>\n",
              "      <td>90000.000</td>\n",
              "      <td>You’ll have access to a huge set (over 250 mil...</td>\n",
              "      <td>0</td>\n",
              "      <td>Hamilton, ON</td>\n",
              "      <td>ON</td>\n",
              "    </tr>\n",
              "    <tr>\n",
              "      <th>1</th>\n",
              "      <td>Burnaby, BC</td>\n",
              "      <td>Machine Learning Engineer (Wireless)</td>\n",
              "      <td>Bluvec Technoligies Inc.</td>\n",
              "      <td>95000.000</td>\n",
              "      <td>With core designers from Microsoft, Viavi, For...</td>\n",
              "      <td>0</td>\n",
              "      <td>Burnaby, BC</td>\n",
              "      <td>BC</td>\n",
              "    </tr>\n",
              "    <tr>\n",
              "      <th>2</th>\n",
              "      <td>Kitchener, ON</td>\n",
              "      <td>Junior Data Scientist/Data Engineer</td>\n",
              "      <td>Acerta Analytics Solutions Inc</td>\n",
              "      <td>70000.000</td>\n",
              "      <td>Assist with data feasibility and similar data ...</td>\n",
              "      <td>0</td>\n",
              "      <td>Kitchener, ON</td>\n",
              "      <td>ON</td>\n",
              "    </tr>\n",
              "    <tr>\n",
              "      <th>3</th>\n",
              "      <td>Toronto, ON</td>\n",
              "      <td>Data Scientist / Machine Learning Engineer</td>\n",
              "      <td>Leadbright Inc.</td>\n",
              "      <td>67500.000</td>\n",
              "      <td>Create and visualize data using our charting t...</td>\n",
              "      <td>0</td>\n",
              "      <td>Toronto, ON</td>\n",
              "      <td>ON</td>\n",
              "    </tr>\n",
              "    <tr>\n",
              "      <th>4</th>\n",
              "      <td>Toronto, ON</td>\n",
              "      <td>Data Scientist/Analyst 120</td>\n",
              "      <td>Foilcon</td>\n",
              "      <td>192000.000</td>\n",
              "      <td>Strong business and data analysis skills.Exper...</td>\n",
              "      <td>1</td>\n",
              "      <td>Toronto, ON</td>\n",
              "      <td>ON</td>\n",
              "    </tr>\n",
              "    <tr>\n",
              "      <th>...</th>\n",
              "      <td>...</td>\n",
              "      <td>...</td>\n",
              "      <td>...</td>\n",
              "      <td>...</td>\n",
              "      <td>...</td>\n",
              "      <td>...</td>\n",
              "      <td>...</td>\n",
              "      <td>...</td>\n",
              "    </tr>\n",
              "    <tr>\n",
              "      <th>88</th>\n",
              "      <td>Missouri City, MO</td>\n",
              "      <td>Jr. Data Scientist</td>\n",
              "      <td>Dash Technologies Inc</td>\n",
              "      <td>114953.415</td>\n",
              "      <td>Work with developers to design algorithms and ...</td>\n",
              "      <td>0</td>\n",
              "      <td>Missouri City, MO</td>\n",
              "      <td>MO</td>\n",
              "    </tr>\n",
              "    <tr>\n",
              "      <th>89</th>\n",
              "      <td>Columbus, OH</td>\n",
              "      <td>Machine Learning Architect</td>\n",
              "      <td>Digital Dhara</td>\n",
              "      <td>289560.000</td>\n",
              "      <td>The ML Ops Architect will work with data scien...</td>\n",
              "      <td>1</td>\n",
              "      <td>Columbus, OH</td>\n",
              "      <td>OH</td>\n",
              "    </tr>\n",
              "    <tr>\n",
              "      <th>90</th>\n",
              "      <td>Portland, OR 97202 (Hosford-Abernethy area)</td>\n",
              "      <td>Data Analyst/Data Scientist</td>\n",
              "      <td>Cascade Data Labs</td>\n",
              "      <td>117475.000</td>\n",
              "      <td>Analyze a collection of raw data sets to creat...</td>\n",
              "      <td>0</td>\n",
              "      <td>Portland, OR</td>\n",
              "      <td>OR</td>\n",
              "    </tr>\n",
              "    <tr>\n",
              "      <th>91</th>\n",
              "      <td>Portland, OR 97202 (Hosford-Abernethy area)</td>\n",
              "      <td>Data Analyst/Data Scientist</td>\n",
              "      <td>Cascade Data Labs</td>\n",
              "      <td>117475.000</td>\n",
              "      <td>Cascade Data Labs is a boutique consulting age...</td>\n",
              "      <td>0</td>\n",
              "      <td>Portland, OR</td>\n",
              "      <td>OR</td>\n",
              "    </tr>\n",
              "    <tr>\n",
              "      <th>92</th>\n",
              "      <td>Boulder, CO 80301</td>\n",
              "      <td>Data Science &amp; Business Intelligence Lead</td>\n",
              "      <td>City of Boulder, CO</td>\n",
              "      <td>149225.000</td>\n",
              "      <td>This position will be responsible for leading ...</td>\n",
              "      <td>1</td>\n",
              "      <td>Boulder, CO</td>\n",
              "      <td>CO</td>\n",
              "    </tr>\n",
              "  </tbody>\n",
              "</table>\n",
              "<p>93 rows × 8 columns</p>\n",
              "</div>"
            ],
            "text/plain": [
              "                                       location  ... state\n",
              "0                                  Hamilton, ON  ...    ON\n",
              "1                                   Burnaby, BC  ...    BC\n",
              "2                                 Kitchener, ON  ...    ON\n",
              "3                                   Toronto, ON  ...    ON\n",
              "4                                   Toronto, ON  ...    ON\n",
              "..                                          ...  ...   ...\n",
              "88                            Missouri City, MO  ...    MO\n",
              "89                                 Columbus, OH  ...    OH\n",
              "90  Portland, OR 97202 (Hosford-Abernethy area)  ...    OR\n",
              "91  Portland, OR 97202 (Hosford-Abernethy area)  ...    OR\n",
              "92                            Boulder, CO 80301  ...    CO\n",
              "\n",
              "[93 rows x 8 columns]"
            ]
          },
          "metadata": {
            "tags": []
          },
          "execution_count": 57
        }
      ]
    },
    {
      "cell_type": "code",
      "metadata": {
        "ExecuteTime": {
          "end_time": "2020-12-01T18:18:51.689674Z",
          "start_time": "2020-12-01T18:18:51.685063Z"
        },
        "id": "tkn0ty0g-YIO",
        "colab": {
          "base_uri": "https://localhost:8080/"
        },
        "outputId": "12d5d90b-3f1d-47eb-d835-e0bed72b3fe7"
      },
      "source": [
        "ds_salaries.city.nunique()"
      ],
      "execution_count": null,
      "outputs": [
        {
          "output_type": "execute_result",
          "data": {
            "text/plain": [
              "53"
            ]
          },
          "metadata": {
            "tags": []
          },
          "execution_count": 58
        }
      ]
    },
    {
      "cell_type": "code",
      "metadata": {
        "ExecuteTime": {
          "end_time": "2020-12-01T18:19:00.597495Z",
          "start_time": "2020-12-01T18:19:00.585773Z"
        },
        "scrolled": false,
        "id": "WURrs8uJ-YIO",
        "colab": {
          "base_uri": "https://localhost:8080/"
        },
        "outputId": "1f7e9f04-f622-488a-bebd-da09f3f5091f"
      },
      "source": [
        "ds_salaries.city.value_counts()"
      ],
      "execution_count": null,
      "outputs": [
        {
          "output_type": "execute_result",
          "data": {
            "text/plain": [
              "New York, NY            8\n",
              "Washington, DC          6\n",
              "Toronto, ON             6\n",
              "Arlington, VA           4\n",
              "Long Island City, NY    4\n",
              "Montréal, QC            3\n",
              "Calgary, AB             3\n",
              "San Francisco, CA       3\n",
              "Herndon, VA             3\n",
              "Dallas, TX              2\n",
              "Portland, OR            2\n",
              "Cambridge, MA           2\n",
              "Ottawa, ON              2\n",
              "Vancouver, BC           2\n",
              "Los Angeles, CA         2\n",
              "Irving, TX              2\n",
              "Rockville, MD           2\n",
              "Houston, TX             2\n",
              "Torrance, CA            1\n",
              "Bethesda, MD            1\n",
              "Pittsburgh, PA          1\n",
              "Hamilton, ON            1\n",
              "Pleasanton, CA          1\n",
              "Burnaby, BC             1\n",
              "Kitchener, ON           1\n",
              "Fort Lauderdale, FL     1\n",
              "Bellevue, WA            1\n",
              "Foster City, CA         1\n",
              "North York, ON          1\n",
              "Gaithersburg, MD        1\n",
              "Brooklyn, NY            1\n",
              "Richardson, TX          1\n",
              "Alexandria, VA          1\n",
              "West Menlo Park, CA     1\n",
              "San Ramon, CA           1\n",
              "Miami, FL               1\n",
              "Santa Clara, CA         1\n",
              "Alpharetta, GA          1\n",
              "Nashville, TN           1\n",
              "Northbrook, IL          1\n",
              "Mississauga, ON         1\n",
              "Norwood, MA             1\n",
              "Atlanta, GA             1\n",
              "Redwood City, CA        1\n",
              "Boston, MA              1\n",
              "Columbus, OH            1\n",
              "Mountain View, CA       1\n",
              "Peabody, MA             1\n",
              "Missouri City, MO       1\n",
              "Laurel, MD              1\n",
              "San Jose, CA            1\n",
              "Walnut Creek, CA        1\n",
              "Boulder, CO             1\n",
              "Name: city, dtype: int64"
            ]
          },
          "metadata": {
            "tags": []
          },
          "execution_count": 59
        }
      ]
    },
    {
      "cell_type": "code",
      "metadata": {
        "ExecuteTime": {
          "end_time": "2020-12-01T18:19:26.869356Z",
          "start_time": "2020-12-01T18:19:26.865872Z"
        },
        "id": "JacfZPrG-YIP"
      },
      "source": [
        "city_dummies = pd.get_dummies(ds_salaries.city)\n",
        "\n",
        "X_city = city_dummies\n",
        "y_city = ds_salaries.high_salary"
      ],
      "execution_count": null,
      "outputs": []
    },
    {
      "cell_type": "code",
      "metadata": {
        "ExecuteTime": {
          "end_time": "2020-12-01T18:19:26.878710Z",
          "start_time": "2020-12-01T18:19:26.871230Z"
        },
        "id": "eUhwTlxL-YIP"
      },
      "source": [
        "X_train, X_test, y_train, y_test = train_test_split(X_city, y_city, test_size=0.33, random_state=90)"
      ],
      "execution_count": null,
      "outputs": []
    },
    {
      "cell_type": "code",
      "metadata": {
        "ExecuteTime": {
          "end_time": "2020-12-01T18:19:31.080589Z",
          "start_time": "2020-12-01T18:19:26.880526Z"
        },
        "id": "S942p1og-YIP",
        "colab": {
          "base_uri": "https://localhost:8080/"
        },
        "outputId": "6995d44b-1519-4d0b-91cb-f5fb278db7cb"
      },
      "source": [
        "rfc = RandomForestClassifier(n_estimators=500, random_state=90)\n",
        "rfc.fit(X_train, y_train)\n",
        "\n",
        "rfc_pred = rfc.predict(X_test)\n",
        "acc = accuracy_score(y_test, rfc_pred)\n",
        "print (\"Accuracy Score:\", acc.round(4))\n",
        "print(rfc_pred)\n",
        "\n",
        "s = cross_val_score(rfc, X_city, y_city, cv=3, n_jobs=-1)\n",
        "print (\"Cross Validation Score:\\t{:0.3} ± {:0.3}\".format(s.mean().round(3), s.std().round(3)))"
      ],
      "execution_count": null,
      "outputs": [
        {
          "output_type": "stream",
          "text": [
            "Accuracy Score: 0.7097\n",
            "[0 0 0 0 0 0 0 0 0 1 0 0 1 0 0 0 1 0 0 0 0 0 1 1 0 0 0 0 0 0 0]\n",
            "Cross Validation Score:\t0.505 ± 0.08\n"
          ],
          "name": "stdout"
        }
      ]
    },
    {
      "cell_type": "code",
      "metadata": {
        "ExecuteTime": {
          "end_time": "2020-12-01T18:19:31.127919Z",
          "start_time": "2020-12-01T18:19:31.084930Z"
        },
        "id": "h5D7xTaw-YIP",
        "colab": {
          "base_uri": "https://localhost:8080/",
          "height": 514
        },
        "outputId": "2f8e0042-e032-4404-a97b-5324c546195e"
      },
      "source": [
        "feature_importances = pd.DataFrame(rfc.feature_importances_,\n",
        "                                   index = X_city.columns).reset_index()\n",
        "feature_importances.columns = ['feature', 'importance']\n",
        "\n",
        "feature_medians = []\n",
        "for i in X_city.columns:\n",
        "    feature_medians.append(np.median(ds_salaries[ds_salaries.city == i].salary))\n",
        "\n",
        "feature_importances['median_salary'] = feature_medians\n",
        "feature_importances['over_or_under'] = [1 if i > ds_median_salary else 0 for i in feature_importances.median_salary]\n",
        "\n",
        "feature_importances.sort_values('importance', ascending=False).head(15)"
      ],
      "execution_count": null,
      "outputs": [
        {
          "output_type": "execute_result",
          "data": {
            "text/html": [
              "<div>\n",
              "<style scoped>\n",
              "    .dataframe tbody tr th:only-of-type {\n",
              "        vertical-align: middle;\n",
              "    }\n",
              "\n",
              "    .dataframe tbody tr th {\n",
              "        vertical-align: top;\n",
              "    }\n",
              "\n",
              "    .dataframe thead th {\n",
              "        text-align: right;\n",
              "    }\n",
              "</style>\n",
              "<table border=\"1\" class=\"dataframe\">\n",
              "  <thead>\n",
              "    <tr style=\"text-align: right;\">\n",
              "      <th></th>\n",
              "      <th>feature</th>\n",
              "      <th>importance</th>\n",
              "      <th>median_salary</th>\n",
              "      <th>over_or_under</th>\n",
              "    </tr>\n",
              "  </thead>\n",
              "  <tbody>\n",
              "    <tr>\n",
              "      <th>31</th>\n",
              "      <td>New York, NY</td>\n",
              "      <td>0.114977</td>\n",
              "      <td>165100.0000</td>\n",
              "      <td>1</td>\n",
              "    </tr>\n",
              "    <tr>\n",
              "      <th>51</th>\n",
              "      <td>Washington, DC</td>\n",
              "      <td>0.070424</td>\n",
              "      <td>152400.0000</td>\n",
              "      <td>1</td>\n",
              "    </tr>\n",
              "    <tr>\n",
              "      <th>28</th>\n",
              "      <td>Montréal, QC</td>\n",
              "      <td>0.057847</td>\n",
              "      <td>91244.0000</td>\n",
              "      <td>0</td>\n",
              "    </tr>\n",
              "    <tr>\n",
              "      <th>43</th>\n",
              "      <td>San Francisco, CA</td>\n",
              "      <td>0.054163</td>\n",
              "      <td>185928.0000</td>\n",
              "      <td>1</td>\n",
              "    </tr>\n",
              "    <tr>\n",
              "      <th>39</th>\n",
              "      <td>Portland, OR</td>\n",
              "      <td>0.041505</td>\n",
              "      <td>117475.0000</td>\n",
              "      <td>0</td>\n",
              "    </tr>\n",
              "    <tr>\n",
              "      <th>35</th>\n",
              "      <td>Ottawa, ON</td>\n",
              "      <td>0.040172</td>\n",
              "      <td>88692.2500</td>\n",
              "      <td>0</td>\n",
              "    </tr>\n",
              "    <tr>\n",
              "      <th>2</th>\n",
              "      <td>Arlington, VA</td>\n",
              "      <td>0.026141</td>\n",
              "      <td>117475.0000</td>\n",
              "      <td>0</td>\n",
              "    </tr>\n",
              "    <tr>\n",
              "      <th>47</th>\n",
              "      <td>Toronto, ON</td>\n",
              "      <td>0.025741</td>\n",
              "      <td>100000.0000</td>\n",
              "      <td>0</td>\n",
              "    </tr>\n",
              "    <tr>\n",
              "      <th>23</th>\n",
              "      <td>Long Island City, NY</td>\n",
              "      <td>0.024653</td>\n",
              "      <td>122020.0125</td>\n",
              "      <td>0</td>\n",
              "    </tr>\n",
              "    <tr>\n",
              "      <th>14</th>\n",
              "      <td>Fort Lauderdale, FL</td>\n",
              "      <td>0.022417</td>\n",
              "      <td>88900.0000</td>\n",
              "      <td>0</td>\n",
              "    </tr>\n",
              "    <tr>\n",
              "      <th>1</th>\n",
              "      <td>Alpharetta, GA</td>\n",
              "      <td>0.020386</td>\n",
              "      <td>161925.0000</td>\n",
              "      <td>1</td>\n",
              "    </tr>\n",
              "    <tr>\n",
              "      <th>37</th>\n",
              "      <td>Pittsburgh, PA</td>\n",
              "      <td>0.020271</td>\n",
              "      <td>127000.0000</td>\n",
              "      <td>0</td>\n",
              "    </tr>\n",
              "    <tr>\n",
              "      <th>11</th>\n",
              "      <td>Cambridge, MA</td>\n",
              "      <td>0.020249</td>\n",
              "      <td>178562.0000</td>\n",
              "      <td>1</td>\n",
              "    </tr>\n",
              "    <tr>\n",
              "      <th>20</th>\n",
              "      <td>Irving, TX</td>\n",
              "      <td>0.020045</td>\n",
              "      <td>138684.0000</td>\n",
              "      <td>1</td>\n",
              "    </tr>\n",
              "    <tr>\n",
              "      <th>18</th>\n",
              "      <td>Herndon, VA</td>\n",
              "      <td>0.019996</td>\n",
              "      <td>88900.0000</td>\n",
              "      <td>0</td>\n",
              "    </tr>\n",
              "  </tbody>\n",
              "</table>\n",
              "</div>"
            ],
            "text/plain": [
              "                 feature  importance  median_salary  over_or_under\n",
              "31          New York, NY    0.114977    165100.0000              1\n",
              "51        Washington, DC    0.070424    152400.0000              1\n",
              "28          Montréal, QC    0.057847     91244.0000              0\n",
              "43     San Francisco, CA    0.054163    185928.0000              1\n",
              "39          Portland, OR    0.041505    117475.0000              0\n",
              "35            Ottawa, ON    0.040172     88692.2500              0\n",
              "2          Arlington, VA    0.026141    117475.0000              0\n",
              "47           Toronto, ON    0.025741    100000.0000              0\n",
              "23  Long Island City, NY    0.024653    122020.0125              0\n",
              "14   Fort Lauderdale, FL    0.022417     88900.0000              0\n",
              "1         Alpharetta, GA    0.020386    161925.0000              1\n",
              "37        Pittsburgh, PA    0.020271    127000.0000              0\n",
              "11         Cambridge, MA    0.020249    178562.0000              1\n",
              "20            Irving, TX    0.020045    138684.0000              1\n",
              "18           Herndon, VA    0.019996     88900.0000              0"
            ]
          },
          "metadata": {
            "tags": []
          },
          "execution_count": 72
        }
      ]
    },
    {
      "cell_type": "markdown",
      "metadata": {
        "id": "A1zMxvlV-YIP"
      },
      "source": [
        "#### Only summary"
      ]
    },
    {
      "cell_type": "code",
      "metadata": {
        "ExecuteTime": {
          "end_time": "2020-12-01T18:19:31.143786Z",
          "start_time": "2020-12-01T18:19:31.139374Z"
        },
        "focus": false,
        "id": "4239e458-28bd-4675-8db3-c1d9c02b9854"
      },
      "source": [
        "ds_salaries_w_desc = ds_salaries[ds_salaries.summary.notnull()]\n",
        "\n",
        "X_summ = ds_salaries_w_desc.summary\n",
        "y_summ = ds_salaries_w_desc.high_salary"
      ],
      "execution_count": null,
      "outputs": []
    },
    {
      "cell_type": "code",
      "metadata": {
        "ExecuteTime": {
          "end_time": "2020-12-01T18:19:31.159326Z",
          "start_time": "2020-12-01T18:19:31.147873Z"
        },
        "focus": false,
        "id": "fec80936-37bc-4922-89bd-b5d615566c9c",
        "colab": {
          "base_uri": "https://localhost:8080/"
        },
        "outputId": "a646152e-9563-45e1-cf56-5a3ffdd39557"
      },
      "source": [
        "cv = CountVectorizer(stop_words=\"english\")\n",
        "cv.fit(X_summ)"
      ],
      "execution_count": null,
      "outputs": [
        {
          "output_type": "execute_result",
          "data": {
            "text/plain": [
              "CountVectorizer(analyzer='word', binary=False, decode_error='strict',\n",
              "                dtype=<class 'numpy.int64'>, encoding='utf-8', input='content',\n",
              "                lowercase=True, max_df=1.0, max_features=None, min_df=1,\n",
              "                ngram_range=(1, 1), preprocessor=None, stop_words='english',\n",
              "                strip_accents=None, token_pattern='(?u)\\\\b\\\\w\\\\w+\\\\b',\n",
              "                tokenizer=None, vocabulary=None)"
            ]
          },
          "metadata": {
            "tags": []
          },
          "execution_count": 74
        }
      ]
    },
    {
      "cell_type": "code",
      "metadata": {
        "ExecuteTime": {
          "end_time": "2020-12-01T18:19:31.166014Z",
          "start_time": "2020-12-01T18:19:31.161521Z"
        },
        "id": "HxxpCsBa-YIP",
        "colab": {
          "base_uri": "https://localhost:8080/"
        },
        "outputId": "77dc48fc-1f4c-476e-ec90-83ee5cdac887"
      },
      "source": [
        "len(cv.get_feature_names())"
      ],
      "execution_count": null,
      "outputs": [
        {
          "output_type": "execute_result",
          "data": {
            "text/plain": [
              "653"
            ]
          },
          "metadata": {
            "tags": []
          },
          "execution_count": 75
        }
      ]
    },
    {
      "cell_type": "code",
      "metadata": {
        "ExecuteTime": {
          "end_time": "2020-12-01T18:19:31.188933Z",
          "start_time": "2020-12-01T18:19:31.168361Z"
        },
        "id": "fKagqPSF-YIP"
      },
      "source": [
        "X_summ_trans = pd.DataFrame(cv.transform(X_summ).todense(), columns=cv.get_feature_names())"
      ],
      "execution_count": null,
      "outputs": []
    },
    {
      "cell_type": "code",
      "metadata": {
        "ExecuteTime": {
          "end_time": "2020-12-01T18:19:31.204117Z",
          "start_time": "2020-12-01T18:19:26.905Z"
        },
        "id": "zBKhJgA7-YIP"
      },
      "source": [
        "X_train, X_test, y_train, y_test = train_test_split(np.asmatrix(X_summ_trans), y_summ, test_size=0.33,\n",
        "                                                    random_state=59, stratify=y_summ)"
      ],
      "execution_count": null,
      "outputs": []
    },
    {
      "cell_type": "code",
      "metadata": {
        "ExecuteTime": {
          "end_time": "2020-12-01T18:19:31.206217Z",
          "start_time": "2020-12-01T18:19:26.906Z"
        },
        "id": "h18gnBJs-YIP",
        "colab": {
          "base_uri": "https://localhost:8080/"
        },
        "outputId": "f0db7a61-c383-4aca-d863-78058dc5c2f9"
      },
      "source": [
        "word_counts = X_summ_trans.sum(axis=0)\n",
        "word_counts.sort_values(ascending = False).head(20)"
      ],
      "execution_count": null,
      "outputs": [
        {
          "output_type": "execute_result",
          "data": {
            "text/plain": [
              "data           129\n",
              "learning        34\n",
              "experience      29\n",
              "machine         26\n",
              "analytics       20\n",
              "years           19\n",
              "science         13\n",
              "including       10\n",
              "development      9\n",
              "ai               9\n",
              "work             9\n",
              "team             9\n",
              "using            9\n",
              "techniques       8\n",
              "based            8\n",
              "scientists       8\n",
              "engineers        8\n",
              "tools            7\n",
              "developing       7\n",
              "models           7\n",
              "dtype: int64"
            ]
          },
          "metadata": {
            "tags": []
          },
          "execution_count": 78
        }
      ]
    },
    {
      "cell_type": "code",
      "metadata": {
        "ExecuteTime": {
          "end_time": "2020-12-01T18:19:31.208888Z",
          "start_time": "2020-12-01T18:19:26.908Z"
        },
        "id": "r609N_uJ-YIP"
      },
      "source": [
        "word_counts.to_csv('ds-indeed-words.csv', encoding='utf-8')"
      ],
      "execution_count": null,
      "outputs": []
    },
    {
      "cell_type": "code",
      "metadata": {
        "ExecuteTime": {
          "end_time": "2020-12-01T18:19:31.210831Z",
          "start_time": "2020-12-01T18:19:26.910Z"
        },
        "id": "X0b95AgO-YIP",
        "colab": {
          "base_uri": "https://localhost:8080/"
        },
        "outputId": "71f7b8a8-b966-4e46-fed2-8a88e5205721"
      },
      "source": [
        "rfc = RandomForestClassifier(500, random_state=59)\n",
        "rfc.fit(X_train, y_train)\n",
        "\n",
        "rfc_pred = rfc.predict(X_test)\n",
        "acc = accuracy_score(y_test, rfc_pred)\n",
        "print(\"Accuracy Score:\", acc.round(3))\n",
        "\n",
        "s = cross_val_score(rfc, X_summ_trans.values, y_summ.values, cv=10, n_jobs=-1)\n",
        "print(\"Cross Validation Score: {:0.3} ± {:0.3}\".format(s.mean().round(3), s.std().round(3)))"
      ],
      "execution_count": null,
      "outputs": [
        {
          "output_type": "stream",
          "text": [
            "Accuracy Score: 0.452\n",
            "Cross Validation Score: 0.418 ± 0.142\n"
          ],
          "name": "stdout"
        }
      ]
    },
    {
      "cell_type": "code",
      "metadata": {
        "ExecuteTime": {
          "end_time": "2020-12-01T18:19:31.212713Z",
          "start_time": "2020-12-01T18:19:26.911Z"
        },
        "id": "wPh7r9kr-YIP",
        "colab": {
          "base_uri": "https://localhost:8080/",
          "height": 669
        },
        "outputId": "4e89ea2f-488a-42b2-8144-f90f502c5c30"
      },
      "source": [
        "feature_importances = pd.DataFrame(rfc.feature_importances_,\n",
        "                                   index = X_summ_trans.columns).reset_index()\n",
        "feature_importances.columns = ['feature', 'importance']\n",
        "\n",
        "feature_medians = []\n",
        "feature_means = []\n",
        "for i in X_summ_trans.columns:\n",
        "    feature_medians.append(np.median(ds_salaries_w_desc[ds_salaries_w_desc.summary.str.lower().str.contains(i)].salary))\n",
        "    feature_means.append(round(np.mean(ds_salaries_w_desc[ds_salaries_w_desc.summary.str.lower().str.contains(i)].salary),2))\n",
        "\n",
        "\n",
        "feature_importances['median_salary'] = feature_medians\n",
        "feature_importances['mean_salary'] = feature_means\n",
        "feature_importances['over_or_under'] = [1 if i > ds_median_salary else 0 for i in feature_importances.median_salary]\n",
        "\n",
        "feature_importances.sort_values('importance', ascending=False).head(20)"
      ],
      "execution_count": null,
      "outputs": [
        {
          "output_type": "execute_result",
          "data": {
            "text/html": [
              "<div>\n",
              "<style scoped>\n",
              "    .dataframe tbody tr th:only-of-type {\n",
              "        vertical-align: middle;\n",
              "    }\n",
              "\n",
              "    .dataframe tbody tr th {\n",
              "        vertical-align: top;\n",
              "    }\n",
              "\n",
              "    .dataframe thead th {\n",
              "        text-align: right;\n",
              "    }\n",
              "</style>\n",
              "<table border=\"1\" class=\"dataframe\">\n",
              "  <thead>\n",
              "    <tr style=\"text-align: right;\">\n",
              "      <th></th>\n",
              "      <th>feature</th>\n",
              "      <th>importance</th>\n",
              "      <th>median_salary</th>\n",
              "      <th>mean_salary</th>\n",
              "      <th>over_or_under</th>\n",
              "    </tr>\n",
              "  </thead>\n",
              "  <tbody>\n",
              "    <tr>\n",
              "      <th>234</th>\n",
              "      <td>experience</td>\n",
              "      <td>0.020049</td>\n",
              "      <td>144462.5000</td>\n",
              "      <td>138592.36</td>\n",
              "      <td>1</td>\n",
              "    </tr>\n",
              "    <tr>\n",
              "      <th>164</th>\n",
              "      <td>data</td>\n",
              "      <td>0.012883</td>\n",
              "      <td>122243.8500</td>\n",
              "      <td>133559.93</td>\n",
              "      <td>0</td>\n",
              "    </tr>\n",
              "    <tr>\n",
              "      <th>193</th>\n",
              "      <td>developing</td>\n",
              "      <td>0.010631</td>\n",
              "      <td>95250.0000</td>\n",
              "      <td>125016.43</td>\n",
              "      <td>0</td>\n",
              "    </tr>\n",
              "    <tr>\n",
              "      <th>356</th>\n",
              "      <td>learning</td>\n",
              "      <td>0.009636</td>\n",
              "      <td>136525.0000</td>\n",
              "      <td>143178.68</td>\n",
              "      <td>1</td>\n",
              "    </tr>\n",
              "    <tr>\n",
              "      <th>399</th>\n",
              "      <td>models</td>\n",
              "      <td>0.009585</td>\n",
              "      <td>159385.0000</td>\n",
              "      <td>169564.05</td>\n",
              "      <td>1</td>\n",
              "    </tr>\n",
              "    <tr>\n",
              "      <th>595</th>\n",
              "      <td>technical</td>\n",
              "      <td>0.009119</td>\n",
              "      <td>147637.5000</td>\n",
              "      <td>155225.75</td>\n",
              "      <td>1</td>\n",
              "    </tr>\n",
              "    <tr>\n",
              "      <th>75</th>\n",
              "      <td>based</td>\n",
              "      <td>0.008890</td>\n",
              "      <td>144462.5000</td>\n",
              "      <td>136893.49</td>\n",
              "      <td>1</td>\n",
              "    </tr>\n",
              "    <tr>\n",
              "      <th>652</th>\n",
              "      <td>years</td>\n",
              "      <td>0.008662</td>\n",
              "      <td>135500.0000</td>\n",
              "      <td>132875.00</td>\n",
              "      <td>1</td>\n",
              "    </tr>\n",
              "    <tr>\n",
              "      <th>593</th>\n",
              "      <td>team</td>\n",
              "      <td>0.008344</td>\n",
              "      <td>109543.8500</td>\n",
              "      <td>124280.75</td>\n",
              "      <td>0</td>\n",
              "    </tr>\n",
              "    <tr>\n",
              "      <th>624</th>\n",
              "      <td>understanding</td>\n",
              "      <td>0.008311</td>\n",
              "      <td>192024.0000</td>\n",
              "      <td>166354.80</td>\n",
              "      <td>1</td>\n",
              "    </tr>\n",
              "    <tr>\n",
              "      <th>569</th>\n",
              "      <td>statistics</td>\n",
              "      <td>0.008279</td>\n",
              "      <td>152400.0000</td>\n",
              "      <td>140931.01</td>\n",
              "      <td>1</td>\n",
              "    </tr>\n",
              "    <tr>\n",
              "      <th>449</th>\n",
              "      <td>position</td>\n",
              "      <td>0.008175</td>\n",
              "      <td>138972.6075</td>\n",
              "      <td>138972.61</td>\n",
              "      <td>1</td>\n",
              "    </tr>\n",
              "    <tr>\n",
              "      <th>502</th>\n",
              "      <td>required</td>\n",
              "      <td>0.008049</td>\n",
              "      <td>91244.0000</td>\n",
              "      <td>90039.40</td>\n",
              "      <td>0</td>\n",
              "    </tr>\n",
              "    <tr>\n",
              "      <th>610</th>\n",
              "      <td>tools</td>\n",
              "      <td>0.007612</td>\n",
              "      <td>130175.0000</td>\n",
              "      <td>139939.85</td>\n",
              "      <td>1</td>\n",
              "    </tr>\n",
              "    <tr>\n",
              "      <th>194</th>\n",
              "      <td>development</td>\n",
              "      <td>0.007593</td>\n",
              "      <td>159385.0000</td>\n",
              "      <td>148686.89</td>\n",
              "      <td>1</td>\n",
              "    </tr>\n",
              "    <tr>\n",
              "      <th>73</th>\n",
              "      <td>background</td>\n",
              "      <td>0.007445</td>\n",
              "      <td>154296.0000</td>\n",
              "      <td>154296.00</td>\n",
              "      <td>1</td>\n",
              "    </tr>\n",
              "    <tr>\n",
              "      <th>254</th>\n",
              "      <td>focused</td>\n",
              "      <td>0.007244</td>\n",
              "      <td>177800.0000</td>\n",
              "      <td>177800.00</td>\n",
              "      <td>1</td>\n",
              "    </tr>\n",
              "    <tr>\n",
              "      <th>469</th>\n",
              "      <td>products</td>\n",
              "      <td>0.007241</td>\n",
              "      <td>88900.0000</td>\n",
              "      <td>89767.50</td>\n",
              "      <td>0</td>\n",
              "    </tr>\n",
              "    <tr>\n",
              "      <th>33</th>\n",
              "      <td>algorithms</td>\n",
              "      <td>0.007051</td>\n",
              "      <td>120182.9575</td>\n",
              "      <td>127438.40</td>\n",
              "      <td>0</td>\n",
              "    </tr>\n",
              "    <tr>\n",
              "      <th>596</th>\n",
              "      <td>techniques</td>\n",
              "      <td>0.006819</td>\n",
              "      <td>142875.0000</td>\n",
              "      <td>135777.50</td>\n",
              "      <td>1</td>\n",
              "    </tr>\n",
              "  </tbody>\n",
              "</table>\n",
              "</div>"
            ],
            "text/plain": [
              "           feature  importance  median_salary  mean_salary  over_or_under\n",
              "234     experience    0.020049    144462.5000    138592.36              1\n",
              "164           data    0.012883    122243.8500    133559.93              0\n",
              "193     developing    0.010631     95250.0000    125016.43              0\n",
              "356       learning    0.009636    136525.0000    143178.68              1\n",
              "399         models    0.009585    159385.0000    169564.05              1\n",
              "595      technical    0.009119    147637.5000    155225.75              1\n",
              "75           based    0.008890    144462.5000    136893.49              1\n",
              "652          years    0.008662    135500.0000    132875.00              1\n",
              "593           team    0.008344    109543.8500    124280.75              0\n",
              "624  understanding    0.008311    192024.0000    166354.80              1\n",
              "569     statistics    0.008279    152400.0000    140931.01              1\n",
              "449       position    0.008175    138972.6075    138972.61              1\n",
              "502       required    0.008049     91244.0000     90039.40              0\n",
              "610          tools    0.007612    130175.0000    139939.85              1\n",
              "194    development    0.007593    159385.0000    148686.89              1\n",
              "73      background    0.007445    154296.0000    154296.00              1\n",
              "254        focused    0.007244    177800.0000    177800.00              1\n",
              "469       products    0.007241     88900.0000     89767.50              0\n",
              "33      algorithms    0.007051    120182.9575    127438.40              0\n",
              "596     techniques    0.006819    142875.0000    135777.50              1"
            ]
          },
          "metadata": {
            "tags": []
          },
          "execution_count": 83
        }
      ]
    },
    {
      "cell_type": "markdown",
      "metadata": {
        "collapsed": true,
        "id": "B5io0Kmf-YIP"
      },
      "source": [
        "#### Only title"
      ]
    },
    {
      "cell_type": "code",
      "metadata": {
        "ExecuteTime": {
          "end_time": "2020-12-01T18:19:31.215585Z",
          "start_time": "2020-12-01T18:19:26.929Z"
        },
        "id": "hxzQHeLJ-YIP"
      },
      "source": [
        "ds_salaries_w_desc = ds_salaries[ds_salaries.summary.notnull()]\n",
        "\n",
        "X_title = ds_salaries_w_desc.title\n",
        "y_title = ds_salaries_w_desc.high_salary"
      ],
      "execution_count": null,
      "outputs": []
    },
    {
      "cell_type": "code",
      "metadata": {
        "ExecuteTime": {
          "end_time": "2020-12-01T18:19:31.218146Z",
          "start_time": "2020-12-01T18:19:26.931Z"
        },
        "id": "bfxOD8b3-YIP",
        "colab": {
          "base_uri": "https://localhost:8080/"
        },
        "outputId": "bef890b3-4b4f-49ce-e834-97c9d22e5779"
      },
      "source": [
        "cv = CountVectorizer(stop_words=\"english\")\n",
        "cv.fit(X_title)"
      ],
      "execution_count": null,
      "outputs": [
        {
          "output_type": "execute_result",
          "data": {
            "text/plain": [
              "CountVectorizer(analyzer='word', binary=False, decode_error='strict',\n",
              "                dtype=<class 'numpy.int64'>, encoding='utf-8', input='content',\n",
              "                lowercase=True, max_df=1.0, max_features=None, min_df=1,\n",
              "                ngram_range=(1, 1), preprocessor=None, stop_words='english',\n",
              "                strip_accents=None, token_pattern='(?u)\\\\b\\\\w\\\\w+\\\\b',\n",
              "                tokenizer=None, vocabulary=None)"
            ]
          },
          "metadata": {
            "tags": []
          },
          "execution_count": 85
        }
      ]
    },
    {
      "cell_type": "code",
      "metadata": {
        "ExecuteTime": {
          "end_time": "2020-12-01T18:19:31.220232Z",
          "start_time": "2020-12-01T18:19:26.933Z"
        },
        "id": "fuKZ34Gr-YIP"
      },
      "source": [
        "X_title_trans = pd.DataFrame(cv.transform(X_title).todense(), columns=cv.get_feature_names())"
      ],
      "execution_count": null,
      "outputs": []
    },
    {
      "cell_type": "code",
      "metadata": {
        "ExecuteTime": {
          "end_time": "2020-12-01T18:19:31.222197Z",
          "start_time": "2020-12-01T18:19:26.934Z"
        },
        "id": "nNRyz8V8-YIP"
      },
      "source": [
        "X_train, X_test, y_train, y_test = train_test_split(X_title_trans, y_title, test_size=0.33, random_state=90)"
      ],
      "execution_count": null,
      "outputs": []
    },
    {
      "cell_type": "code",
      "metadata": {
        "ExecuteTime": {
          "end_time": "2020-12-01T18:19:31.224365Z",
          "start_time": "2020-12-01T18:19:26.936Z"
        },
        "id": "YjUBePun-YIP",
        "colab": {
          "base_uri": "https://localhost:8080/"
        },
        "outputId": "9f5b1246-34f8-4ce2-e84c-c3c4bdaebd8f"
      },
      "source": [
        "rfc = RandomForestClassifier(500, random_state=90)\n",
        "rfc.fit(X_train, y_train)\n",
        "\n",
        "rfc_pred = rfc.predict(X_test)\n",
        "acc = accuracy_score(y_test, rfc_pred)\n",
        "print(\"Accuracy Score:\", acc.round(3))\n",
        "\n",
        "s = cross_val_score(rfc, X_title_trans.values, y_title.values, cv=10, n_jobs=-1)\n",
        "print(\"Cross Validation Score: {:0.3} ± {:0.3}\".format(s.mean().round(3), s.std().round(3)))"
      ],
      "execution_count": null,
      "outputs": [
        {
          "output_type": "stream",
          "text": [
            "Accuracy Score: 0.516\n",
            "Cross Validation Score: 0.407 ± 0.128\n"
          ],
          "name": "stdout"
        }
      ]
    },
    {
      "cell_type": "code",
      "metadata": {
        "ExecuteTime": {
          "end_time": "2020-12-01T18:19:31.226875Z",
          "start_time": "2020-12-01T18:19:26.938Z"
        },
        "id": "UMzOix4e-YIP",
        "colab": {
          "base_uri": "https://localhost:8080/",
          "height": 669
        },
        "outputId": "9a41b6f7-256b-42d1-bd9a-7950ea6959a4"
      },
      "source": [
        "feature_importances = pd.DataFrame(rfc.feature_importances_,\n",
        "                                   index = X_title_trans.columns).reset_index()\n",
        "feature_importances.columns = ['feature', 'importance']\n",
        "\n",
        "feature_medians = []\n",
        "feature_means = []\n",
        "for i in X_title_trans.columns:\n",
        "    feature_medians.append(np.median(ds_salaries_w_desc[ds_salaries_w_desc.title.str.lower().str.contains(i)].salary))\n",
        "    feature_means.append(round(np.mean(ds_salaries_w_desc[ds_salaries_w_desc.title.str.lower().str.contains(i)].salary),2))\n",
        "\n",
        "\n",
        "feature_importances['median_salary'] = feature_medians\n",
        "feature_importances['mean_salary'] = feature_means\n",
        "feature_importances['over_or_under'] = [1 if i > ds_median_salary else 0 for i in feature_importances.median_salary]\n",
        "\n",
        "feature_importances.sort_values('importance', ascending=False).head(20)"
      ],
      "execution_count": null,
      "outputs": [
        {
          "output_type": "execute_result",
          "data": {
            "text/html": [
              "<div>\n",
              "<style scoped>\n",
              "    .dataframe tbody tr th:only-of-type {\n",
              "        vertical-align: middle;\n",
              "    }\n",
              "\n",
              "    .dataframe tbody tr th {\n",
              "        vertical-align: top;\n",
              "    }\n",
              "\n",
              "    .dataframe thead th {\n",
              "        text-align: right;\n",
              "    }\n",
              "</style>\n",
              "<table border=\"1\" class=\"dataframe\">\n",
              "  <thead>\n",
              "    <tr style=\"text-align: right;\">\n",
              "      <th></th>\n",
              "      <th>feature</th>\n",
              "      <th>importance</th>\n",
              "      <th>median_salary</th>\n",
              "      <th>mean_salary</th>\n",
              "      <th>over_or_under</th>\n",
              "    </tr>\n",
              "  </thead>\n",
              "  <tbody>\n",
              "    <tr>\n",
              "      <th>27</th>\n",
              "      <td>data</td>\n",
              "      <td>0.065955</td>\n",
              "      <td>127000.0000</td>\n",
              "      <td>138420.73</td>\n",
              "      <td>0</td>\n",
              "    </tr>\n",
              "    <tr>\n",
              "      <th>81</th>\n",
              "      <td>senior</td>\n",
              "      <td>0.057241</td>\n",
              "      <td>133350.0000</td>\n",
              "      <td>143530.13</td>\n",
              "      <td>1</td>\n",
              "    </tr>\n",
              "    <tr>\n",
              "      <th>45</th>\n",
              "      <td>junior</td>\n",
              "      <td>0.052787</td>\n",
              "      <td>88900.0000</td>\n",
              "      <td>92960.00</td>\n",
              "      <td>0</td>\n",
              "    </tr>\n",
              "    <tr>\n",
              "      <th>16</th>\n",
              "      <td>business</td>\n",
              "      <td>0.045025</td>\n",
              "      <td>88900.0000</td>\n",
              "      <td>98408.33</td>\n",
              "      <td>0</td>\n",
              "    </tr>\n",
              "    <tr>\n",
              "      <th>86</th>\n",
              "      <td>statistician</td>\n",
              "      <td>0.041884</td>\n",
              "      <td>51904.9000</td>\n",
              "      <td>53384.45</td>\n",
              "      <td>0</td>\n",
              "    </tr>\n",
              "    <tr>\n",
              "      <th>37</th>\n",
              "      <td>engineer</td>\n",
              "      <td>0.040703</td>\n",
              "      <td>127006.3500</td>\n",
              "      <td>137713.09</td>\n",
              "      <td>1</td>\n",
              "    </tr>\n",
              "    <tr>\n",
              "      <th>7</th>\n",
              "      <td>analyst</td>\n",
              "      <td>0.039987</td>\n",
              "      <td>123097.6075</td>\n",
              "      <td>135809.78</td>\n",
              "      <td>0</td>\n",
              "    </tr>\n",
              "    <tr>\n",
              "      <th>77</th>\n",
              "      <td>scientist</td>\n",
              "      <td>0.033108</td>\n",
              "      <td>117475.0000</td>\n",
              "      <td>129300.27</td>\n",
              "      <td>0</td>\n",
              "    </tr>\n",
              "    <tr>\n",
              "      <th>10</th>\n",
              "      <td>architect</td>\n",
              "      <td>0.032589</td>\n",
              "      <td>180975.0000</td>\n",
              "      <td>203358.75</td>\n",
              "      <td>1</td>\n",
              "    </tr>\n",
              "    <tr>\n",
              "      <th>5</th>\n",
              "      <td>ai</td>\n",
              "      <td>0.023980</td>\n",
              "      <td>144000.0000</td>\n",
              "      <td>148877.71</td>\n",
              "      <td>1</td>\n",
              "    </tr>\n",
              "    <tr>\n",
              "      <th>84</th>\n",
              "      <td>sr</td>\n",
              "      <td>0.023690</td>\n",
              "      <td>163258.5000</td>\n",
              "      <td>163258.50</td>\n",
              "      <td>1</td>\n",
              "    </tr>\n",
              "    <tr>\n",
              "      <th>51</th>\n",
              "      <td>manager</td>\n",
              "      <td>0.023626</td>\n",
              "      <td>95622.0000</td>\n",
              "      <td>105547.00</td>\n",
              "      <td>0</td>\n",
              "    </tr>\n",
              "    <tr>\n",
              "      <th>8</th>\n",
              "      <td>analytics</td>\n",
              "      <td>0.023550</td>\n",
              "      <td>100000.0000</td>\n",
              "      <td>90935.00</td>\n",
              "      <td>0</td>\n",
              "    </tr>\n",
              "    <tr>\n",
              "      <th>73</th>\n",
              "      <td>reporting</td>\n",
              "      <td>0.019669</td>\n",
              "      <td>115319.8100</td>\n",
              "      <td>114680.01</td>\n",
              "      <td>0</td>\n",
              "    </tr>\n",
              "    <tr>\n",
              "      <th>50</th>\n",
              "      <td>machine</td>\n",
              "      <td>0.019246</td>\n",
              "      <td>114300.0000</td>\n",
              "      <td>132656.54</td>\n",
              "      <td>0</td>\n",
              "    </tr>\n",
              "    <tr>\n",
              "      <th>65</th>\n",
              "      <td>product</td>\n",
              "      <td>0.017872</td>\n",
              "      <td>91244.0000</td>\n",
              "      <td>91244.00</td>\n",
              "      <td>0</td>\n",
              "    </tr>\n",
              "    <tr>\n",
              "      <th>0</th>\n",
              "      <td>120</td>\n",
              "      <td>0.017525</td>\n",
              "      <td>192000.0000</td>\n",
              "      <td>192000.00</td>\n",
              "      <td>1</td>\n",
              "    </tr>\n",
              "    <tr>\n",
              "      <th>48</th>\n",
              "      <td>learning</td>\n",
              "      <td>0.017202</td>\n",
              "      <td>123825.0000</td>\n",
              "      <td>134526.87</td>\n",
              "      <td>0</td>\n",
              "    </tr>\n",
              "    <tr>\n",
              "      <th>97</th>\n",
              "      <td>wireless</td>\n",
              "      <td>0.017099</td>\n",
              "      <td>95000.0000</td>\n",
              "      <td>95000.00</td>\n",
              "      <td>0</td>\n",
              "    </tr>\n",
              "    <tr>\n",
              "      <th>76</th>\n",
              "      <td>science</td>\n",
              "      <td>0.016542</td>\n",
              "      <td>157162.5000</td>\n",
              "      <td>164833.33</td>\n",
              "      <td>1</td>\n",
              "    </tr>\n",
              "  </tbody>\n",
              "</table>\n",
              "</div>"
            ],
            "text/plain": [
              "         feature  importance  median_salary  mean_salary  over_or_under\n",
              "27          data    0.065955    127000.0000    138420.73              0\n",
              "81        senior    0.057241    133350.0000    143530.13              1\n",
              "45        junior    0.052787     88900.0000     92960.00              0\n",
              "16      business    0.045025     88900.0000     98408.33              0\n",
              "86  statistician    0.041884     51904.9000     53384.45              0\n",
              "37      engineer    0.040703    127006.3500    137713.09              1\n",
              "7        analyst    0.039987    123097.6075    135809.78              0\n",
              "77     scientist    0.033108    117475.0000    129300.27              0\n",
              "10     architect    0.032589    180975.0000    203358.75              1\n",
              "5             ai    0.023980    144000.0000    148877.71              1\n",
              "84            sr    0.023690    163258.5000    163258.50              1\n",
              "51       manager    0.023626     95622.0000    105547.00              0\n",
              "8      analytics    0.023550    100000.0000     90935.00              0\n",
              "73     reporting    0.019669    115319.8100    114680.01              0\n",
              "50       machine    0.019246    114300.0000    132656.54              0\n",
              "65       product    0.017872     91244.0000     91244.00              0\n",
              "0            120    0.017525    192000.0000    192000.00              1\n",
              "48      learning    0.017202    123825.0000    134526.87              0\n",
              "97      wireless    0.017099     95000.0000     95000.00              0\n",
              "76       science    0.016542    157162.5000    164833.33              1"
            ]
          },
          "metadata": {
            "tags": []
          },
          "execution_count": 89
        }
      ]
    },
    {
      "cell_type": "markdown",
      "metadata": {
        "id": "DsCak_Wz-YIP"
      },
      "source": [
        "#### Combining Title CV, Summary CV, and Location"
      ]
    },
    {
      "cell_type": "code",
      "metadata": {
        "ExecuteTime": {
          "end_time": "2020-12-01T18:19:31.228493Z",
          "start_time": "2020-12-01T18:19:26.957Z"
        },
        "id": "M01s8IER-YIP"
      },
      "source": [
        "ds_salaries_w_desc = ds_salaries_w_desc[ds_salaries_w_desc.summary.notnull()].reset_index()\n",
        "city_dummies = pd.get_dummies(ds_salaries_w_desc.city)\n",
        "\n",
        "X = pd.concat([city_dummies, X_title_trans, X_summ_trans], axis=1)\n",
        "y = ds_salaries_w_desc.high_salary\n"
      ],
      "execution_count": null,
      "outputs": []
    },
    {
      "cell_type": "code",
      "metadata": {
        "colab": {
          "base_uri": "https://localhost:8080/"
        },
        "id": "Sd1e5T4LfNj6",
        "outputId": "dccef9ba-34f1-4894-b14d-15194761892b"
      },
      "source": [
        "print(X_summ_trans.iloc[0].value_counts())"
      ],
      "execution_count": null,
      "outputs": [
        {
          "output_type": "stream",
          "text": [
            "0    636\n",
            "1     17\n",
            "Name: 0, dtype: int64\n"
          ],
          "name": "stdout"
        }
      ]
    },
    {
      "cell_type": "code",
      "metadata": {
        "ExecuteTime": {
          "end_time": "2020-12-01T18:19:31.229915Z",
          "start_time": "2020-12-01T18:19:26.959Z"
        },
        "id": "bbB3ElHW-YIP",
        "colab": {
          "base_uri": "https://localhost:8080/"
        },
        "outputId": "57975071-ee12-4ef3-b7b2-6474d7be1d5d"
      },
      "source": [
        "print(X.shape)\n",
        "print(y.shape)"
      ],
      "execution_count": null,
      "outputs": [
        {
          "output_type": "stream",
          "text": [
            "(93, 805)\n",
            "(93,)\n"
          ],
          "name": "stdout"
        }
      ]
    },
    {
      "cell_type": "code",
      "metadata": {
        "ExecuteTime": {
          "end_time": "2020-12-01T18:19:31.231512Z",
          "start_time": "2020-12-01T18:19:26.960Z"
        },
        "id": "5R9pK858-YIP"
      },
      "source": [
        "X_train, X_test, y_train, y_test = train_test_split(X.values, y, test_size=0.35, random_state=90, stratify=y)"
      ],
      "execution_count": null,
      "outputs": []
    },
    {
      "cell_type": "code",
      "metadata": {
        "colab": {
          "base_uri": "https://localhost:8080/"
        },
        "id": "icjl_QqjY95r",
        "outputId": "7f4d629b-0202-4871-a901-d82b7903bfb2"
      },
      "source": [
        "model = Ridge(alpha=1.0)\n",
        "model.fit(X_train, y_train)\n",
        "y_estimate = model.predict(X_test)\n",
        "\n",
        "print(\"Residual sum of squares: %.2f\" % np.mean((y_estimate - y_test) ** 2))"
      ],
      "execution_count": null,
      "outputs": [
        {
          "output_type": "stream",
          "text": [
            "Residual sum of squares: 0.30\n"
          ],
          "name": "stdout"
        }
      ]
    },
    {
      "cell_type": "code",
      "metadata": {
        "id": "g48JK3ZvV9VB"
      },
      "source": [
        "# model = linear_model.LinearRegression()\n",
        "# model.fit(X_train, y_train)\n",
        "# print(model.score(X_test, y_test))\n",
        "# # ## test\n",
        "# # predicted = model.predict(X_test)\n",
        "# # print(predicted)\n",
        "# # print(X_test)"
      ],
      "execution_count": null,
      "outputs": []
    },
    {
      "cell_type": "code",
      "metadata": {
        "ExecuteTime": {
          "end_time": "2020-12-01T18:19:31.233073Z",
          "start_time": "2020-12-01T18:19:26.962Z"
        },
        "id": "uuQHlhXK-YIP",
        "colab": {
          "base_uri": "https://localhost:8080/"
        },
        "outputId": "f902619b-c81e-4b0c-9f51-eb180b094371"
      },
      "source": [
        "import warnings\n",
        "warnings.filterwarnings('ignore')\n",
        "\n",
        "rfc = RandomForestClassifier(1000, random_state=90)\n",
        "rfc.fit(X_train, y_train)\n",
        "rfc_pred = rfc.predict(X_test)\n",
        "acc = accuracy_score(y_test, rfc_pred)\n",
        "print(\"Accuracy Score:\", acc.round(3))\n",
        "\n",
        "s = cross_val_score(rfc, X.values, y.values, cv=10, n_jobs=-1)\n",
        "print(\"Cross Validation Score: {:0.3}\".format(s.mean().round(3)))"
      ],
      "execution_count": null,
      "outputs": [
        {
          "output_type": "stream",
          "text": [
            "Accuracy Score: 0.545\n",
            "Cross Validation Score: 0.571\n"
          ],
          "name": "stdout"
        }
      ]
    },
    {
      "cell_type": "code",
      "metadata": {
        "ExecuteTime": {
          "end_time": "2020-12-01T18:19:31.234759Z",
          "start_time": "2020-12-01T18:19:26.964Z"
        },
        "id": "iNOXCIwk-YIP",
        "colab": {
          "base_uri": "https://localhost:8080/",
          "height": 669
        },
        "outputId": "bf7e9c0e-382c-4898-810b-d227f08d6dca"
      },
      "source": [
        "feature_importances = pd.DataFrame(rfc.feature_importances_,\n",
        "                                   index = X.columns).reset_index()\n",
        "feature_importances.columns = ['feature', 'importance']\n",
        "\n",
        "feature_medians = []\n",
        "for i in city_dummies.columns:\n",
        "    feature_medians.append(np.median(ds_salaries[ds_salaries.city == i].salary))\n",
        "for i in X_title_trans.columns:\n",
        "    feature_medians.append(np.median(ds_salaries_w_desc[ds_salaries_w_desc.title.str.lower().str.contains(i)].salary))\n",
        "for i in X_summ_trans.columns:\n",
        "    feature_medians.append(np.median(ds_salaries_w_desc[ds_salaries_w_desc.summary.str.lower().str.contains(i)].salary))\n",
        "\n",
        "feature_importances['median_salary'] = feature_medians\n",
        "feature_importances['over_or_under'] = [1 if i > ds_median_salary else 0 for i in feature_importances.median_salary]\n",
        "\n",
        "feature_importances.sort_values('importance', ascending=False).head(20)"
      ],
      "execution_count": null,
      "outputs": [
        {
          "output_type": "execute_result",
          "data": {
            "text/html": [
              "<div>\n",
              "<style scoped>\n",
              "    .dataframe tbody tr th:only-of-type {\n",
              "        vertical-align: middle;\n",
              "    }\n",
              "\n",
              "    .dataframe tbody tr th {\n",
              "        vertical-align: top;\n",
              "    }\n",
              "\n",
              "    .dataframe thead th {\n",
              "        text-align: right;\n",
              "    }\n",
              "</style>\n",
              "<table border=\"1\" class=\"dataframe\">\n",
              "  <thead>\n",
              "    <tr style=\"text-align: right;\">\n",
              "      <th></th>\n",
              "      <th>feature</th>\n",
              "      <th>importance</th>\n",
              "      <th>median_salary</th>\n",
              "      <th>over_or_under</th>\n",
              "    </tr>\n",
              "  </thead>\n",
              "  <tbody>\n",
              "    <tr>\n",
              "      <th>31</th>\n",
              "      <td>New York, NY</td>\n",
              "      <td>0.033415</td>\n",
              "      <td>165100.00</td>\n",
              "      <td>1</td>\n",
              "    </tr>\n",
              "    <tr>\n",
              "      <th>316</th>\n",
              "      <td>data</td>\n",
              "      <td>0.010641</td>\n",
              "      <td>122243.85</td>\n",
              "      <td>0</td>\n",
              "    </tr>\n",
              "    <tr>\n",
              "      <th>134</th>\n",
              "      <td>senior</td>\n",
              "      <td>0.010580</td>\n",
              "      <td>133350.00</td>\n",
              "      <td>1</td>\n",
              "    </tr>\n",
              "    <tr>\n",
              "      <th>508</th>\n",
              "      <td>learning</td>\n",
              "      <td>0.010352</td>\n",
              "      <td>136525.00</td>\n",
              "      <td>1</td>\n",
              "    </tr>\n",
              "    <tr>\n",
              "      <th>43</th>\n",
              "      <td>San Francisco, CA</td>\n",
              "      <td>0.010224</td>\n",
              "      <td>185928.00</td>\n",
              "      <td>1</td>\n",
              "    </tr>\n",
              "    <tr>\n",
              "      <th>287</th>\n",
              "      <td>computer</td>\n",
              "      <td>0.008915</td>\n",
              "      <td>157162.50</td>\n",
              "      <td>1</td>\n",
              "    </tr>\n",
              "    <tr>\n",
              "      <th>345</th>\n",
              "      <td>developing</td>\n",
              "      <td>0.008532</td>\n",
              "      <td>95250.00</td>\n",
              "      <td>0</td>\n",
              "    </tr>\n",
              "    <tr>\n",
              "      <th>564</th>\n",
              "      <td>new</td>\n",
              "      <td>0.008377</td>\n",
              "      <td>95250.00</td>\n",
              "      <td>0</td>\n",
              "    </tr>\n",
              "    <tr>\n",
              "      <th>386</th>\n",
              "      <td>experience</td>\n",
              "      <td>0.008340</td>\n",
              "      <td>144462.50</td>\n",
              "      <td>1</td>\n",
              "    </tr>\n",
              "    <tr>\n",
              "      <th>781</th>\n",
              "      <td>using</td>\n",
              "      <td>0.007942</td>\n",
              "      <td>157162.50</td>\n",
              "      <td>1</td>\n",
              "    </tr>\n",
              "    <tr>\n",
              "      <th>517</th>\n",
              "      <td>machine</td>\n",
              "      <td>0.007186</td>\n",
              "      <td>133350.00</td>\n",
              "      <td>1</td>\n",
              "    </tr>\n",
              "    <tr>\n",
              "      <th>551</th>\n",
              "      <td>models</td>\n",
              "      <td>0.007177</td>\n",
              "      <td>159385.00</td>\n",
              "      <td>1</td>\n",
              "    </tr>\n",
              "    <tr>\n",
              "      <th>116</th>\n",
              "      <td>principal</td>\n",
              "      <td>0.007005</td>\n",
              "      <td>165100.00</td>\n",
              "      <td>1</td>\n",
              "    </tr>\n",
              "    <tr>\n",
              "      <th>129</th>\n",
              "      <td>science</td>\n",
              "      <td>0.006921</td>\n",
              "      <td>157162.50</td>\n",
              "      <td>1</td>\n",
              "    </tr>\n",
              "    <tr>\n",
              "      <th>793</th>\n",
              "      <td>visualization</td>\n",
              "      <td>0.006757</td>\n",
              "      <td>88900.00</td>\n",
              "      <td>0</td>\n",
              "    </tr>\n",
              "    <tr>\n",
              "      <th>80</th>\n",
              "      <td>data</td>\n",
              "      <td>0.006326</td>\n",
              "      <td>127000.00</td>\n",
              "      <td>0</td>\n",
              "    </tr>\n",
              "    <tr>\n",
              "      <th>492</th>\n",
              "      <td>knowledge</td>\n",
              "      <td>0.006222</td>\n",
              "      <td>146050.00</td>\n",
              "      <td>1</td>\n",
              "    </tr>\n",
              "    <tr>\n",
              "      <th>543</th>\n",
              "      <td>mining</td>\n",
              "      <td>0.006068</td>\n",
              "      <td>114300.00</td>\n",
              "      <td>0</td>\n",
              "    </tr>\n",
              "    <tr>\n",
              "      <th>804</th>\n",
              "      <td>years</td>\n",
              "      <td>0.006062</td>\n",
              "      <td>135500.00</td>\n",
              "      <td>1</td>\n",
              "    </tr>\n",
              "    <tr>\n",
              "      <th>523</th>\n",
              "      <td>management</td>\n",
              "      <td>0.005436</td>\n",
              "      <td>158582.36</td>\n",
              "      <td>1</td>\n",
              "    </tr>\n",
              "  </tbody>\n",
              "</table>\n",
              "</div>"
            ],
            "text/plain": [
              "               feature  importance  median_salary  over_or_under\n",
              "31        New York, NY    0.033415      165100.00              1\n",
              "316               data    0.010641      122243.85              0\n",
              "134             senior    0.010580      133350.00              1\n",
              "508           learning    0.010352      136525.00              1\n",
              "43   San Francisco, CA    0.010224      185928.00              1\n",
              "287           computer    0.008915      157162.50              1\n",
              "345         developing    0.008532       95250.00              0\n",
              "564                new    0.008377       95250.00              0\n",
              "386         experience    0.008340      144462.50              1\n",
              "781              using    0.007942      157162.50              1\n",
              "517            machine    0.007186      133350.00              1\n",
              "551             models    0.007177      159385.00              1\n",
              "116          principal    0.007005      165100.00              1\n",
              "129            science    0.006921      157162.50              1\n",
              "793      visualization    0.006757       88900.00              0\n",
              "80                data    0.006326      127000.00              0\n",
              "492          knowledge    0.006222      146050.00              1\n",
              "543             mining    0.006068      114300.00              0\n",
              "804              years    0.006062      135500.00              1\n",
              "523         management    0.005436      158582.36              1"
            ]
          },
          "metadata": {
            "tags": []
          },
          "execution_count": 106
        }
      ]
    },
    {
      "cell_type": "code",
      "metadata": {
        "id": "2aWWWWRAkCwn"
      },
      "source": [
        "# header1 = {'Connection': 'keep-alive', 'Upgrade-Insecure-Requests': '1', 'User-Agent': 'Mozilla/5.0 (Windows NT 10.0; Win64; x64) AppleWebKit/537.36 (KHTML, like Gecko) Chrome/83.0.4103.97 Safari/537.36', 'Accept': 'text/html,application/xhtml+xml,application/xml;q=0.9,image/webp,image/apng,*/*;q=0.8,application/signed-exchange;v=b3;q=0.9', 'Sec-Fetch-Site': 'same-origin', 'Sec-Fetch-Mode': 'navigate', 'Sec-Fetch-User': '?1', 'Sec-Fetch-Dest': 'document', 'Referer': 'https://www.google.com/', 'Accept-Encoding': 'gzip, deflate, br', 'Accept-Language': 'en-US,en;q=0.9'}\r\n",
        "# #IGNORE THIS BS\r\n",
        "# header2 = {\r\n",
        "#         \"User-Agent\": \"Mozilla/5.0 (Macintosh; Intel Mac OS X 10.15; rv:77.0) Gecko/20100101 Firefox/77.0\",\r\n",
        "#         \"Accept\": \"text/html,application/xhtml+xml,application/xml;q=0.9,image/webp,*/*;q=0.8\",\r\n",
        "#         \"Accept-Language\": \"en-US,en;q=0.5\",\r\n",
        "#         \"Referer\": \"https://www.google.com/\",\r\n",
        "#         \"DNT\": \"1\",\r\n",
        "#         \"Connection\": \"keep-alive\",\r\n",
        "#         \"Upgrade-Insecure-Requests\": \"1\"\r\n",
        "#           }\r\n",
        "#     # # Firefox 77 Windows\r\n",
        "#     # {\r\n",
        "#     #     \"User-Agent\": \"Mozilla/5.0 (Windows NT 10.0; Win64; x64; rv:77.0) Gecko/20100101 Firefox/77.0\",\r\n",
        "#     #     \"Accept\": \"text/html,application/xhtml+xml,application/xml;q=0.9,image/webp,*/*;q=0.8\",\r\n",
        "#     #     \"Accept-Language\": \"en-US,en;q=0.5\",\r\n",
        "#     #     \"Accept-Encoding\": \"gzip, deflate, br\",\r\n",
        "#     #     \"Referer\": \"https://www.google.com/\",\r\n",
        "#     #     \"DNT\": \"1\",\r\n",
        "#     #     \"Connection\": \"keep-alive\",\r\n",
        "#     #     \"Upgrade-Insecure-Requests\": \"1\"\r\n",
        "#     # },\r\n",
        "#     # # Chrome 83 Mac\r\n",
        "#     # {\r\n",
        "#     #     \"Connection\": \"keep-alive\",\r\n",
        "#     #     \"DNT\": \"1\",\r\n",
        "#     #     \"Upgrade-Insecure-Requests\": \"1\",\r\n",
        "#     #     \"User-Agent\": \"Mozilla/5.0 (Macintosh; Intel Mac OS X 10_15_5) AppleWebKit/537.36 (KHTML, like Gecko) Chrome/83.0.4103.97 Safari/537.36\",\r\n",
        "#     #     \"Accept\": \"text/html,application/xhtml+xml,application/xml;q=0.9,image/webp,image/apng,*/*;q=0.8,application/signed-exchange;v=b3;q=0.9\",\r\n",
        "#     #     \"Sec-Fetch-Site\": \"none\",\r\n",
        "#     #     \"Sec-Fetch-Mode\": \"navigate\",\r\n",
        "#     #     \"Sec-Fetch-Dest\": \"document\",\r\n",
        "#     #     \"Referer\": \"https://www.google.com/\",\r\n",
        "#     #     \"Accept-Encoding\": \"gzip, deflate, br\",\r\n",
        "#     #     \"Accept-Language\": \"en-GB,en-US;q=0.9,en;q=0.8\"\r\n",
        "#     # },\r\n",
        "#     # # Chrome 83 Windows \r\n",
        "#     # {\r\n",
        "#     #     \"Connection\": \"keep-alive\",\r\n",
        "#     #     \"Upgrade-Insecure-Requests\": \"1\",\r\n",
        "#     #     \"User-Agent\": \"Mozilla/5.0 (Windows NT 10.0; Win64; x64) AppleWebKit/537.36 (KHTML, like Gecko) Chrome/83.0.4103.97 Safari/537.36\",\r\n",
        "#     #     \"Accept\": \"text/html,application/xhtml+xml,application/xml;q=0.9,image/webp,image/apng,*/*;q=0.8,application/signed-exchange;v=b3;q=0.9\",\r\n",
        "#     #     \"Sec-Fetch-Site\": \"same-origin\",\r\n",
        "#     #     \"Sec-Fetch-Mode\": \"navigate\",\r\n",
        "#     #     \"Sec-Fetch-User\": \"?1\",\r\n",
        "#     #     \"Sec-Fetch-Dest\": \"document\",\r\n",
        "#     #     \"Referer\": \"https://www.google.com/\",\r\n",
        "#     #     \"Accept-Encoding\": \"gzip, deflate, br\",\r\n",
        "#     #     \"Accept-Language\": \"en-US,en;q=0.9\"\r\n",
        "#     # }\r\n",
        "\r\n",
        "# ordered_headers_list = []\r\n",
        "# for headers in headers_list:\r\n",
        "#     h = OrderedDict()\r\n",
        "#     for header,value in headers.items():\r\n",
        "#         h[header]=value\r\n",
        "#     ordered_headers_list.append(h)"
      ],
      "execution_count": null,
      "outputs": []
    }
  ]
}